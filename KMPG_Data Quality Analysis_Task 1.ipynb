{
 "cells": [
  {
   "cell_type": "markdown",
   "id": "4308b7ba",
   "metadata": {},
   "source": [
    "#### Module Task 1\n",
    "\n",
    "Sprocket Central Pty Ltd , a medium size bikes & cycling accessories organisation, has approached Tony Smith (Partner) in KPMG’s Lighthouse & Innovation Team. Sprocket Central Pty Ltd  is keen to learn more about KPMG’s expertise in its Analytics, Information & Modelling team. Smith discusses KPMG’s expertise in this space (you can read more here). In particular, he speaks about how the team can effectively analyse the datasets to help Sprocket Central Pty Ltd grow its business.Primarily, Sprocket Central Pty Ltd needs help with its customer and transactions data. The organisation has a large dataset relating to its customers, but their team is unsure how to effectively analyse it to help optimise its marketing strategy. \n",
    "\n",
    "The client provided KPMG with 3 datasets:\n",
    "\n",
    "- Customer Demographic \n",
    "- Customer Addresses\n",
    "- Transactions data in the past 3 months\n",
    "\n",
    "You decide to start the preliminary data exploration and identify ways to improve the quality of Sprocket Central Pty Ltd’s data.\n",
    "\n",
    "Objective : To assess the quality of their data; as well as make recommendations on ways to clean the underlying data and mitigate these issues."
   ]
  },
  {
   "cell_type": "code",
   "execution_count": 1,
   "id": "cd466cab",
   "metadata": {},
   "outputs": [],
   "source": [
    "# Import basic libraries\n",
    "\n",
    "import pandas as pd\n",
    "import numpy as np\n",
    "import seaborn as sns\n",
    "import matplotlib.pyplot as plt\n",
    "%matplotlib inline"
   ]
  },
  {
   "cell_type": "markdown",
   "id": "c7e24179",
   "metadata": {},
   "source": [
    "#### Exploring the Transactions dataset"
   ]
  },
  {
   "cell_type": "code",
   "execution_count": 2,
   "id": "5044eec3",
   "metadata": {},
   "outputs": [
    {
     "data": {
      "text/html": [
       "<div><div id=a3ad2c0f-942b-4b85-9bd6-c2e19421b31b style=\"display:none; background-color:#9D6CFF; color:white; width:200px; height:30px; padding-left:5px; border-radius:4px; flex-direction:row; justify-content:space-around; align-items:center;\" onmouseover=\"this.style.backgroundColor='#BA9BF8'\" onmouseout=\"this.style.backgroundColor='#9D6CFF'\" onclick=\"window.commands?.execute('create-mitosheet-from-dataframe-output');\">See Full Dataframe in Mito</div> <script> if (window.commands?.hasCommand('create-mitosheet-from-dataframe-output')) document.getElementById('a3ad2c0f-942b-4b85-9bd6-c2e19421b31b').style.display = 'flex' </script> <table border=\"1\" class=\"dataframe\">\n",
       "  <thead>\n",
       "    <tr style=\"text-align: right;\">\n",
       "      <th></th>\n",
       "      <th>transaction_id</th>\n",
       "      <th>product_id</th>\n",
       "      <th>customer_id</th>\n",
       "      <th>transaction_date</th>\n",
       "      <th>online_order</th>\n",
       "      <th>order_status</th>\n",
       "      <th>brand</th>\n",
       "      <th>product_line</th>\n",
       "      <th>product_class</th>\n",
       "      <th>product_size</th>\n",
       "      <th>list_price</th>\n",
       "      <th>standard_cost</th>\n",
       "      <th>product_first_sold_date</th>\n",
       "    </tr>\n",
       "  </thead>\n",
       "  <tbody>\n",
       "    <tr>\n",
       "      <th>0</th>\n",
       "      <td>1</td>\n",
       "      <td>2</td>\n",
       "      <td>2950</td>\n",
       "      <td>2017-02-25</td>\n",
       "      <td>0.0</td>\n",
       "      <td>Approved</td>\n",
       "      <td>Solex</td>\n",
       "      <td>Standard</td>\n",
       "      <td>medium</td>\n",
       "      <td>medium</td>\n",
       "      <td>71.49</td>\n",
       "      <td>53.62</td>\n",
       "      <td>41245.0</td>\n",
       "    </tr>\n",
       "    <tr>\n",
       "      <th>1</th>\n",
       "      <td>2</td>\n",
       "      <td>3</td>\n",
       "      <td>3120</td>\n",
       "      <td>2017-05-21</td>\n",
       "      <td>1.0</td>\n",
       "      <td>Approved</td>\n",
       "      <td>Trek Bicycles</td>\n",
       "      <td>Standard</td>\n",
       "      <td>medium</td>\n",
       "      <td>large</td>\n",
       "      <td>2091.47</td>\n",
       "      <td>388.92</td>\n",
       "      <td>41701.0</td>\n",
       "    </tr>\n",
       "    <tr>\n",
       "      <th>2</th>\n",
       "      <td>3</td>\n",
       "      <td>37</td>\n",
       "      <td>402</td>\n",
       "      <td>2017-10-16</td>\n",
       "      <td>0.0</td>\n",
       "      <td>Approved</td>\n",
       "      <td>OHM Cycles</td>\n",
       "      <td>Standard</td>\n",
       "      <td>low</td>\n",
       "      <td>medium</td>\n",
       "      <td>1793.43</td>\n",
       "      <td>248.82</td>\n",
       "      <td>36361.0</td>\n",
       "    </tr>\n",
       "    <tr>\n",
       "      <th>3</th>\n",
       "      <td>4</td>\n",
       "      <td>88</td>\n",
       "      <td>3135</td>\n",
       "      <td>2017-08-31</td>\n",
       "      <td>0.0</td>\n",
       "      <td>Approved</td>\n",
       "      <td>Norco Bicycles</td>\n",
       "      <td>Standard</td>\n",
       "      <td>medium</td>\n",
       "      <td>medium</td>\n",
       "      <td>1198.46</td>\n",
       "      <td>381.10</td>\n",
       "      <td>36145.0</td>\n",
       "    </tr>\n",
       "    <tr>\n",
       "      <th>4</th>\n",
       "      <td>5</td>\n",
       "      <td>78</td>\n",
       "      <td>787</td>\n",
       "      <td>2017-10-01</td>\n",
       "      <td>1.0</td>\n",
       "      <td>Approved</td>\n",
       "      <td>Giant Bicycles</td>\n",
       "      <td>Standard</td>\n",
       "      <td>medium</td>\n",
       "      <td>large</td>\n",
       "      <td>1765.30</td>\n",
       "      <td>709.48</td>\n",
       "      <td>42226.0</td>\n",
       "    </tr>\n",
       "  </tbody>\n",
       "</table></div>"
      ],
      "text/plain": [
       "   transaction_id  product_id  customer_id transaction_date  online_order  \\\n",
       "0               1           2         2950       2017-02-25           0.0   \n",
       "1               2           3         3120       2017-05-21           1.0   \n",
       "2               3          37          402       2017-10-16           0.0   \n",
       "3               4          88         3135       2017-08-31           0.0   \n",
       "4               5          78          787       2017-10-01           1.0   \n",
       "\n",
       "  order_status           brand product_line product_class product_size  \\\n",
       "0     Approved           Solex     Standard        medium       medium   \n",
       "1     Approved   Trek Bicycles     Standard        medium        large   \n",
       "2     Approved      OHM Cycles     Standard           low       medium   \n",
       "3     Approved  Norco Bicycles     Standard        medium       medium   \n",
       "4     Approved  Giant Bicycles     Standard        medium        large   \n",
       "\n",
       "   list_price  standard_cost  product_first_sold_date  \n",
       "0       71.49          53.62                  41245.0  \n",
       "1     2091.47         388.92                  41701.0  \n",
       "2     1793.43         248.82                  36361.0  \n",
       "3     1198.46         381.10                  36145.0  \n",
       "4     1765.30         709.48                  42226.0  "
      ]
     },
     "execution_count": 2,
     "metadata": {},
     "output_type": "execute_result"
    }
   ],
   "source": [
    "# Load the dataset\n",
    "\n",
    "transactions_df = pd.read_excel('KPMG_VI_New_raw_data_update_final.xlsx', \n",
    "                        sheet_name='Transactions', header=1)\n",
    "transactions_df.head()"
   ]
  },
  {
   "cell_type": "markdown",
   "id": "b12742bb",
   "metadata": {},
   "source": [
    "#### Analyzing 'Transactions' dataset"
   ]
  },
  {
   "cell_type": "code",
   "execution_count": 3,
   "id": "6d37bf8b",
   "metadata": {},
   "outputs": [
    {
     "name": "stdout",
     "output_type": "stream",
     "text": [
      "Shape of dataset is (20000, 13)\n"
     ]
    }
   ],
   "source": [
    "#Check the dataset shape \n",
    "\n",
    "print('Shape of dataset is {}'.format(transactions_df.shape))"
   ]
  },
  {
   "cell_type": "code",
   "execution_count": 4,
   "id": "6b025b48",
   "metadata": {},
   "outputs": [
    {
     "name": "stdout",
     "output_type": "stream",
     "text": [
      "<class 'pandas.core.frame.DataFrame'>\n",
      "RangeIndex: 20000 entries, 0 to 19999\n",
      "Data columns (total 13 columns):\n",
      " #   Column                   Non-Null Count  Dtype         \n",
      "---  ------                   --------------  -----         \n",
      " 0   transaction_id           20000 non-null  int64         \n",
      " 1   product_id               20000 non-null  int64         \n",
      " 2   customer_id              20000 non-null  int64         \n",
      " 3   transaction_date         20000 non-null  datetime64[ns]\n",
      " 4   online_order             19640 non-null  float64       \n",
      " 5   order_status             20000 non-null  object        \n",
      " 6   brand                    19803 non-null  object        \n",
      " 7   product_line             19803 non-null  object        \n",
      " 8   product_class            19803 non-null  object        \n",
      " 9   product_size             19803 non-null  object        \n",
      " 10  list_price               20000 non-null  float64       \n",
      " 11  standard_cost            19803 non-null  float64       \n",
      " 12  product_first_sold_date  19803 non-null  float64       \n",
      "dtypes: datetime64[ns](1), float64(4), int64(3), object(5)\n",
      "memory usage: 2.0+ MB\n"
     ]
    }
   ],
   "source": [
    "transactions_df.info()"
   ]
  },
  {
   "cell_type": "markdown",
   "id": "cda1fba1",
   "metadata": {},
   "source": [
    "**Observations:**\n",
    "\n",
    "1. There are 13 columns with 20000 rows, with int64, datetime64, float64 and object data types.\n",
    "2. We need to convert 'product_first_sold_date' to datetime format\n",
    "3. We do have missing values, no columns to be dropped, we will replace the missing values."
   ]
  },
  {
   "cell_type": "code",
   "execution_count": 5,
   "id": "fd6788f7",
   "metadata": {},
   "outputs": [],
   "source": [
    "# Convert to datetime\n",
    "\n",
    "from datetime import datetime,date\n",
    "transactions_df['product_first_sold_date'] =pd.to_datetime(transactions_df['product_first_sold_date'],unit='s')"
   ]
  },
  {
   "cell_type": "code",
   "execution_count": 6,
   "id": "4224dc8f",
   "metadata": {},
   "outputs": [
    {
     "data": {
      "text/plain": [
       "0"
      ]
     },
     "execution_count": 6,
     "metadata": {},
     "output_type": "execute_result"
    }
   ],
   "source": [
    "#Check for duplicates\n",
    "\n",
    "transactions_df.duplicated().sum()"
   ]
  },
  {
   "cell_type": "code",
   "execution_count": 7,
   "id": "d1ead336",
   "metadata": {},
   "outputs": [
    {
     "data": {
      "text/html": [
       "<div><div id=9ed08d82-d91c-439f-994c-b3a8eecc5498 style=\"display:none; background-color:#9D6CFF; color:white; width:200px; height:30px; padding-left:5px; border-radius:4px; flex-direction:row; justify-content:space-around; align-items:center;\" onmouseover=\"this.style.backgroundColor='#BA9BF8'\" onmouseout=\"this.style.backgroundColor='#9D6CFF'\" onclick=\"window.commands?.execute('create-mitosheet-from-dataframe-output');\">See Full Dataframe in Mito</div> <script> if (window.commands?.hasCommand('create-mitosheet-from-dataframe-output')) document.getElementById('9ed08d82-d91c-439f-994c-b3a8eecc5498').style.display = 'flex' </script> <table border=\"1\" class=\"dataframe\">\n",
       "  <thead>\n",
       "    <tr style=\"text-align: right;\">\n",
       "      <th></th>\n",
       "      <th>online_order</th>\n",
       "      <th>list_price</th>\n",
       "      <th>standard_cost</th>\n",
       "    </tr>\n",
       "  </thead>\n",
       "  <tbody>\n",
       "    <tr>\n",
       "      <th>mean</th>\n",
       "      <td>0.500458</td>\n",
       "      <td>1107.829449</td>\n",
       "      <td>556.046951</td>\n",
       "    </tr>\n",
       "    <tr>\n",
       "      <th>std</th>\n",
       "      <td>0.500013</td>\n",
       "      <td>582.825242</td>\n",
       "      <td>405.955660</td>\n",
       "    </tr>\n",
       "    <tr>\n",
       "      <th>min</th>\n",
       "      <td>0.000000</td>\n",
       "      <td>12.010000</td>\n",
       "      <td>7.210000</td>\n",
       "    </tr>\n",
       "    <tr>\n",
       "      <th>25%</th>\n",
       "      <td>0.000000</td>\n",
       "      <td>575.270000</td>\n",
       "      <td>215.140000</td>\n",
       "    </tr>\n",
       "    <tr>\n",
       "      <th>50%</th>\n",
       "      <td>1.000000</td>\n",
       "      <td>1163.890000</td>\n",
       "      <td>507.580000</td>\n",
       "    </tr>\n",
       "    <tr>\n",
       "      <th>75%</th>\n",
       "      <td>1.000000</td>\n",
       "      <td>1635.300000</td>\n",
       "      <td>795.100000</td>\n",
       "    </tr>\n",
       "    <tr>\n",
       "      <th>max</th>\n",
       "      <td>1.000000</td>\n",
       "      <td>2091.470000</td>\n",
       "      <td>1759.850000</td>\n",
       "    </tr>\n",
       "  </tbody>\n",
       "</table></div>"
      ],
      "text/plain": [
       "      online_order   list_price  standard_cost\n",
       "mean      0.500458  1107.829449     556.046951\n",
       "std       0.500013   582.825242     405.955660\n",
       "min       0.000000    12.010000       7.210000\n",
       "25%       0.000000   575.270000     215.140000\n",
       "50%       1.000000  1163.890000     507.580000\n",
       "75%       1.000000  1635.300000     795.100000\n",
       "max       1.000000  2091.470000    1759.850000"
      ]
     },
     "execution_count": 7,
     "metadata": {},
     "output_type": "execute_result"
    }
   ],
   "source": [
    "transactions_df.describe().drop('count', axis=0).drop(['transaction_id','product_id','customer_id'], axis=1)"
   ]
  },
  {
   "cell_type": "markdown",
   "id": "2a0856c6",
   "metadata": {},
   "source": [
    "**Observations**\n",
    "1. Min list_price is 12, while min standard_cost is 7.2\n",
    "2. Max list_price is 2091.47 while max standard_cost is 1759.85\n",
    "3. Most of the orders are online orders, 1 denotes online while 0 is not."
   ]
  },
  {
   "cell_type": "code",
   "execution_count": 8,
   "id": "fa3eca4f",
   "metadata": {},
   "outputs": [
    {
     "data": {
      "text/html": [
       "<div><div id=bb728850-6fb1-4642-a855-ade5667a6797 style=\"display:none; background-color:#9D6CFF; color:white; width:200px; height:30px; padding-left:5px; border-radius:4px; flex-direction:row; justify-content:space-around; align-items:center;\" onmouseover=\"this.style.backgroundColor='#BA9BF8'\" onmouseout=\"this.style.backgroundColor='#9D6CFF'\" onclick=\"window.commands?.execute('create-mitosheet-from-dataframe-output');\">See Full Dataframe in Mito</div> <script> if (window.commands?.hasCommand('create-mitosheet-from-dataframe-output')) document.getElementById('bb728850-6fb1-4642-a855-ade5667a6797').style.display = 'flex' </script> <table border=\"1\" class=\"dataframe\">\n",
       "  <thead>\n",
       "    <tr style=\"text-align: right;\">\n",
       "      <th></th>\n",
       "      <th>order_status</th>\n",
       "      <th>brand</th>\n",
       "      <th>product_line</th>\n",
       "      <th>product_class</th>\n",
       "      <th>product_size</th>\n",
       "    </tr>\n",
       "  </thead>\n",
       "  <tbody>\n",
       "    <tr>\n",
       "      <th>unique</th>\n",
       "      <td>2</td>\n",
       "      <td>6</td>\n",
       "      <td>4</td>\n",
       "      <td>3</td>\n",
       "      <td>3</td>\n",
       "    </tr>\n",
       "    <tr>\n",
       "      <th>top</th>\n",
       "      <td>Approved</td>\n",
       "      <td>Solex</td>\n",
       "      <td>Standard</td>\n",
       "      <td>medium</td>\n",
       "      <td>medium</td>\n",
       "    </tr>\n",
       "    <tr>\n",
       "      <th>freq</th>\n",
       "      <td>19821</td>\n",
       "      <td>4253</td>\n",
       "      <td>14176</td>\n",
       "      <td>13826</td>\n",
       "      <td>12990</td>\n",
       "    </tr>\n",
       "  </tbody>\n",
       "</table></div>"
      ],
      "text/plain": [
       "       order_status  brand product_line product_class product_size\n",
       "unique            2      6            4             3            3\n",
       "top        Approved  Solex     Standard        medium       medium\n",
       "freq          19821   4253        14176         13826        12990"
      ]
     },
     "execution_count": 8,
     "metadata": {},
     "output_type": "execute_result"
    }
   ],
   "source": [
    "transactions_df.describe(include='object').drop('count', axis=0)"
   ]
  },
  {
   "cell_type": "markdown",
   "id": "807a5d4f",
   "metadata": {},
   "source": [
    "**Observations**\n",
    "1. Out of 20000 orders, 19821 orders were approved.\n",
    "2. The top brand is Solex\n",
    "3. Most sold: size - medium, for standard use and medium class"
   ]
  },
  {
   "cell_type": "code",
   "execution_count": 9,
   "id": "af9c1968",
   "metadata": {},
   "outputs": [
    {
     "data": {
      "text/html": [
       "<div><div id=90f5dd79-8046-484c-9337-a966b72fa792 style=\"display:none; background-color:#9D6CFF; color:white; width:200px; height:30px; padding-left:5px; border-radius:4px; flex-direction:row; justify-content:space-around; align-items:center;\" onmouseover=\"this.style.backgroundColor='#BA9BF8'\" onmouseout=\"this.style.backgroundColor='#9D6CFF'\" onclick=\"window.commands?.execute('create-mitosheet-from-dataframe-output');\">See Full Dataframe in Mito</div> <script> if (window.commands?.hasCommand('create-mitosheet-from-dataframe-output')) document.getElementById('90f5dd79-8046-484c-9337-a966b72fa792').style.display = 'flex' </script> <table border=\"1\" class=\"dataframe\">\n",
       "  <thead>\n",
       "    <tr style=\"text-align: right;\">\n",
       "      <th></th>\n",
       "      <th>transaction_id</th>\n",
       "      <th>product_id</th>\n",
       "      <th>customer_id</th>\n",
       "      <th>online_order</th>\n",
       "      <th>list_price</th>\n",
       "      <th>standard_cost</th>\n",
       "    </tr>\n",
       "  </thead>\n",
       "  <tbody>\n",
       "    <tr>\n",
       "      <th>mean</th>\n",
       "      <td>10000.500000</td>\n",
       "      <td>45.36465</td>\n",
       "      <td>1738.246050</td>\n",
       "      <td>0.500458</td>\n",
       "      <td>1107.829449</td>\n",
       "      <td>556.046951</td>\n",
       "    </tr>\n",
       "    <tr>\n",
       "      <th>std</th>\n",
       "      <td>5773.647028</td>\n",
       "      <td>30.75359</td>\n",
       "      <td>1011.951046</td>\n",
       "      <td>0.500013</td>\n",
       "      <td>582.825242</td>\n",
       "      <td>405.955660</td>\n",
       "    </tr>\n",
       "    <tr>\n",
       "      <th>min</th>\n",
       "      <td>1.000000</td>\n",
       "      <td>0.00000</td>\n",
       "      <td>1.000000</td>\n",
       "      <td>0.000000</td>\n",
       "      <td>12.010000</td>\n",
       "      <td>7.210000</td>\n",
       "    </tr>\n",
       "    <tr>\n",
       "      <th>25%</th>\n",
       "      <td>5000.750000</td>\n",
       "      <td>18.00000</td>\n",
       "      <td>857.750000</td>\n",
       "      <td>0.000000</td>\n",
       "      <td>575.270000</td>\n",
       "      <td>215.140000</td>\n",
       "    </tr>\n",
       "    <tr>\n",
       "      <th>50%</th>\n",
       "      <td>10000.500000</td>\n",
       "      <td>44.00000</td>\n",
       "      <td>1736.000000</td>\n",
       "      <td>1.000000</td>\n",
       "      <td>1163.890000</td>\n",
       "      <td>507.580000</td>\n",
       "    </tr>\n",
       "    <tr>\n",
       "      <th>75%</th>\n",
       "      <td>15000.250000</td>\n",
       "      <td>72.00000</td>\n",
       "      <td>2613.000000</td>\n",
       "      <td>1.000000</td>\n",
       "      <td>1635.300000</td>\n",
       "      <td>795.100000</td>\n",
       "    </tr>\n",
       "    <tr>\n",
       "      <th>max</th>\n",
       "      <td>20000.000000</td>\n",
       "      <td>100.00000</td>\n",
       "      <td>5034.000000</td>\n",
       "      <td>1.000000</td>\n",
       "      <td>2091.470000</td>\n",
       "      <td>1759.850000</td>\n",
       "    </tr>\n",
       "  </tbody>\n",
       "</table></div>"
      ],
      "text/plain": [
       "      transaction_id  product_id  customer_id  online_order   list_price  \\\n",
       "mean    10000.500000    45.36465  1738.246050      0.500458  1107.829449   \n",
       "std      5773.647028    30.75359  1011.951046      0.500013   582.825242   \n",
       "min         1.000000     0.00000     1.000000      0.000000    12.010000   \n",
       "25%      5000.750000    18.00000   857.750000      0.000000   575.270000   \n",
       "50%     10000.500000    44.00000  1736.000000      1.000000  1163.890000   \n",
       "75%     15000.250000    72.00000  2613.000000      1.000000  1635.300000   \n",
       "max     20000.000000   100.00000  5034.000000      1.000000  2091.470000   \n",
       "\n",
       "      standard_cost  \n",
       "mean     556.046951  \n",
       "std      405.955660  \n",
       "min        7.210000  \n",
       "25%      215.140000  \n",
       "50%      507.580000  \n",
       "75%      795.100000  \n",
       "max     1759.850000  "
      ]
     },
     "execution_count": 9,
     "metadata": {},
     "output_type": "execute_result"
    }
   ],
   "source": [
    "transactions_df.describe().drop('count', axis=0)"
   ]
  },
  {
   "cell_type": "code",
   "execution_count": 10,
   "id": "fb0ed2d3",
   "metadata": {},
   "outputs": [
    {
     "data": {
      "text/plain": [
       "transaction_id             0.0\n",
       "product_id                 0.0\n",
       "customer_id                0.0\n",
       "transaction_date           0.0\n",
       "online_order               1.8\n",
       "order_status               0.0\n",
       "brand                      1.0\n",
       "product_line               1.0\n",
       "product_class              1.0\n",
       "product_size               1.0\n",
       "list_price                 0.0\n",
       "standard_cost              1.0\n",
       "product_first_sold_date    1.0\n",
       "dtype: float64"
      ]
     },
     "execution_count": 10,
     "metadata": {},
     "output_type": "execute_result"
    }
   ],
   "source": [
    "# Handling the missing values:\n",
    "\n",
    "round(transactions_df.isna().sum()/len(transactions_df),3)*100"
   ]
  },
  {
   "cell_type": "markdown",
   "id": "ea76eac4",
   "metadata": {},
   "source": [
    "**Since the missing values are less than 1 percent, we will fill those values either with mode or other missing value handling techniques like KNN or so.** "
   ]
  },
  {
   "cell_type": "code",
   "execution_count": null,
   "id": "ea9a7390",
   "metadata": {},
   "outputs": [],
   "source": [
    "# "
   ]
  },
  {
   "cell_type": "code",
   "execution_count": 11,
   "id": "67b0e237",
   "metadata": {},
   "outputs": [],
   "source": [
    "def value_counts (df):\n",
    "    for col in df.columns:\n",
    "        print(\"{}\\n\".format(df[col].value_counts()))"
   ]
  },
  {
   "cell_type": "code",
   "execution_count": 12,
   "id": "f9d796b2",
   "metadata": {},
   "outputs": [
    {
     "name": "stdout",
     "output_type": "stream",
     "text": [
      "1        1\n",
      "13331    1\n",
      "13338    1\n",
      "13337    1\n",
      "13336    1\n",
      "        ..\n",
      "6667     1\n",
      "6666     1\n",
      "6665     1\n",
      "6664     1\n",
      "20000    1\n",
      "Name: transaction_id, Length: 20000, dtype: int64\n",
      "\n",
      "0      1378\n",
      "3       354\n",
      "1       311\n",
      "35      268\n",
      "38      267\n",
      "       ... \n",
      "71      137\n",
      "8       136\n",
      "16      136\n",
      "100     130\n",
      "47      121\n",
      "Name: product_id, Length: 101, dtype: int64\n",
      "\n",
      "2183    14\n",
      "2476    14\n",
      "1068    14\n",
      "1672    13\n",
      "2912    13\n",
      "        ..\n",
      "898      1\n",
      "2352     1\n",
      "1846     1\n",
      "3279     1\n",
      "1757     1\n",
      "Name: customer_id, Length: 3494, dtype: int64\n",
      "\n",
      "2017-02-14    82\n",
      "2017-08-18    82\n",
      "2017-10-15    76\n",
      "2017-01-31    73\n",
      "2017-12-19    71\n",
      "              ..\n",
      "2017-01-12    38\n",
      "2017-12-07    37\n",
      "2017-03-29    36\n",
      "2017-09-25    35\n",
      "2017-10-19    32\n",
      "Name: transaction_date, Length: 364, dtype: int64\n",
      "\n",
      "1.0    9829\n",
      "0.0    9811\n",
      "Name: online_order, dtype: int64\n",
      "\n",
      "Approved     19821\n",
      "Cancelled      179\n",
      "Name: order_status, dtype: int64\n",
      "\n",
      "Solex             4253\n",
      "Giant Bicycles    3312\n",
      "WeareA2B          3295\n",
      "OHM Cycles        3043\n",
      "Trek Bicycles     2990\n",
      "Norco Bicycles    2910\n",
      "Name: brand, dtype: int64\n",
      "\n",
      "Standard    14176\n",
      "Road         3970\n",
      "Touring      1234\n",
      "Mountain      423\n",
      "Name: product_line, dtype: int64\n",
      "\n",
      "medium    13826\n",
      "high       3013\n",
      "low        2964\n",
      "Name: product_class, dtype: int64\n",
      "\n",
      "medium    12990\n",
      "large      3976\n",
      "small      2837\n",
      "Name: product_size, dtype: int64\n",
      "\n",
      "2091.47    465\n",
      "1403.50    396\n",
      "71.49      274\n",
      "1231.15    235\n",
      "1890.39    233\n",
      "          ... \n",
      "56.21        1\n",
      "126.36       1\n",
      "1300.96      1\n",
      "1697.27      1\n",
      "867.92       1\n",
      "Name: list_price, Length: 296, dtype: int64\n",
      "\n",
      "388.920000    465\n",
      "954.820000    396\n",
      "53.620000     274\n",
      "161.600000    235\n",
      "260.140000    233\n",
      "             ... \n",
      "151.960000    124\n",
      "206.350000    114\n",
      "312.735016      1\n",
      "270.299988      1\n",
      "667.400024      1\n",
      "Name: standard_cost, Length: 103, dtype: int64\n",
      "\n",
      "1970-01-01 09:24:39    234\n",
      "1970-01-01 11:24:24    229\n",
      "1970-01-01 10:30:23    227\n",
      "1970-01-01 11:04:40    222\n",
      "1970-01-01 10:36:56    220\n",
      "                      ... \n",
      "1970-01-01 11:37:28    169\n",
      "1970-01-01 11:46:44    168\n",
      "1970-01-01 11:38:42    166\n",
      "1970-01-01 10:27:39    163\n",
      "1970-01-01 09:36:26    162\n",
      "Name: product_first_sold_date, Length: 100, dtype: int64\n",
      "\n"
     ]
    }
   ],
   "source": [
    "value_counts(transactions_df)"
   ]
  },
  {
   "cell_type": "code",
   "execution_count": 13,
   "id": "d7abde83",
   "metadata": {},
   "outputs": [
    {
     "data": {
      "text/plain": [
       "<AxesSubplot:xlabel='count', ylabel='product_size'>"
      ]
     },
     "execution_count": 13,
     "metadata": {},
     "output_type": "execute_result"
    },
    {
     "data": {
      "image/png": "[encoded data removed]",
      "text/plain": [
       "<Figure size 1800x1500 with 6 Axes>"
      ]
     },
     "metadata": {},
     "output_type": "display_data"
    }
   ],
   "source": [
    "#Lets plot graphs for categorical data type\n",
    "\n",
    "fig, axes = plt.subplots(3,2)\n",
    "fig.suptitle('Visualization for categorical variables')\n",
    "plt.gcf().set_size_inches(18, 15)\n",
    "fig.tight_layout(pad=4.0)\n",
    "\n",
    "sns.countplot(ax=axes[0,0], y = transactions_df['online_order'], data=transactions_df, palette='ch:s=.25,rot=-.25')\n",
    "sns.countplot(ax=axes[0,1], y = transactions_df['order_status'],data=transactions_df, palette=\"dark:#5A9_r\")\n",
    "sns.countplot(ax=axes[1,0], y = transactions_df['brand'],data=transactions_df, palette=\"dark:#5A9_r\")\n",
    "sns.countplot(ax=axes[1,1], y = transactions_df['product_line'],data=transactions_df,palette=\"ch:s=.25,rot=-.25\")\n",
    "sns.countplot(ax=axes[2,0], y = transactions_df['product_class'],data=transactions_df,palette=\"ch:s=.25,rot=-.25\")\n",
    "sns.countplot(ax=axes[2,1], y = transactions_df['product_size'],data=transactions_df,palette=\"dark:#5A9_r\")"
   ]
  },
  {
   "cell_type": "markdown",
   "id": "6a949c79",
   "metadata": {},
   "source": [
    "#### Customer Demographic dataset"
   ]
  },
  {
   "cell_type": "code",
   "execution_count": 14,
   "id": "9d9270f9",
   "metadata": {},
   "outputs": [
    {
     "name": "stderr",
     "output_type": "stream",
     "text": [
      "C:\\Users\\Nima\\AppData\\Local\\Temp\\ipykernel_28256\\4088483830.py:3: FutureWarning: Inferring datetime64[ns] from data containing strings is deprecated and will be removed in a future version. To retain the old behavior explicitly pass Series(data, dtype=datetime64[ns])\n",
      "  cust_demo_df = pd.read_excel('KPMG_VI_New_raw_data_update_final.xlsx',\n"
     ]
    },
    {
     "data": {
      "text/html": [
       "<div><div id=cd3de3a4-c081-4608-b67b-89975c7004e8 style=\"display:none; background-color:#9D6CFF; color:white; width:200px; height:30px; padding-left:5px; border-radius:4px; flex-direction:row; justify-content:space-around; align-items:center;\" onmouseover=\"this.style.backgroundColor='#BA9BF8'\" onmouseout=\"this.style.backgroundColor='#9D6CFF'\" onclick=\"window.commands?.execute('create-mitosheet-from-dataframe-output');\">See Full Dataframe in Mito</div> <script> if (window.commands?.hasCommand('create-mitosheet-from-dataframe-output')) document.getElementById('cd3de3a4-c081-4608-b67b-89975c7004e8').style.display = 'flex' </script> <table border=\"1\" class=\"dataframe\">\n",
       "  <thead>\n",
       "    <tr style=\"text-align: right;\">\n",
       "      <th></th>\n",
       "      <th>customer_id</th>\n",
       "      <th>first_name</th>\n",
       "      <th>last_name</th>\n",
       "      <th>gender</th>\n",
       "      <th>past_3_years_bike_related_purchases</th>\n",
       "      <th>DOB</th>\n",
       "      <th>job_title</th>\n",
       "      <th>job_industry_category</th>\n",
       "      <th>wealth_segment</th>\n",
       "      <th>deceased_indicator</th>\n",
       "      <th>default</th>\n",
       "      <th>owns_car</th>\n",
       "      <th>tenure</th>\n",
       "    </tr>\n",
       "  </thead>\n",
       "  <tbody>\n",
       "    <tr>\n",
       "      <th>0</th>\n",
       "      <td>1</td>\n",
       "      <td>Laraine</td>\n",
       "      <td>Medendorp</td>\n",
       "      <td>F</td>\n",
       "      <td>93</td>\n",
       "      <td>1953-10-12</td>\n",
       "      <td>Executive Secretary</td>\n",
       "      <td>Health</td>\n",
       "      <td>Mass Customer</td>\n",
       "      <td>N</td>\n",
       "      <td>\"'</td>\n",
       "      <td>Yes</td>\n",
       "      <td>11.0</td>\n",
       "    </tr>\n",
       "    <tr>\n",
       "      <th>1</th>\n",
       "      <td>2</td>\n",
       "      <td>Eli</td>\n",
       "      <td>Bockman</td>\n",
       "      <td>Male</td>\n",
       "      <td>81</td>\n",
       "      <td>1980-12-16</td>\n",
       "      <td>Administrative Officer</td>\n",
       "      <td>Financial Services</td>\n",
       "      <td>Mass Customer</td>\n",
       "      <td>N</td>\n",
       "      <td>&lt;script&gt;alert('hi')&lt;/script&gt;</td>\n",
       "      <td>Yes</td>\n",
       "      <td>16.0</td>\n",
       "    </tr>\n",
       "    <tr>\n",
       "      <th>2</th>\n",
       "      <td>3</td>\n",
       "      <td>Arlin</td>\n",
       "      <td>Dearle</td>\n",
       "      <td>Male</td>\n",
       "      <td>61</td>\n",
       "      <td>1954-01-20</td>\n",
       "      <td>Recruiting Manager</td>\n",
       "      <td>Property</td>\n",
       "      <td>Mass Customer</td>\n",
       "      <td>N</td>\n",
       "      <td>2018-02-01 00:00:00</td>\n",
       "      <td>Yes</td>\n",
       "      <td>15.0</td>\n",
       "    </tr>\n",
       "    <tr>\n",
       "      <th>3</th>\n",
       "      <td>4</td>\n",
       "      <td>Talbot</td>\n",
       "      <td>NaN</td>\n",
       "      <td>Male</td>\n",
       "      <td>33</td>\n",
       "      <td>1961-10-03</td>\n",
       "      <td>NaN</td>\n",
       "      <td>IT</td>\n",
       "      <td>Mass Customer</td>\n",
       "      <td>N</td>\n",
       "      <td>() { _; } &gt;_[$($())] { touch /tmp/blns.shellshock2.fail; }</td>\n",
       "      <td>No</td>\n",
       "      <td>7.0</td>\n",
       "    </tr>\n",
       "    <tr>\n",
       "      <th>4</th>\n",
       "      <td>5</td>\n",
       "      <td>Sheila-kathryn</td>\n",
       "      <td>Calton</td>\n",
       "      <td>Female</td>\n",
       "      <td>56</td>\n",
       "      <td>1977-05-13</td>\n",
       "      <td>Senior Editor</td>\n",
       "      <td>NaN</td>\n",
       "      <td>Affluent Customer</td>\n",
       "      <td>N</td>\n",
       "      <td>NIL</td>\n",
       "      <td>Yes</td>\n",
       "      <td>8.0</td>\n",
       "    </tr>\n",
       "  </tbody>\n",
       "</table></div>"
      ],
      "text/plain": [
       "   customer_id      first_name  last_name  gender  \\\n",
       "0            1         Laraine  Medendorp       F   \n",
       "1            2             Eli    Bockman    Male   \n",
       "2            3           Arlin     Dearle    Male   \n",
       "3            4          Talbot        NaN    Male   \n",
       "4            5  Sheila-kathryn     Calton  Female   \n",
       "\n",
       "   past_3_years_bike_related_purchases        DOB               job_title  \\\n",
       "0                                   93 1953-10-12     Executive Secretary   \n",
       "1                                   81 1980-12-16  Administrative Officer   \n",
       "2                                   61 1954-01-20      Recruiting Manager   \n",
       "3                                   33 1961-10-03                     NaN   \n",
       "4                                   56 1977-05-13           Senior Editor   \n",
       "\n",
       "  job_industry_category     wealth_segment deceased_indicator  \\\n",
       "0                Health      Mass Customer                  N   \n",
       "1    Financial Services      Mass Customer                  N   \n",
       "2              Property      Mass Customer                  N   \n",
       "3                    IT      Mass Customer                  N   \n",
       "4                   NaN  Affluent Customer                  N   \n",
       "\n",
       "                                             default owns_car  tenure  \n",
       "0                                                 \"'      Yes    11.0  \n",
       "1                       <script>alert('hi')</script>      Yes    16.0  \n",
       "2                                2018-02-01 00:00:00      Yes    15.0  \n",
       "3  () { _; } >_[$($())] { touch /tmp/blns.shellsh...       No     7.0  \n",
       "4                                                NIL      Yes     8.0  "
      ]
     },
     "execution_count": 14,
     "metadata": {},
     "output_type": "execute_result"
    }
   ],
   "source": [
    "# Load the dataset\n",
    "\n",
    "cust_demo_df = pd.read_excel('KPMG_VI_New_raw_data_update_final.xlsx', \n",
    "                        sheet_name='CustomerDemographic', header=1)\n",
    "cust_demo_df.head()"
   ]
  },
  {
   "cell_type": "markdown",
   "id": "bdc0a8f3",
   "metadata": {},
   "source": [
    "#### Analyzing 'CustomerDemographic' dataset"
   ]
  },
  {
   "cell_type": "code",
   "execution_count": 15,
   "id": "caf31592",
   "metadata": {},
   "outputs": [
    {
     "name": "stdout",
     "output_type": "stream",
     "text": [
      "Shape of dataset is (4000, 13)\n"
     ]
    }
   ],
   "source": [
    "#Check the dataset shape \n",
    "\n",
    "print('Shape of dataset is {}'.format(cust_demo_df.shape))"
   ]
  },
  {
   "cell_type": "code",
   "execution_count": 16,
   "id": "8f0b9bde",
   "metadata": {},
   "outputs": [
    {
     "name": "stdout",
     "output_type": "stream",
     "text": [
      "<class 'pandas.core.frame.DataFrame'>\n",
      "RangeIndex: 4000 entries, 0 to 3999\n",
      "Data columns (total 13 columns):\n",
      " #   Column                               Non-Null Count  Dtype         \n",
      "---  ------                               --------------  -----         \n",
      " 0   customer_id                          4000 non-null   int64         \n",
      " 1   first_name                           4000 non-null   object        \n",
      " 2   last_name                            3875 non-null   object        \n",
      " 3   gender                               4000 non-null   object        \n",
      " 4   past_3_years_bike_related_purchases  4000 non-null   int64         \n",
      " 5   DOB                                  3913 non-null   datetime64[ns]\n",
      " 6   job_title                            3494 non-null   object        \n",
      " 7   job_industry_category                3344 non-null   object        \n",
      " 8   wealth_segment                       4000 non-null   object        \n",
      " 9   deceased_indicator                   4000 non-null   object        \n",
      " 10  default                              3698 non-null   object        \n",
      " 11  owns_car                             4000 non-null   object        \n",
      " 12  tenure                               3913 non-null   float64       \n",
      "dtypes: datetime64[ns](1), float64(1), int64(2), object(9)\n",
      "memory usage: 406.4+ KB\n"
     ]
    }
   ],
   "source": [
    "cust_demo_df.info()"
   ]
  },
  {
   "cell_type": "markdown",
   "id": "36ca69a6",
   "metadata": {},
   "source": [
    "**Observations**\n",
    "1. There are 4000 rows with 13 columns, data types are datetime, float, int and object.\n",
    "2. There are some missing values, will be further investigated later on.\n",
    "3. We can probably derive age out of 'DOB' column"
   ]
  },
  {
   "cell_type": "code",
   "execution_count": 17,
   "id": "4fa0bdc7",
   "metadata": {},
   "outputs": [
    {
     "data": {
      "text/plain": [
       "customer_id                             0.00\n",
       "first_name                              0.00\n",
       "last_name                               3.12\n",
       "gender                                  0.00\n",
       "past_3_years_bike_related_purchases     0.00\n",
       "DOB                                     2.17\n",
       "job_title                              12.65\n",
       "job_industry_category                  16.40\n",
       "wealth_segment                          0.00\n",
       "deceased_indicator                      0.00\n",
       "default                                 7.55\n",
       "owns_car                                0.00\n",
       "tenure                                  2.17\n",
       "dtype: float64"
      ]
     },
     "execution_count": 17,
     "metadata": {},
     "output_type": "execute_result"
    }
   ],
   "source": [
    "# Overview of the missing values:\n",
    "\n",
    "round((cust_demo_df.isna().sum()/len(cust_demo_df)*100),2)"
   ]
  },
  {
   "cell_type": "code",
   "execution_count": 18,
   "id": "59689b03",
   "metadata": {},
   "outputs": [
    {
     "data": {
      "text/plain": [
       "0"
      ]
     },
     "execution_count": 18,
     "metadata": {},
     "output_type": "execute_result"
    }
   ],
   "source": [
    "#Check for duplicates\n",
    "\n",
    "cust_demo_df.duplicated().sum()"
   ]
  },
  {
   "cell_type": "code",
   "execution_count": 19,
   "id": "8a8512e2",
   "metadata": {},
   "outputs": [
    {
     "data": {
      "text/html": [
       "<div><div id=940c6fa6-a929-48e2-b31b-c7de35157cab style=\"display:none; background-color:#9D6CFF; color:white; width:200px; height:30px; padding-left:5px; border-radius:4px; flex-direction:row; justify-content:space-around; align-items:center;\" onmouseover=\"this.style.backgroundColor='#BA9BF8'\" onmouseout=\"this.style.backgroundColor='#9D6CFF'\" onclick=\"window.commands?.execute('create-mitosheet-from-dataframe-output');\">See Full Dataframe in Mito</div> <script> if (window.commands?.hasCommand('create-mitosheet-from-dataframe-output')) document.getElementById('940c6fa6-a929-48e2-b31b-c7de35157cab').style.display = 'flex' </script> <table border=\"1\" class=\"dataframe\">\n",
       "  <thead>\n",
       "    <tr style=\"text-align: right;\">\n",
       "      <th></th>\n",
       "      <th>gender</th>\n",
       "      <th>job_title</th>\n",
       "      <th>job_industry_category</th>\n",
       "      <th>wealth_segment</th>\n",
       "      <th>deceased_indicator</th>\n",
       "      <th>default</th>\n",
       "      <th>owns_car</th>\n",
       "    </tr>\n",
       "  </thead>\n",
       "  <tbody>\n",
       "    <tr>\n",
       "      <th>unique</th>\n",
       "      <td>6</td>\n",
       "      <td>195</td>\n",
       "      <td>9</td>\n",
       "      <td>3</td>\n",
       "      <td>2</td>\n",
       "      <td>90</td>\n",
       "      <td>2</td>\n",
       "    </tr>\n",
       "    <tr>\n",
       "      <th>top</th>\n",
       "      <td>Female</td>\n",
       "      <td>Business Systems Development Analyst</td>\n",
       "      <td>Manufacturing</td>\n",
       "      <td>Mass Customer</td>\n",
       "      <td>N</td>\n",
       "      <td>100</td>\n",
       "      <td>Yes</td>\n",
       "    </tr>\n",
       "    <tr>\n",
       "      <th>freq</th>\n",
       "      <td>2037</td>\n",
       "      <td>45</td>\n",
       "      <td>799</td>\n",
       "      <td>2000</td>\n",
       "      <td>3998</td>\n",
       "      <td>113</td>\n",
       "      <td>2024</td>\n",
       "    </tr>\n",
       "  </tbody>\n",
       "</table></div>"
      ],
      "text/plain": [
       "        gender                             job_title job_industry_category  \\\n",
       "unique       6                                   195                     9   \n",
       "top     Female  Business Systems Development Analyst         Manufacturing   \n",
       "freq      2037                                    45                   799   \n",
       "\n",
       "       wealth_segment deceased_indicator  default owns_car  \n",
       "unique              3                  2       90        2  \n",
       "top     Mass Customer                  N      100      Yes  \n",
       "freq             2000               3998      113     2024  "
      ]
     },
     "execution_count": 19,
     "metadata": {},
     "output_type": "execute_result"
    }
   ],
   "source": [
    "cust_demo_df.describe(include='object').drop(['first_name', 'last_name'], axis=1).drop('count', axis=0)"
   ]
  },
  {
   "cell_type": "markdown",
   "id": "1b56ed24",
   "metadata": {},
   "source": [
    "**Observations**\n",
    "1. We need to replace the values int the gender column as there should be 'female' or 'male', not 6 unique values.\n",
    "2. There are 195 different job title in the customer database, with 'Business Systems Development Analyst' being the highly occuring job title.\n",
    "3. 9 Job industry categories, 'Manufacturing' being the most occuring.\n",
    "4. The 'wealth segment', 'deceased_indicator','default'and 'owns-car' columsn should be further investigated."
   ]
  },
  {
   "cell_type": "code",
   "execution_count": 20,
   "id": "3f616184",
   "metadata": {},
   "outputs": [],
   "source": [
    "# Create \"age\" column\n",
    " \n",
    "# This function converts given date to age\n",
    "\n",
    "def age(born):\n",
    "    born = pd.to_datetime(born)\n",
    "    today = date.today()\n",
    "    return today.year - born.year - ((today.month, \n",
    "                                      today.day) < (born.month, \n",
    "                                                    born.day))\n",
    "   \n",
    "cust_demo_df['age'] = cust_demo_df['DOB'].apply(age)"
   ]
  },
  {
   "cell_type": "code",
   "execution_count": 21,
   "id": "083022d4",
   "metadata": {},
   "outputs": [],
   "source": [
    "cust_demo_df.drop('DOB',axis=1, inplace=True)"
   ]
  },
  {
   "cell_type": "code",
   "execution_count": 22,
   "id": "b55dc3d7",
   "metadata": {},
   "outputs": [
    {
     "data": {
      "text/html": [
       "<div><div id=4524f43a-ee45-4c36-ac2f-58572637bac5 style=\"display:none; background-color:#9D6CFF; color:white; width:200px; height:30px; padding-left:5px; border-radius:4px; flex-direction:row; justify-content:space-around; align-items:center;\" onmouseover=\"this.style.backgroundColor='#BA9BF8'\" onmouseout=\"this.style.backgroundColor='#9D6CFF'\" onclick=\"window.commands?.execute('create-mitosheet-from-dataframe-output');\">See Full Dataframe in Mito</div> <script> if (window.commands?.hasCommand('create-mitosheet-from-dataframe-output')) document.getElementById('4524f43a-ee45-4c36-ac2f-58572637bac5').style.display = 'flex' </script> <table border=\"1\" class=\"dataframe\">\n",
       "  <thead>\n",
       "    <tr style=\"text-align: right;\">\n",
       "      <th></th>\n",
       "      <th>customer_id</th>\n",
       "      <th>first_name</th>\n",
       "      <th>last_name</th>\n",
       "      <th>gender</th>\n",
       "      <th>past_3_years_bike_related_purchases</th>\n",
       "      <th>job_title</th>\n",
       "      <th>job_industry_category</th>\n",
       "      <th>wealth_segment</th>\n",
       "      <th>deceased_indicator</th>\n",
       "      <th>default</th>\n",
       "      <th>owns_car</th>\n",
       "      <th>tenure</th>\n",
       "      <th>age</th>\n",
       "    </tr>\n",
       "  </thead>\n",
       "  <tbody>\n",
       "    <tr>\n",
       "      <th>2185</th>\n",
       "      <td>2186</td>\n",
       "      <td>Carolina</td>\n",
       "      <td>Sexty</td>\n",
       "      <td>Female</td>\n",
       "      <td>61</td>\n",
       "      <td>Clinical Specialist</td>\n",
       "      <td>Health</td>\n",
       "      <td>High Net Worth</td>\n",
       "      <td>N</td>\n",
       "      <td>ï½ï½¨(Â´âï½â©</td>\n",
       "      <td>No</td>\n",
       "      <td>5.0</td>\n",
       "      <td>59</td>\n",
       "    </tr>\n",
       "    <tr>\n",
       "      <th>3877</th>\n",
       "      <td>3878</td>\n",
       "      <td>Waldon</td>\n",
       "      <td>Digges</td>\n",
       "      <td>Male</td>\n",
       "      <td>99</td>\n",
       "      <td>Programmer III</td>\n",
       "      <td>NaN</td>\n",
       "      <td>Mass Customer</td>\n",
       "      <td>N</td>\n",
       "      <td>ï¾ï½¥â¿ã¾â²(ï½¡ââ¿âï½¡)â±â¿ï½¥ï¾</td>\n",
       "      <td>No</td>\n",
       "      <td>9.0</td>\n",
       "      <td>44</td>\n",
       "    </tr>\n",
       "  </tbody>\n",
       "</table></div>"
      ],
      "text/plain": [
       "      customer_id first_name last_name  gender  \\\n",
       "2185         2186   Carolina     Sexty  Female   \n",
       "3877         3878     Waldon    Digges    Male   \n",
       "\n",
       "      past_3_years_bike_related_purchases            job_title  \\\n",
       "2185                                   61  Clinical Specialist   \n",
       "3877                                   99       Programmer III   \n",
       "\n",
       "     job_industry_category  wealth_segment deceased_indicator  \\\n",
       "2185                Health  High Net Worth                  N   \n",
       "3877                   NaN   Mass Customer                  N   \n",
       "\n",
       "                               default owns_car  tenure  age  \n",
       "2185                     ï½ï½¨(Â´âï½â©       No     5.0   59  \n",
       "3877  ï¾ï½¥â¿ã¾â²(ï½¡ââ¿âï½¡)â±â¿ï½¥ï¾       No     9.0   44  "
      ]
     },
     "execution_count": 22,
     "metadata": {},
     "output_type": "execute_result"
    }
   ],
   "source": [
    "\n",
    "cust_demo_df['age'] = cust_demo_df['age'].fillna(cust_demo_df['age'].mode()[0])\n",
    "cust_demo_df['age'] = cust_demo_df['age'].astype(int) \n",
    "cust_demo_df.sample(2)"
   ]
  },
  {
   "cell_type": "code",
   "execution_count": 23,
   "id": "a964dbd9",
   "metadata": {},
   "outputs": [
    {
     "name": "stdout",
     "output_type": "stream",
     "text": [
      "1       1\n",
      "2672    1\n",
      "2659    1\n",
      "2660    1\n",
      "2661    1\n",
      "       ..\n",
      "1339    1\n",
      "1340    1\n",
      "1341    1\n",
      "1342    1\n",
      "4000    1\n",
      "Name: customer_id, Length: 4000, dtype: int64\n",
      "\n",
      "Max         5\n",
      "Tobe        5\n",
      "Timmie      5\n",
      "Kippy       4\n",
      "Pail        4\n",
      "           ..\n",
      "Katy        1\n",
      "Hakim       1\n",
      "Fanchon     1\n",
      "Jeanette    1\n",
      "Sarene      1\n",
      "Name: first_name, Length: 3139, dtype: int64\n",
      "\n",
      "Pristnor     3\n",
      "Ramsdell     3\n",
      "Eager        2\n",
      "Zisneros     2\n",
      "Dredge       2\n",
      "            ..\n",
      "Whittock     1\n",
      "Carwithen    1\n",
      "Blas         1\n",
      "Dearlove     1\n",
      "Oldland      1\n",
      "Name: last_name, Length: 3725, dtype: int64\n",
      "\n",
      "Female    2037\n",
      "Male      1872\n",
      "U           88\n",
      "F            1\n",
      "Femal        1\n",
      "M            1\n",
      "Name: gender, dtype: int64\n",
      "\n",
      "16    56\n",
      "19    56\n",
      "67    54\n",
      "20    54\n",
      "2     50\n",
      "      ..\n",
      "8     28\n",
      "95    27\n",
      "85    27\n",
      "86    27\n",
      "92    24\n",
      "Name: past_3_years_bike_related_purchases, Length: 100, dtype: int64\n",
      "\n",
      "Business Systems Development Analyst    45\n",
      "Tax Accountant                          44\n",
      "Social Worker                           44\n",
      "Internal Auditor                        42\n",
      "Recruiting Manager                      41\n",
      "                                        ..\n",
      "Database Administrator I                 4\n",
      "Health Coach I                           3\n",
      "Health Coach III                         3\n",
      "Research Assistant III                   3\n",
      "Developer I                              1\n",
      "Name: job_title, Length: 195, dtype: int64\n",
      "\n",
      "Manufacturing         799\n",
      "Financial Services    774\n",
      "Health                602\n",
      "Retail                358\n",
      "Property              267\n",
      "IT                    223\n",
      "Entertainment         136\n",
      "Argiculture           113\n",
      "Telecommunications     72\n",
      "Name: job_industry_category, dtype: int64\n",
      "\n",
      "Mass Customer        2000\n",
      "High Net Worth       1021\n",
      "Affluent Customer     979\n",
      "Name: wealth_segment, dtype: int64\n",
      "\n",
      "N    3998\n",
      "Y       2\n",
      "Name: deceased_indicator, dtype: int64\n",
      "\n",
      "100                                       113\n",
      "1                                         112\n",
      "-1                                        111\n",
      "-100                                       99\n",
      "Ù¡Ù¢Ù£                                     53\n",
      "                                         ... \n",
      "testâ testâ«                               31\n",
      "/dev/null; touch /tmp/blns.fail ; echo     30\n",
      "âªâªtestâª                                 29\n",
      "ì¸ëë°í ë¥´                                 27\n",
      ",ãã»:*:ã»ãâ( â» Ï â» )ãã»:*:ã»ãâ           25\n",
      "Name: default, Length: 90, dtype: int64\n",
      "\n",
      "Yes    2024\n",
      "No     1976\n",
      "Name: owns_car, dtype: int64\n",
      "\n",
      "7.0     235\n",
      "5.0     228\n",
      "11.0    221\n",
      "10.0    218\n",
      "16.0    215\n",
      "8.0     211\n",
      "18.0    208\n",
      "12.0    202\n",
      "9.0     200\n",
      "14.0    200\n",
      "6.0     192\n",
      "13.0    191\n",
      "4.0     191\n",
      "17.0    182\n",
      "15.0    179\n",
      "1.0     166\n",
      "3.0     160\n",
      "19.0    159\n",
      "2.0     150\n",
      "20.0     96\n",
      "22.0     55\n",
      "21.0     54\n",
      "Name: tenure, dtype: int64\n",
      "\n",
      "45     299\n",
      "44     211\n",
      "46     152\n",
      "48     151\n",
      "49     126\n",
      "42     121\n",
      "47     116\n",
      "43     113\n",
      "36     105\n",
      "37      99\n",
      "63      92\n",
      "27      85\n",
      "51      85\n",
      "28      83\n",
      "58      80\n",
      "33      78\n",
      "30      77\n",
      "41      76\n",
      "24      76\n",
      "35      76\n",
      "53      76\n",
      "55      75\n",
      "26      73\n",
      "57      70\n",
      "25      70\n",
      "60      69\n",
      "65      68\n",
      "34      67\n",
      "56      67\n",
      "54      67\n",
      "66      66\n",
      "59      64\n",
      "23      63\n",
      "61      62\n",
      "62      60\n",
      "68      60\n",
      "52      59\n",
      "29      58\n",
      "67      58\n",
      "64      58\n",
      "50      57\n",
      "32      50\n",
      "31      49\n",
      "38      43\n",
      "22      42\n",
      "40      42\n",
      "39      40\n",
      "21      34\n",
      "69      24\n",
      "20       2\n",
      "179      1\n",
      "78       1\n",
      "91       1\n",
      "87       1\n",
      "79       1\n",
      "82       1\n",
      "Name: age, dtype: int64\n",
      "\n"
     ]
    }
   ],
   "source": [
    "value_counts(cust_demo_df)"
   ]
  },
  {
   "cell_type": "markdown",
   "id": "169651a9",
   "metadata": {},
   "source": [
    "**Observations**\n",
    "1. In the 'gender' column, there is data inconsistency, we will change 'female' to 'F', 'femal' to 'F', 'Male' to 'M'.\n",
    "2. Further clarification on 'wealth segment' and 'default' columns are needed\n",
    "3. Something is off in the 'age' column,there is value of 179 which must be handled as well."
   ]
  },
  {
   "cell_type": "code",
   "execution_count": 24,
   "id": "f37770f2",
   "metadata": {},
   "outputs": [
    {
     "data": {
      "text/plain": [
       "0"
      ]
     },
     "execution_count": 24,
     "metadata": {},
     "output_type": "execute_result"
    }
   ],
   "source": [
    "# Standardizing the values in 'gender' column\n",
    "cust_demo_df['gender'].isna().sum()"
   ]
  },
  {
   "cell_type": "code",
   "execution_count": 25,
   "id": "85ddd28d",
   "metadata": {},
   "outputs": [
    {
     "data": {
      "text/plain": [
       "F    2039\n",
       "M    1873\n",
       "U      88\n",
       "Name: gender, dtype: int64"
      ]
     },
     "execution_count": 25,
     "metadata": {},
     "output_type": "execute_result"
    }
   ],
   "source": [
    "cust_demo_df['gender']=cust_demo_df['gender'].replace({'Female':'F','Femal':'F', 'Male':'M'})\n",
    "cust_demo_df['gender'].value_counts()"
   ]
  },
  {
   "cell_type": "code",
   "execution_count": 26,
   "id": "5a3ad8fa",
   "metadata": {},
   "outputs": [
    {
     "data": {
      "text/html": [
       "<div><div id=c42ab1b3-2b2a-46fc-8b65-85c3027cf0e1 style=\"display:none; background-color:#9D6CFF; color:white; width:200px; height:30px; padding-left:5px; border-radius:4px; flex-direction:row; justify-content:space-around; align-items:center;\" onmouseover=\"this.style.backgroundColor='#BA9BF8'\" onmouseout=\"this.style.backgroundColor='#9D6CFF'\" onclick=\"window.commands?.execute('create-mitosheet-from-dataframe-output');\">See Full Dataframe in Mito</div> <script> if (window.commands?.hasCommand('create-mitosheet-from-dataframe-output')) document.getElementById('c42ab1b3-2b2a-46fc-8b65-85c3027cf0e1').style.display = 'flex' </script> <table border=\"1\" class=\"dataframe\">\n",
       "  <thead>\n",
       "    <tr style=\"text-align: right;\">\n",
       "      <th></th>\n",
       "      <th>customer_id</th>\n",
       "      <th>first_name</th>\n",
       "      <th>last_name</th>\n",
       "      <th>gender</th>\n",
       "      <th>past_3_years_bike_related_purchases</th>\n",
       "      <th>job_title</th>\n",
       "      <th>job_industry_category</th>\n",
       "      <th>wealth_segment</th>\n",
       "      <th>deceased_indicator</th>\n",
       "      <th>default</th>\n",
       "      <th>owns_car</th>\n",
       "      <th>tenure</th>\n",
       "      <th>age</th>\n",
       "    </tr>\n",
       "  </thead>\n",
       "  <tbody>\n",
       "    <tr>\n",
       "      <th>33</th>\n",
       "      <td>34</td>\n",
       "      <td>Jephthah</td>\n",
       "      <td>Bachmann</td>\n",
       "      <td>U</td>\n",
       "      <td>59</td>\n",
       "      <td>Legal Assistant</td>\n",
       "      <td>IT</td>\n",
       "      <td>Affluent Customer</td>\n",
       "      <td>N</td>\n",
       "      <td>NaN</td>\n",
       "      <td>No</td>\n",
       "      <td>20.0</td>\n",
       "      <td>179</td>\n",
       "    </tr>\n",
       "  </tbody>\n",
       "</table></div>"
      ],
      "text/plain": [
       "    customer_id first_name last_name gender  \\\n",
       "33           34   Jephthah  Bachmann      U   \n",
       "\n",
       "    past_3_years_bike_related_purchases        job_title  \\\n",
       "33                                   59  Legal Assistant   \n",
       "\n",
       "   job_industry_category     wealth_segment deceased_indicator default  \\\n",
       "33                    IT  Affluent Customer                  N     NaN   \n",
       "\n",
       "   owns_car  tenure  age  \n",
       "33       No    20.0  179  "
      ]
     },
     "execution_count": 26,
     "metadata": {},
     "output_type": "execute_result"
    }
   ],
   "source": [
    "# Handling the incorrect age value\n",
    "cust_demo_df.loc[cust_demo_df['age'] == 179]"
   ]
  },
  {
   "cell_type": "code",
   "execution_count": 27,
   "id": "f3f50cee",
   "metadata": {},
   "outputs": [
    {
     "data": {
      "text/html": [
       "<div><div id=78c3ed0a-b245-480d-bf2e-d100ead38854 style=\"display:none; background-color:#9D6CFF; color:white; width:200px; height:30px; padding-left:5px; border-radius:4px; flex-direction:row; justify-content:space-around; align-items:center;\" onmouseover=\"this.style.backgroundColor='#BA9BF8'\" onmouseout=\"this.style.backgroundColor='#9D6CFF'\" onclick=\"window.commands?.execute('create-mitosheet-from-dataframe-output');\">See Full Dataframe in Mito</div> <script> if (window.commands?.hasCommand('create-mitosheet-from-dataframe-output')) document.getElementById('78c3ed0a-b245-480d-bf2e-d100ead38854').style.display = 'flex' </script> <table border=\"1\" class=\"dataframe\">\n",
       "  <thead>\n",
       "    <tr style=\"text-align: right;\">\n",
       "      <th></th>\n",
       "      <th>customer_id</th>\n",
       "      <th>first_name</th>\n",
       "      <th>last_name</th>\n",
       "      <th>gender</th>\n",
       "      <th>past_3_years_bike_related_purchases</th>\n",
       "      <th>job_title</th>\n",
       "      <th>job_industry_category</th>\n",
       "      <th>wealth_segment</th>\n",
       "      <th>deceased_indicator</th>\n",
       "      <th>default</th>\n",
       "      <th>owns_car</th>\n",
       "      <th>tenure</th>\n",
       "      <th>age</th>\n",
       "    </tr>\n",
       "  </thead>\n",
       "  <tbody>\n",
       "    <tr>\n",
       "      <th>33</th>\n",
       "      <td>34</td>\n",
       "      <td>Jephthah</td>\n",
       "      <td>Bachmann</td>\n",
       "      <td>U</td>\n",
       "      <td>59</td>\n",
       "      <td>Legal Assistant</td>\n",
       "      <td>IT</td>\n",
       "      <td>Affluent Customer</td>\n",
       "      <td>N</td>\n",
       "      <td>NaN</td>\n",
       "      <td>No</td>\n",
       "      <td>20.0</td>\n",
       "      <td>79</td>\n",
       "    </tr>\n",
       "    <tr>\n",
       "      <th>2412</th>\n",
       "      <td>2413</td>\n",
       "      <td>Abbey</td>\n",
       "      <td>Murrow</td>\n",
       "      <td>M</td>\n",
       "      <td>27</td>\n",
       "      <td>Environmental Specialist</td>\n",
       "      <td>Manufacturing</td>\n",
       "      <td>High Net Worth</td>\n",
       "      <td>N</td>\n",
       "      <td>á</td>\n",
       "      <td>Yes</td>\n",
       "      <td>17.0</td>\n",
       "      <td>79</td>\n",
       "    </tr>\n",
       "  </tbody>\n",
       "</table></div>"
      ],
      "text/plain": [
       "      customer_id first_name last_name gender  \\\n",
       "33             34   Jephthah  Bachmann      U   \n",
       "2412         2413      Abbey    Murrow      M   \n",
       "\n",
       "      past_3_years_bike_related_purchases                 job_title  \\\n",
       "33                                     59           Legal Assistant   \n",
       "2412                                   27  Environmental Specialist   \n",
       "\n",
       "     job_industry_category     wealth_segment deceased_indicator default  \\\n",
       "33                      IT  Affluent Customer                  N     NaN   \n",
       "2412         Manufacturing     High Net Worth                  N      á    \n",
       "\n",
       "     owns_car  tenure  age  \n",
       "33         No    20.0   79  \n",
       "2412      Yes    17.0   79  "
      ]
     },
     "execution_count": 27,
     "metadata": {},
     "output_type": "execute_result"
    }
   ],
   "source": [
    "# Assuming the year was incorrectly typed in, thus the year has been changed from 1844 to 1944\n",
    "cust_demo_df.loc[cust_demo_df['age'] == 179] = cust_demo_df.loc[cust_demo_df['age'] == 179].replace({179:79})\n",
    "cust_demo_df.loc[cust_demo_df['age'] == 79]"
   ]
  },
  {
   "cell_type": "code",
   "execution_count": 28,
   "id": "217d7e3b",
   "metadata": {},
   "outputs": [
    {
     "data": {
      "text/plain": [
       "<AxesSubplot:xlabel='count', ylabel='owns_car'>"
      ]
     },
     "execution_count": 28,
     "metadata": {},
     "output_type": "execute_result"
    },
    {
     "data": {
      "image/png": "[encoded data removed]",
      "text/plain": [
       "<Figure size 1800x1500 with 6 Axes>"
      ]
     },
     "metadata": {},
     "output_type": "display_data"
    }
   ],
   "source": [
    "#Lets plot graphs for categorical data type\n",
    "\n",
    "fig, axes = plt.subplots(3,2)\n",
    "fig.suptitle('Visualization for categorical variables')\n",
    "plt.gcf().set_size_inches(18, 15)\n",
    "fig.tight_layout(pad=4.0)\n",
    "\n",
    "sns.countplot(ax=axes[0,0], y = cust_demo_df['gender'], data=cust_demo_df, palette='ch:s=.25,rot=-.25')\n",
    "sns.countplot(ax=axes[0,1], y = cust_demo_df['job_title'],data=cust_demo_df,order=cust_demo_df.job_title.value_counts().iloc[:10].index,palette=\"dark:#5A9_r\")\n",
    "sns.countplot(ax=axes[1,0], y = cust_demo_df['job_industry_category'],data=cust_demo_df,order=cust_demo_df.job_industry_category.value_counts().iloc[:10].index,palette=\"dark:#5A9_r\")\n",
    "sns.countplot(ax=axes[1,1], y = cust_demo_df['wealth_segment'],data=cust_demo_df,palette=\"ch:s=.25,rot=-.25\")\n",
    "sns.countplot(ax=axes[2,0], y = cust_demo_df['deceased_indicator'],data=cust_demo_df,palette=\"ch:s=.25,rot=-.25\")\n",
    "sns.countplot(ax=axes[2,1], y = cust_demo_df['owns_car'],data=cust_demo_df,palette=\"dark:#5A9_r\")\n"
   ]
  },
  {
   "cell_type": "markdown",
   "id": "3260ee84",
   "metadata": {},
   "source": [
    "#### Customer Address Dataset"
   ]
  },
  {
   "cell_type": "code",
   "execution_count": 29,
   "id": "74c1fe38",
   "metadata": {},
   "outputs": [
    {
     "data": {
      "text/html": [
       "<div><div id=6394e4d2-e1ec-4ef8-8a8f-2636d445797e style=\"display:none; background-color:#9D6CFF; color:white; width:200px; height:30px; padding-left:5px; border-radius:4px; flex-direction:row; justify-content:space-around; align-items:center;\" onmouseover=\"this.style.backgroundColor='#BA9BF8'\" onmouseout=\"this.style.backgroundColor='#9D6CFF'\" onclick=\"window.commands?.execute('create-mitosheet-from-dataframe-output');\">See Full Dataframe in Mito</div> <script> if (window.commands?.hasCommand('create-mitosheet-from-dataframe-output')) document.getElementById('6394e4d2-e1ec-4ef8-8a8f-2636d445797e').style.display = 'flex' </script> <table border=\"1\" class=\"dataframe\">\n",
       "  <thead>\n",
       "    <tr style=\"text-align: right;\">\n",
       "      <th></th>\n",
       "      <th>customer_id</th>\n",
       "      <th>address</th>\n",
       "      <th>postcode</th>\n",
       "      <th>state</th>\n",
       "      <th>country</th>\n",
       "      <th>property_valuation</th>\n",
       "    </tr>\n",
       "  </thead>\n",
       "  <tbody>\n",
       "    <tr>\n",
       "      <th>0</th>\n",
       "      <td>1</td>\n",
       "      <td>060 Morning Avenue</td>\n",
       "      <td>2016</td>\n",
       "      <td>New South Wales</td>\n",
       "      <td>Australia</td>\n",
       "      <td>10</td>\n",
       "    </tr>\n",
       "    <tr>\n",
       "      <th>1</th>\n",
       "      <td>2</td>\n",
       "      <td>6 Meadow Vale Court</td>\n",
       "      <td>2153</td>\n",
       "      <td>New South Wales</td>\n",
       "      <td>Australia</td>\n",
       "      <td>10</td>\n",
       "    </tr>\n",
       "    <tr>\n",
       "      <th>2</th>\n",
       "      <td>4</td>\n",
       "      <td>0 Holy Cross Court</td>\n",
       "      <td>4211</td>\n",
       "      <td>QLD</td>\n",
       "      <td>Australia</td>\n",
       "      <td>9</td>\n",
       "    </tr>\n",
       "    <tr>\n",
       "      <th>3</th>\n",
       "      <td>5</td>\n",
       "      <td>17979 Del Mar Point</td>\n",
       "      <td>2448</td>\n",
       "      <td>New South Wales</td>\n",
       "      <td>Australia</td>\n",
       "      <td>4</td>\n",
       "    </tr>\n",
       "    <tr>\n",
       "      <th>4</th>\n",
       "      <td>6</td>\n",
       "      <td>9 Oakridge Court</td>\n",
       "      <td>3216</td>\n",
       "      <td>VIC</td>\n",
       "      <td>Australia</td>\n",
       "      <td>9</td>\n",
       "    </tr>\n",
       "  </tbody>\n",
       "</table></div>"
      ],
      "text/plain": [
       "   customer_id              address  postcode            state    country  \\\n",
       "0            1   060 Morning Avenue      2016  New South Wales  Australia   \n",
       "1            2  6 Meadow Vale Court      2153  New South Wales  Australia   \n",
       "2            4   0 Holy Cross Court      4211              QLD  Australia   \n",
       "3            5  17979 Del Mar Point      2448  New South Wales  Australia   \n",
       "4            6     9 Oakridge Court      3216              VIC  Australia   \n",
       "\n",
       "   property_valuation  \n",
       "0                  10  \n",
       "1                  10  \n",
       "2                   9  \n",
       "3                   4  \n",
       "4                   9  "
      ]
     },
     "execution_count": 29,
     "metadata": {},
     "output_type": "execute_result"
    }
   ],
   "source": [
    "# Load the dataset\n",
    "\n",
    "cust_add_df = pd.read_excel('KPMG_VI_New_raw_data_update_final.xlsx', \n",
    "                        sheet_name='CustomerAddress', header=1)\n",
    "cust_add_df.head()"
   ]
  },
  {
   "cell_type": "code",
   "execution_count": 30,
   "id": "6081a747",
   "metadata": {},
   "outputs": [],
   "source": [
    "#### Analyzing Customer Address dataset"
   ]
  },
  {
   "cell_type": "code",
   "execution_count": 31,
   "id": "a43ab779",
   "metadata": {},
   "outputs": [
    {
     "name": "stdout",
     "output_type": "stream",
     "text": [
      "Shape of dataset is (3999, 6)\n"
     ]
    }
   ],
   "source": [
    "#Check the dataset shape \n",
    "\n",
    "print('Shape of dataset is {}'.format(cust_add_df.shape))"
   ]
  },
  {
   "cell_type": "code",
   "execution_count": 32,
   "id": "2c7a1929",
   "metadata": {},
   "outputs": [
    {
     "name": "stdout",
     "output_type": "stream",
     "text": [
      "<class 'pandas.core.frame.DataFrame'>\n",
      "RangeIndex: 3999 entries, 0 to 3998\n",
      "Data columns (total 6 columns):\n",
      " #   Column              Non-Null Count  Dtype \n",
      "---  ------              --------------  ----- \n",
      " 0   customer_id         3999 non-null   int64 \n",
      " 1   address             3999 non-null   object\n",
      " 2   postcode            3999 non-null   int64 \n",
      " 3   state               3999 non-null   object\n",
      " 4   country             3999 non-null   object\n",
      " 5   property_valuation  3999 non-null   int64 \n",
      "dtypes: int64(3), object(3)\n",
      "memory usage: 187.6+ KB\n"
     ]
    }
   ],
   "source": [
    "cust_add_df.info()"
   ]
  },
  {
   "cell_type": "markdown",
   "id": "c0e27076",
   "metadata": {},
   "source": [
    "**Observations**\n",
    "1. There are 6 columns, with 3999 entries with data types = int and object\n",
    "2. No missing values."
   ]
  },
  {
   "cell_type": "code",
   "execution_count": 33,
   "id": "dcae6dc0",
   "metadata": {},
   "outputs": [
    {
     "data": {
      "text/plain": [
       "0"
      ]
     },
     "execution_count": 33,
     "metadata": {},
     "output_type": "execute_result"
    }
   ],
   "source": [
    "#Check for duplicates\n",
    "\n",
    "cust_add_df.duplicated().sum()"
   ]
  },
  {
   "cell_type": "code",
   "execution_count": 34,
   "id": "97fb7f2a",
   "metadata": {},
   "outputs": [
    {
     "data": {
      "text/html": [
       "<div><div id=31f0f69d-0c6e-4ebf-ba5e-d4b53f01b3fb style=\"display:none; background-color:#9D6CFF; color:white; width:200px; height:30px; padding-left:5px; border-radius:4px; flex-direction:row; justify-content:space-around; align-items:center;\" onmouseover=\"this.style.backgroundColor='#BA9BF8'\" onmouseout=\"this.style.backgroundColor='#9D6CFF'\" onclick=\"window.commands?.execute('create-mitosheet-from-dataframe-output');\">See Full Dataframe in Mito</div> <script> if (window.commands?.hasCommand('create-mitosheet-from-dataframe-output')) document.getElementById('31f0f69d-0c6e-4ebf-ba5e-d4b53f01b3fb').style.display = 'flex' </script> <table border=\"1\" class=\"dataframe\">\n",
       "  <thead>\n",
       "    <tr style=\"text-align: right;\">\n",
       "      <th></th>\n",
       "      <th>state</th>\n",
       "      <th>country</th>\n",
       "    </tr>\n",
       "  </thead>\n",
       "  <tbody>\n",
       "    <tr>\n",
       "      <th>unique</th>\n",
       "      <td>5</td>\n",
       "      <td>1</td>\n",
       "    </tr>\n",
       "    <tr>\n",
       "      <th>top</th>\n",
       "      <td>NSW</td>\n",
       "      <td>Australia</td>\n",
       "    </tr>\n",
       "    <tr>\n",
       "      <th>freq</th>\n",
       "      <td>2054</td>\n",
       "      <td>3999</td>\n",
       "    </tr>\n",
       "  </tbody>\n",
       "</table></div>"
      ],
      "text/plain": [
       "       state    country\n",
       "unique     5          1\n",
       "top      NSW  Australia\n",
       "freq    2054       3999"
      ]
     },
     "execution_count": 34,
     "metadata": {},
     "output_type": "execute_result"
    }
   ],
   "source": [
    "cust_add_df.describe(include='object').drop(['address'], axis=1).drop('count', axis=0)"
   ]
  },
  {
   "cell_type": "code",
   "execution_count": 35,
   "id": "eadbac38",
   "metadata": {},
   "outputs": [
    {
     "name": "stdout",
     "output_type": "stream",
     "text": [
      "1       1\n",
      "2676    1\n",
      "2663    1\n",
      "2664    1\n",
      "2665    1\n",
      "       ..\n",
      "1343    1\n",
      "1344    1\n",
      "1345    1\n",
      "1346    1\n",
      "4003    1\n",
      "Name: customer_id, Length: 3999, dtype: int64\n",
      "\n",
      "3 Mariners Cove Terrace      2\n",
      "3 Talisman Place             2\n",
      "64 Macpherson Junction       2\n",
      "359 Briar Crest Road         1\n",
      "4543 Service Terrace         1\n",
      "                            ..\n",
      "5063 Shopko Pass             1\n",
      "09 Hagan Pass                1\n",
      "87897 Lighthouse Bay Pass    1\n",
      "294 Lawn Junction            1\n",
      "320 Acker Drive              1\n",
      "Name: address, Length: 3996, dtype: int64\n",
      "\n",
      "2170    31\n",
      "2155    30\n",
      "2145    30\n",
      "2153    29\n",
      "3977    26\n",
      "        ..\n",
      "3808     1\n",
      "3114     1\n",
      "4721     1\n",
      "4799     1\n",
      "3089     1\n",
      "Name: postcode, Length: 873, dtype: int64\n",
      "\n",
      "NSW                2054\n",
      "VIC                 939\n",
      "QLD                 838\n",
      "New South Wales      86\n",
      "Victoria             82\n",
      "Name: state, dtype: int64\n",
      "\n",
      "Australia    3999\n",
      "Name: country, dtype: int64\n",
      "\n",
      "9     647\n",
      "8     646\n",
      "10    577\n",
      "7     493\n",
      "11    281\n",
      "6     238\n",
      "5     225\n",
      "4     214\n",
      "12    195\n",
      "3     186\n",
      "1     154\n",
      "2     143\n",
      "Name: property_valuation, dtype: int64\n",
      "\n"
     ]
    }
   ],
   "source": [
    "value_counts(cust_add_df)"
   ]
  },
  {
   "cell_type": "code",
   "execution_count": 36,
   "id": "50d5d971",
   "metadata": {},
   "outputs": [
    {
     "data": {
      "text/plain": [
       "New South Wales    2140\n",
       "Victoria           1021\n",
       "Queensland          838\n",
       "Name: state, dtype: int64"
      ]
     },
     "execution_count": 36,
     "metadata": {},
     "output_type": "execute_result"
    }
   ],
   "source": [
    "cust_add_df['state']=cust_add_df['state'].replace({'NSW':'New South Wales','VIC':'Victoria', 'QLD':'Queensland'})\n",
    "cust_add_df['state'].value_counts()"
   ]
  },
  {
   "cell_type": "markdown",
   "id": "47308f8f",
   "metadata": {},
   "source": [
    "#### New Customer List dataset"
   ]
  },
  {
   "cell_type": "code",
   "execution_count": 37,
   "id": "ab8954e2",
   "metadata": {},
   "outputs": [
    {
     "name": "stderr",
     "output_type": "stream",
     "text": [
      "C:\\Users\\Nima\\AppData\\Local\\Temp\\ipykernel_28256\\3719896691.py:3: FutureWarning: Inferring datetime64[ns] from data containing strings is deprecated and will be removed in a future version. To retain the old behavior explicitly pass Series(data, dtype=datetime64[ns])\n",
      "  new_cust_df = pd.read_excel('KPMG_VI_New_raw_data_update_final.xlsx',\n"
     ]
    },
    {
     "data": {
      "text/html": [
       "<div><div id=57b36506-40ce-4234-b991-ff2de594077f style=\"display:none; background-color:#9D6CFF; color:white; width:200px; height:30px; padding-left:5px; border-radius:4px; flex-direction:row; justify-content:space-around; align-items:center;\" onmouseover=\"this.style.backgroundColor='#BA9BF8'\" onmouseout=\"this.style.backgroundColor='#9D6CFF'\" onclick=\"window.commands?.execute('create-mitosheet-from-dataframe-output');\">See Full Dataframe in Mito</div> <script> if (window.commands?.hasCommand('create-mitosheet-from-dataframe-output')) document.getElementById('57b36506-40ce-4234-b991-ff2de594077f').style.display = 'flex' </script> <table border=\"1\" class=\"dataframe\">\n",
       "  <thead>\n",
       "    <tr style=\"text-align: right;\">\n",
       "      <th></th>\n",
       "      <th>first_name</th>\n",
       "      <th>last_name</th>\n",
       "      <th>gender</th>\n",
       "      <th>past_3_years_bike_related_purchases</th>\n",
       "      <th>DOB</th>\n",
       "      <th>job_title</th>\n",
       "      <th>job_industry_category</th>\n",
       "      <th>wealth_segment</th>\n",
       "      <th>deceased_indicator</th>\n",
       "      <th>owns_car</th>\n",
       "      <th>...</th>\n",
       "      <th>state</th>\n",
       "      <th>country</th>\n",
       "      <th>property_valuation</th>\n",
       "      <th>Unnamed: 16</th>\n",
       "      <th>Unnamed: 17</th>\n",
       "      <th>Unnamed: 18</th>\n",
       "      <th>Unnamed: 19</th>\n",
       "      <th>Unnamed: 20</th>\n",
       "      <th>Rank</th>\n",
       "      <th>Value</th>\n",
       "    </tr>\n",
       "  </thead>\n",
       "  <tbody>\n",
       "    <tr>\n",
       "      <th>0</th>\n",
       "      <td>Chickie</td>\n",
       "      <td>Brister</td>\n",
       "      <td>Male</td>\n",
       "      <td>86</td>\n",
       "      <td>1957-07-12</td>\n",
       "      <td>General Manager</td>\n",
       "      <td>Manufacturing</td>\n",
       "      <td>Mass Customer</td>\n",
       "      <td>N</td>\n",
       "      <td>Yes</td>\n",
       "      <td>...</td>\n",
       "      <td>QLD</td>\n",
       "      <td>Australia</td>\n",
       "      <td>6</td>\n",
       "      <td>0.56</td>\n",
       "      <td>0.7000</td>\n",
       "      <td>0.8750</td>\n",
       "      <td>0.743750</td>\n",
       "      <td>1</td>\n",
       "      <td>1</td>\n",
       "      <td>1.718750</td>\n",
       "    </tr>\n",
       "    <tr>\n",
       "      <th>1</th>\n",
       "      <td>Morly</td>\n",
       "      <td>Genery</td>\n",
       "      <td>Male</td>\n",
       "      <td>69</td>\n",
       "      <td>1970-03-22</td>\n",
       "      <td>Structural Engineer</td>\n",
       "      <td>Property</td>\n",
       "      <td>Mass Customer</td>\n",
       "      <td>N</td>\n",
       "      <td>No</td>\n",
       "      <td>...</td>\n",
       "      <td>NSW</td>\n",
       "      <td>Australia</td>\n",
       "      <td>11</td>\n",
       "      <td>0.89</td>\n",
       "      <td>0.8900</td>\n",
       "      <td>1.1125</td>\n",
       "      <td>0.945625</td>\n",
       "      <td>1</td>\n",
       "      <td>1</td>\n",
       "      <td>1.718750</td>\n",
       "    </tr>\n",
       "    <tr>\n",
       "      <th>2</th>\n",
       "      <td>Ardelis</td>\n",
       "      <td>Forrester</td>\n",
       "      <td>Female</td>\n",
       "      <td>10</td>\n",
       "      <td>1974-08-28</td>\n",
       "      <td>Senior Cost Accountant</td>\n",
       "      <td>Financial Services</td>\n",
       "      <td>Affluent Customer</td>\n",
       "      <td>N</td>\n",
       "      <td>No</td>\n",
       "      <td>...</td>\n",
       "      <td>VIC</td>\n",
       "      <td>Australia</td>\n",
       "      <td>5</td>\n",
       "      <td>1.01</td>\n",
       "      <td>1.0100</td>\n",
       "      <td>1.0100</td>\n",
       "      <td>1.010000</td>\n",
       "      <td>1</td>\n",
       "      <td>1</td>\n",
       "      <td>1.718750</td>\n",
       "    </tr>\n",
       "    <tr>\n",
       "      <th>3</th>\n",
       "      <td>Lucine</td>\n",
       "      <td>Stutt</td>\n",
       "      <td>Female</td>\n",
       "      <td>64</td>\n",
       "      <td>1979-01-28</td>\n",
       "      <td>Account Representative III</td>\n",
       "      <td>Manufacturing</td>\n",
       "      <td>Affluent Customer</td>\n",
       "      <td>N</td>\n",
       "      <td>Yes</td>\n",
       "      <td>...</td>\n",
       "      <td>QLD</td>\n",
       "      <td>Australia</td>\n",
       "      <td>1</td>\n",
       "      <td>0.87</td>\n",
       "      <td>1.0875</td>\n",
       "      <td>1.0875</td>\n",
       "      <td>1.087500</td>\n",
       "      <td>4</td>\n",
       "      <td>4</td>\n",
       "      <td>1.703125</td>\n",
       "    </tr>\n",
       "    <tr>\n",
       "      <th>4</th>\n",
       "      <td>Melinda</td>\n",
       "      <td>Hadlee</td>\n",
       "      <td>Female</td>\n",
       "      <td>34</td>\n",
       "      <td>1965-09-21</td>\n",
       "      <td>Financial Analyst</td>\n",
       "      <td>Financial Services</td>\n",
       "      <td>Affluent Customer</td>\n",
       "      <td>N</td>\n",
       "      <td>No</td>\n",
       "      <td>...</td>\n",
       "      <td>NSW</td>\n",
       "      <td>Australia</td>\n",
       "      <td>9</td>\n",
       "      <td>0.52</td>\n",
       "      <td>0.5200</td>\n",
       "      <td>0.6500</td>\n",
       "      <td>0.650000</td>\n",
       "      <td>4</td>\n",
       "      <td>4</td>\n",
       "      <td>1.703125</td>\n",
       "    </tr>\n",
       "  </tbody>\n",
       "</table></div>"
      ],
      "text/plain": [
       "  first_name  last_name  gender  past_3_years_bike_related_purchases  \\\n",
       "0    Chickie    Brister    Male                                   86   \n",
       "1      Morly     Genery    Male                                   69   \n",
       "2    Ardelis  Forrester  Female                                   10   \n",
       "3     Lucine      Stutt  Female                                   64   \n",
       "4    Melinda     Hadlee  Female                                   34   \n",
       "\n",
       "         DOB                   job_title job_industry_category  \\\n",
       "0 1957-07-12             General Manager         Manufacturing   \n",
       "1 1970-03-22         Structural Engineer              Property   \n",
       "2 1974-08-28      Senior Cost Accountant    Financial Services   \n",
       "3 1979-01-28  Account Representative III         Manufacturing   \n",
       "4 1965-09-21           Financial Analyst    Financial Services   \n",
       "\n",
       "      wealth_segment deceased_indicator owns_car  ...  state    country  \\\n",
       "0      Mass Customer                  N      Yes  ...    QLD  Australia   \n",
       "1      Mass Customer                  N       No  ...    NSW  Australia   \n",
       "2  Affluent Customer                  N       No  ...    VIC  Australia   \n",
       "3  Affluent Customer                  N      Yes  ...    QLD  Australia   \n",
       "4  Affluent Customer                  N       No  ...    NSW  Australia   \n",
       "\n",
       "   property_valuation Unnamed: 16 Unnamed: 17  Unnamed: 18  Unnamed: 19  \\\n",
       "0                   6        0.56      0.7000       0.8750     0.743750   \n",
       "1                  11        0.89      0.8900       1.1125     0.945625   \n",
       "2                   5        1.01      1.0100       1.0100     1.010000   \n",
       "3                   1        0.87      1.0875       1.0875     1.087500   \n",
       "4                   9        0.52      0.5200       0.6500     0.650000   \n",
       "\n",
       "   Unnamed: 20  Rank     Value  \n",
       "0            1     1  1.718750  \n",
       "1            1     1  1.718750  \n",
       "2            1     1  1.718750  \n",
       "3            4     4  1.703125  \n",
       "4            4     4  1.703125  \n",
       "\n",
       "[5 rows x 23 columns]"
      ]
     },
     "execution_count": 37,
     "metadata": {},
     "output_type": "execute_result"
    }
   ],
   "source": [
    "# Load the dataset\n",
    "\n",
    "new_cust_df = pd.read_excel('KPMG_VI_New_raw_data_update_final.xlsx', \n",
    "                        sheet_name='NewCustomerList', header=1)\n",
    "new_cust_df.head()"
   ]
  },
  {
   "cell_type": "markdown",
   "id": "6bbf0be8",
   "metadata": {},
   "source": [
    "**Analyzing NewCustomerList dataset**"
   ]
  },
  {
   "cell_type": "code",
   "execution_count": 38,
   "id": "88ce5d07",
   "metadata": {},
   "outputs": [
    {
     "name": "stdout",
     "output_type": "stream",
     "text": [
      "Shape of dataset is (1000, 23)\n"
     ]
    }
   ],
   "source": [
    "#Check the dataset shape \n",
    "\n",
    "print('Shape of dataset is {}'.format(new_cust_df.shape))"
   ]
  },
  {
   "cell_type": "code",
   "execution_count": 39,
   "id": "507b2094",
   "metadata": {},
   "outputs": [
    {
     "name": "stdout",
     "output_type": "stream",
     "text": [
      "<class 'pandas.core.frame.DataFrame'>\n",
      "RangeIndex: 1000 entries, 0 to 999\n",
      "Data columns (total 23 columns):\n",
      " #   Column                               Non-Null Count  Dtype         \n",
      "---  ------                               --------------  -----         \n",
      " 0   first_name                           1000 non-null   object        \n",
      " 1   last_name                            971 non-null    object        \n",
      " 2   gender                               1000 non-null   object        \n",
      " 3   past_3_years_bike_related_purchases  1000 non-null   int64         \n",
      " 4   DOB                                  983 non-null    datetime64[ns]\n",
      " 5   job_title                            894 non-null    object        \n",
      " 6   job_industry_category                835 non-null    object        \n",
      " 7   wealth_segment                       1000 non-null   object        \n",
      " 8   deceased_indicator                   1000 non-null   object        \n",
      " 9   owns_car                             1000 non-null   object        \n",
      " 10  tenure                               1000 non-null   int64         \n",
      " 11  address                              1000 non-null   object        \n",
      " 12  postcode                             1000 non-null   int64         \n",
      " 13  state                                1000 non-null   object        \n",
      " 14  country                              1000 non-null   object        \n",
      " 15  property_valuation                   1000 non-null   int64         \n",
      " 16  Unnamed: 16                          1000 non-null   float64       \n",
      " 17  Unnamed: 17                          1000 non-null   float64       \n",
      " 18  Unnamed: 18                          1000 non-null   float64       \n",
      " 19  Unnamed: 19                          1000 non-null   float64       \n",
      " 20  Unnamed: 20                          1000 non-null   int64         \n",
      " 21  Rank                                 1000 non-null   int64         \n",
      " 22  Value                                1000 non-null   float64       \n",
      "dtypes: datetime64[ns](1), float64(5), int64(6), object(11)\n",
      "memory usage: 179.8+ KB\n"
     ]
    }
   ],
   "source": [
    "new_cust_df.info()"
   ]
  },
  {
   "cell_type": "markdown",
   "id": "daa254e3",
   "metadata": {},
   "source": [
    "**Observations**\n",
    "1. There are 1000 rows with 22 columns with datetime, float, int and object as datatypes.\n",
    "2. The are some missing values. Ways to handle missing should be further investigated.\n",
    "3. There are some unnamed columns, will be dropped if not important.\n",
    "4. Age can be derived from the DOB column."
   ]
  },
  {
   "cell_type": "code",
   "execution_count": 40,
   "id": "18993179",
   "metadata": {},
   "outputs": [
    {
     "data": {
      "text/plain": [
       "last_name                 2.9\n",
       "DOB                       1.7\n",
       "job_title                10.6\n",
       "job_industry_category    16.5\n",
       "dtype: float64"
      ]
     },
     "execution_count": 40,
     "metadata": {},
     "output_type": "execute_result"
    }
   ],
   "source": [
    "# Overview of  the missing values:\n",
    "nulls_df = round((new_cust_df.isna().sum()/len(new_cust_df)*100),2)\n",
    "nulls_df[nulls_df>0]"
   ]
  },
  {
   "cell_type": "code",
   "execution_count": 41,
   "id": "bb412e74",
   "metadata": {},
   "outputs": [],
   "source": [
    "def nulls(df):\n",
    "    for col in df.columns:\n",
    "        new_df = round((df[col].isna().sum()/len(new_cust_df)*100),2)\n",
    "        print(\"{}:{}%\".format(col,new_df))"
   ]
  },
  {
   "cell_type": "code",
   "execution_count": 42,
   "id": "e2c50711",
   "metadata": {},
   "outputs": [
    {
     "name": "stdout",
     "output_type": "stream",
     "text": [
      "first_name:0.0%\n",
      "last_name:2.9%\n",
      "gender:0.0%\n",
      "past_3_years_bike_related_purchases:0.0%\n",
      "DOB:1.7%\n",
      "job_title:10.6%\n",
      "job_industry_category:16.5%\n",
      "wealth_segment:0.0%\n",
      "deceased_indicator:0.0%\n",
      "owns_car:0.0%\n",
      "tenure:0.0%\n",
      "address:0.0%\n",
      "postcode:0.0%\n",
      "state:0.0%\n",
      "country:0.0%\n",
      "property_valuation:0.0%\n",
      "Unnamed: 16:0.0%\n",
      "Unnamed: 17:0.0%\n",
      "Unnamed: 18:0.0%\n",
      "Unnamed: 19:0.0%\n",
      "Unnamed: 20:0.0%\n",
      "Rank:0.0%\n",
      "Value:0.0%\n"
     ]
    }
   ],
   "source": [
    "nulls(new_cust_df)"
   ]
  },
  {
   "cell_type": "code",
   "execution_count": 43,
   "id": "3179019b",
   "metadata": {},
   "outputs": [
    {
     "data": {
      "text/plain": [
       "0"
      ]
     },
     "execution_count": 43,
     "metadata": {},
     "output_type": "execute_result"
    }
   ],
   "source": [
    "#Check for duplicates\n",
    "\n",
    "new_cust_df.duplicated().sum()"
   ]
  },
  {
   "cell_type": "code",
   "execution_count": 44,
   "id": "f90cf881",
   "metadata": {},
   "outputs": [
    {
     "data": {
      "text/html": [
       "<div><div id=3d093e73-870e-4ca5-aaba-dddc4cd78eb9 style=\"display:none; background-color:#9D6CFF; color:white; width:200px; height:30px; padding-left:5px; border-radius:4px; flex-direction:row; justify-content:space-around; align-items:center;\" onmouseover=\"this.style.backgroundColor='#BA9BF8'\" onmouseout=\"this.style.backgroundColor='#9D6CFF'\" onclick=\"window.commands?.execute('create-mitosheet-from-dataframe-output');\">See Full Dataframe in Mito</div> <script> if (window.commands?.hasCommand('create-mitosheet-from-dataframe-output')) document.getElementById('3d093e73-870e-4ca5-aaba-dddc4cd78eb9').style.display = 'flex' </script> <table border=\"1\" class=\"dataframe\">\n",
       "  <thead>\n",
       "    <tr style=\"text-align: right;\">\n",
       "      <th></th>\n",
       "      <th>first_name</th>\n",
       "      <th>last_name</th>\n",
       "      <th>gender</th>\n",
       "      <th>job_title</th>\n",
       "      <th>job_industry_category</th>\n",
       "      <th>wealth_segment</th>\n",
       "      <th>deceased_indicator</th>\n",
       "      <th>owns_car</th>\n",
       "      <th>address</th>\n",
       "      <th>state</th>\n",
       "      <th>country</th>\n",
       "    </tr>\n",
       "  </thead>\n",
       "  <tbody>\n",
       "    <tr>\n",
       "      <th>unique</th>\n",
       "      <td>940</td>\n",
       "      <td>961</td>\n",
       "      <td>3</td>\n",
       "      <td>184</td>\n",
       "      <td>9</td>\n",
       "      <td>3</td>\n",
       "      <td>1</td>\n",
       "      <td>2</td>\n",
       "      <td>1000</td>\n",
       "      <td>3</td>\n",
       "      <td>1</td>\n",
       "    </tr>\n",
       "    <tr>\n",
       "      <th>top</th>\n",
       "      <td>Rozamond</td>\n",
       "      <td>Sissel</td>\n",
       "      <td>Female</td>\n",
       "      <td>Associate Professor</td>\n",
       "      <td>Financial Services</td>\n",
       "      <td>Mass Customer</td>\n",
       "      <td>N</td>\n",
       "      <td>No</td>\n",
       "      <td>45 Shopko Center</td>\n",
       "      <td>NSW</td>\n",
       "      <td>Australia</td>\n",
       "    </tr>\n",
       "    <tr>\n",
       "      <th>freq</th>\n",
       "      <td>3</td>\n",
       "      <td>2</td>\n",
       "      <td>513</td>\n",
       "      <td>15</td>\n",
       "      <td>203</td>\n",
       "      <td>508</td>\n",
       "      <td>1000</td>\n",
       "      <td>507</td>\n",
       "      <td>1</td>\n",
       "      <td>506</td>\n",
       "      <td>1000</td>\n",
       "    </tr>\n",
       "  </tbody>\n",
       "</table></div>"
      ],
      "text/plain": [
       "       first_name last_name  gender            job_title  \\\n",
       "unique        940       961       3                  184   \n",
       "top      Rozamond    Sissel  Female  Associate Professor   \n",
       "freq            3         2     513                   15   \n",
       "\n",
       "       job_industry_category wealth_segment deceased_indicator owns_car  \\\n",
       "unique                     9              3                  1        2   \n",
       "top       Financial Services  Mass Customer                  N       No   \n",
       "freq                     203            508               1000      507   \n",
       "\n",
       "                 address state    country  \n",
       "unique              1000     3          1  \n",
       "top     45 Shopko Center   NSW  Australia  \n",
       "freq                   1   506       1000  "
      ]
     },
     "execution_count": 44,
     "metadata": {},
     "output_type": "execute_result"
    }
   ],
   "source": [
    "new_cust_df.describe(include='object').drop('count', axis=0)"
   ]
  },
  {
   "cell_type": "markdown",
   "id": "42393e6e",
   "metadata": {},
   "source": [
    "**Observations**\n",
    "1. We need to replace the values int the gender column to match the previous dataset.\n",
    "2. There are 184 different job title in the customer database, with 'Associate Professor' being the highly occuring job title.\n",
    "3. 9 Job industry categories, 'Financial Services' being the most occuring.\n",
    "4. The 'wealth segment', 'deceased_indicator','default'and 'owns-car' columsn should be further investigated."
   ]
  },
  {
   "cell_type": "code",
   "execution_count": 45,
   "id": "2f5d54c5",
   "metadata": {},
   "outputs": [
    {
     "name": "stdout",
     "output_type": "stream",
     "text": [
      "Rozamond     3\n",
      "Dorian       3\n",
      "Mandie       3\n",
      "Inglebert    2\n",
      "Ricki        2\n",
      "            ..\n",
      "Diego        1\n",
      "Lucilia      1\n",
      "Eddy         1\n",
      "Caron        1\n",
      "Sylas        1\n",
      "Name: first_name, Length: 940, dtype: int64\n",
      "\n",
      "Sissel       2\n",
      "Minshall     2\n",
      "Borsi        2\n",
      "Shoesmith    2\n",
      "Sturch       2\n",
      "            ..\n",
      "O'Moylane    1\n",
      "Axtens       1\n",
      "Moxted       1\n",
      "Conrad       1\n",
      "Duffill      1\n",
      "Name: last_name, Length: 961, dtype: int64\n",
      "\n",
      "Female    513\n",
      "Male      470\n",
      "U          17\n",
      "Name: gender, dtype: int64\n",
      "\n",
      "60    20\n",
      "59    18\n",
      "42    17\n",
      "70    17\n",
      "11    16\n",
      "      ..\n",
      "19     5\n",
      "9      5\n",
      "92     5\n",
      "85     4\n",
      "20     3\n",
      "Name: past_3_years_bike_related_purchases, Length: 100, dtype: int64\n",
      "\n",
      "1998-02-05    2\n",
      "1978-01-15    2\n",
      "1977-11-08    2\n",
      "1951-11-28    2\n",
      "1979-07-28    2\n",
      "             ..\n",
      "1945-08-08    1\n",
      "1943-08-27    1\n",
      "1999-10-24    1\n",
      "1976-01-24    1\n",
      "1955-10-02    1\n",
      "Name: DOB, Length: 958, dtype: int64\n",
      "\n",
      "Associate Professor         15\n",
      "Environmental Tech          14\n",
      "Software Consultant         14\n",
      "Chief Design Engineer       13\n",
      "Assistant Manager           12\n",
      "                            ..\n",
      "Accountant II                1\n",
      "Programmer IV                1\n",
      "Administrative Officer       1\n",
      "Accounting Assistant III     1\n",
      "Web Developer I              1\n",
      "Name: job_title, Length: 184, dtype: int64\n",
      "\n",
      "Financial Services    203\n",
      "Manufacturing         199\n",
      "Health                152\n",
      "Retail                 78\n",
      "Property               64\n",
      "IT                     51\n",
      "Entertainment          37\n",
      "Argiculture            26\n",
      "Telecommunications     25\n",
      "Name: job_industry_category, dtype: int64\n",
      "\n",
      "Mass Customer        508\n",
      "High Net Worth       251\n",
      "Affluent Customer    241\n",
      "Name: wealth_segment, dtype: int64\n",
      "\n",
      "N    1000\n",
      "Name: deceased_indicator, dtype: int64\n",
      "\n",
      "No     507\n",
      "Yes    493\n",
      "Name: owns_car, dtype: int64\n",
      "\n",
      "9     79\n",
      "13    74\n",
      "11    68\n",
      "10    63\n",
      "12    61\n",
      "5     60\n",
      "7     60\n",
      "17    59\n",
      "15    58\n",
      "8     55\n",
      "14    54\n",
      "16    49\n",
      "6     45\n",
      "4     36\n",
      "18    36\n",
      "19    34\n",
      "3     26\n",
      "21    24\n",
      "20    22\n",
      "2     15\n",
      "22    12\n",
      "1      8\n",
      "0      2\n",
      "Name: tenure, dtype: int64\n",
      "\n",
      "45 Shopko Center             1\n",
      "77608 Donald Center          1\n",
      "7 Elgar Hill                 1\n",
      "36506 Bartillon Point        1\n",
      "8 Scott Drive                1\n",
      "                            ..\n",
      "102 Charing Cross Terrace    1\n",
      "5 Trailsway Avenue           1\n",
      "23694 Leroy Place            1\n",
      "53 Memorial Street           1\n",
      "21875 Grover Drive           1\n",
      "Name: address, Length: 1000, dtype: int64\n",
      "\n",
      "2145    9\n",
      "2232    9\n",
      "2750    7\n",
      "3977    7\n",
      "2148    7\n",
      "       ..\n",
      "2576    1\n",
      "2479    1\n",
      "3065    1\n",
      "2762    1\n",
      "4215    1\n",
      "Name: postcode, Length: 522, dtype: int64\n",
      "\n",
      "NSW    506\n",
      "VIC    266\n",
      "QLD    228\n",
      "Name: state, dtype: int64\n",
      "\n",
      "Australia    1000\n",
      "Name: country, dtype: int64\n",
      "\n",
      "9     173\n",
      "8     162\n",
      "7     138\n",
      "10    116\n",
      "6      70\n",
      "11     62\n",
      "5      57\n",
      "4      53\n",
      "3      51\n",
      "12     46\n",
      "2      42\n",
      "1      30\n",
      "Name: property_valuation, dtype: int64\n",
      "\n",
      "0.62    26\n",
      "0.86    24\n",
      "0.77    20\n",
      "0.58    20\n",
      "0.49    20\n",
      "        ..\n",
      "0.63     9\n",
      "0.74     8\n",
      "0.75     8\n",
      "0.69     8\n",
      "0.96     7\n",
      "Name: Unnamed: 16, Length: 71, dtype: int64\n",
      "\n",
      "1.0500    20\n",
      "0.5500    19\n",
      "0.9500    15\n",
      "0.7750    15\n",
      "1.0700    14\n",
      "          ..\n",
      "0.8625     3\n",
      "0.5100     3\n",
      "1.0250     2\n",
      "0.6300     2\n",
      "0.9375     2\n",
      "Name: Unnamed: 17, Length: 132, dtype: int64\n",
      "\n",
      "0.750000    18\n",
      "0.962500    15\n",
      "1.050000    15\n",
      "1.312500    14\n",
      "1.350000    14\n",
      "            ..\n",
      "1.500000     1\n",
      "1.390625     1\n",
      "0.984375     1\n",
      "0.450000     1\n",
      "0.420000     1\n",
      "Name: Unnamed: 18, Length: 183, dtype: int64\n",
      "\n",
      "1.062500    14\n",
      "0.750000    11\n",
      "0.637500    10\n",
      "0.680000     9\n",
      "0.812500     9\n",
      "            ..\n",
      "0.916406     1\n",
      "0.587500     1\n",
      "0.671500     1\n",
      "0.560000     1\n",
      "1.562500     1\n",
      "Name: Unnamed: 19, Length: 321, dtype: int64\n",
      "\n",
      "760     13\n",
      "259     12\n",
      "455      9\n",
      "133      9\n",
      "386      9\n",
      "        ..\n",
      "240      1\n",
      "248      1\n",
      "657      1\n",
      "249      1\n",
      "1000     1\n",
      "Name: Unnamed: 20, Length: 324, dtype: int64\n",
      "\n",
      "760     13\n",
      "259     12\n",
      "455      9\n",
      "133      9\n",
      "386      9\n",
      "        ..\n",
      "240      1\n",
      "248      1\n",
      "657      1\n",
      "249      1\n",
      "1000     1\n",
      "Name: Rank, Length: 324, dtype: int64\n",
      "\n",
      "0.637500    13\n",
      "1.062500    12\n",
      "0.892500     9\n",
      "1.237500     9\n",
      "0.945625     9\n",
      "            ..\n",
      "1.090000     1\n",
      "1.078125     1\n",
      "0.714000     1\n",
      "1.075781     1\n",
      "0.340000     1\n",
      "Name: Value, Length: 324, dtype: int64\n",
      "\n"
     ]
    }
   ],
   "source": [
    "value_counts(new_cust_df)"
   ]
  },
  {
   "cell_type": "code",
   "execution_count": 46,
   "id": "7420677d",
   "metadata": {},
   "outputs": [
    {
     "data": {
      "text/plain": [
       "F    513\n",
       "M    470\n",
       "U     17\n",
       "Name: gender, dtype: int64"
      ]
     },
     "execution_count": 46,
     "metadata": {},
     "output_type": "execute_result"
    }
   ],
   "source": [
    "new_cust_df['gender']=new_cust_df['gender'].replace({'Female':'F', 'Male':'M'})\n",
    "new_cust_df['gender'].value_counts()"
   ]
  },
  {
   "cell_type": "code",
   "execution_count": 47,
   "id": "f1ef7dfd",
   "metadata": {},
   "outputs": [
    {
     "data": {
      "text/plain": [
       "New South Wales    506\n",
       "Victoria           266\n",
       "Queensland         228\n",
       "Name: state, dtype: int64"
      ]
     },
     "execution_count": 47,
     "metadata": {},
     "output_type": "execute_result"
    }
   ],
   "source": [
    "new_cust_df['state']=new_cust_df['state'].replace({'NSW':'New South Wales','VIC':'Victoria', 'QLD':'Queensland'})\n",
    "new_cust_df['state'].value_counts()"
   ]
  },
  {
   "cell_type": "code",
   "execution_count": 48,
   "id": "611e8766",
   "metadata": {},
   "outputs": [],
   "source": [
    "new_cust_df['age'] = new_cust_df['DOB'].apply(age)"
   ]
  },
  {
   "cell_type": "code",
   "execution_count": 49,
   "id": "50d83327",
   "metadata": {},
   "outputs": [],
   "source": [
    "new_cust_df.drop('DOB',axis=1, inplace=True)"
   ]
  },
  {
   "cell_type": "code",
   "execution_count": 50,
   "id": "d21ff7ba",
   "metadata": {},
   "outputs": [],
   "source": [
    "# dropping the 'unnamed' columns\n",
    "\n",
    "new_cust_df.drop(columns=['Unnamed: 16','Unnamed: 17','Unnamed: 18','Unnamed: 19','Unnamed: 20'], axis=1, inplace=True)"
   ]
  },
  {
   "cell_type": "code",
   "execution_count": 51,
   "id": "65d1df82",
   "metadata": {},
   "outputs": [
    {
     "data": {
      "text/html": [
       "<div><div id=d1c314ff-13e8-4a64-ae23-d9a3e8156aad style=\"display:none; background-color:#9D6CFF; color:white; width:200px; height:30px; padding-left:5px; border-radius:4px; flex-direction:row; justify-content:space-around; align-items:center;\" onmouseover=\"this.style.backgroundColor='#BA9BF8'\" onmouseout=\"this.style.backgroundColor='#9D6CFF'\" onclick=\"window.commands?.execute('create-mitosheet-from-dataframe-output');\">See Full Dataframe in Mito</div> <script> if (window.commands?.hasCommand('create-mitosheet-from-dataframe-output')) document.getElementById('d1c314ff-13e8-4a64-ae23-d9a3e8156aad').style.display = 'flex' </script> <table border=\"1\" class=\"dataframe\">\n",
       "  <thead>\n",
       "    <tr style=\"text-align: right;\">\n",
       "      <th></th>\n",
       "      <th>first_name</th>\n",
       "      <th>last_name</th>\n",
       "      <th>gender</th>\n",
       "      <th>past_3_years_bike_related_purchases</th>\n",
       "      <th>job_title</th>\n",
       "      <th>job_industry_category</th>\n",
       "      <th>wealth_segment</th>\n",
       "      <th>deceased_indicator</th>\n",
       "      <th>owns_car</th>\n",
       "      <th>tenure</th>\n",
       "      <th>address</th>\n",
       "      <th>postcode</th>\n",
       "      <th>state</th>\n",
       "      <th>country</th>\n",
       "      <th>property_valuation</th>\n",
       "      <th>Rank</th>\n",
       "      <th>Value</th>\n",
       "      <th>age</th>\n",
       "    </tr>\n",
       "  </thead>\n",
       "  <tbody>\n",
       "    <tr>\n",
       "      <th>549</th>\n",
       "      <td>Beverlee</td>\n",
       "      <td>Querree</td>\n",
       "      <td>F</td>\n",
       "      <td>42</td>\n",
       "      <td>Marketing Manager</td>\n",
       "      <td>Financial Services</td>\n",
       "      <td>High Net Worth</td>\n",
       "      <td>N</td>\n",
       "      <td>Yes</td>\n",
       "      <td>12</td>\n",
       "      <td>891 Ohio Terrace</td>\n",
       "      <td>2075</td>\n",
       "      <td>New South Wales</td>\n",
       "      <td>Australia</td>\n",
       "      <td>12</td>\n",
       "      <td>549</td>\n",
       "      <td>0.82000</td>\n",
       "      <td>31.0</td>\n",
       "    </tr>\n",
       "    <tr>\n",
       "      <th>432</th>\n",
       "      <td>Arel</td>\n",
       "      <td>Abramovitz</td>\n",
       "      <td>M</td>\n",
       "      <td>72</td>\n",
       "      <td>Nurse Practicioner</td>\n",
       "      <td>Health</td>\n",
       "      <td>Mass Customer</td>\n",
       "      <td>N</td>\n",
       "      <td>No</td>\n",
       "      <td>16</td>\n",
       "      <td>32249 Sycamore Way</td>\n",
       "      <td>4650</td>\n",
       "      <td>Queensland</td>\n",
       "      <td>Australia</td>\n",
       "      <td>4</td>\n",
       "      <td>433</td>\n",
       "      <td>0.90625</td>\n",
       "      <td>65.0</td>\n",
       "    </tr>\n",
       "  </tbody>\n",
       "</table></div>"
      ],
      "text/plain": [
       "    first_name   last_name gender  past_3_years_bike_related_purchases  \\\n",
       "549   Beverlee     Querree      F                                   42   \n",
       "432       Arel  Abramovitz      M                                   72   \n",
       "\n",
       "              job_title job_industry_category  wealth_segment  \\\n",
       "549   Marketing Manager    Financial Services  High Net Worth   \n",
       "432  Nurse Practicioner                Health   Mass Customer   \n",
       "\n",
       "    deceased_indicator owns_car  tenure             address  postcode  \\\n",
       "549                  N      Yes      12    891 Ohio Terrace      2075   \n",
       "432                  N       No      16  32249 Sycamore Way      4650   \n",
       "\n",
       "               state    country  property_valuation  Rank    Value   age  \n",
       "549  New South Wales  Australia                  12   549  0.82000  31.0  \n",
       "432       Queensland  Australia                   4   433  0.90625  65.0  "
      ]
     },
     "execution_count": 51,
     "metadata": {},
     "output_type": "execute_result"
    }
   ],
   "source": [
    "new_cust_df.sample(2)"
   ]
  },
  {
   "cell_type": "code",
   "execution_count": 52,
   "id": "ca810ebe",
   "metadata": {},
   "outputs": [],
   "source": [
    "new_cust_df.to_csv('new_cust_df')"
   ]
  },
  {
   "cell_type": "markdown",
   "id": "2e9e9e04",
   "metadata": {},
   "source": [
    "#### Merging dataset"
   ]
  },
  {
   "cell_type": "code",
   "execution_count": 53,
   "id": "4a41dfb9",
   "metadata": {},
   "outputs": [],
   "source": [
    "# Merge dataframes using the customer_id column\n",
    "final_df = pd.merge(transactions_df,cust_demo_df, how='left', on='customer_id')\n",
    "final_df.drop('default', axis=1,inplace=True)"
   ]
  },
  {
   "cell_type": "code",
   "execution_count": 54,
   "id": "d8babb3a",
   "metadata": {},
   "outputs": [
    {
     "name": "stdout",
     "output_type": "stream",
     "text": [
      "<class 'pandas.core.frame.DataFrame'>\n",
      "Int64Index: 20000 entries, 0 to 19999\n",
      "Data columns (total 29 columns):\n",
      " #   Column                               Non-Null Count  Dtype         \n",
      "---  ------                               --------------  -----         \n",
      " 0   transaction_id                       20000 non-null  int64         \n",
      " 1   product_id                           20000 non-null  int64         \n",
      " 2   customer_id                          20000 non-null  int64         \n",
      " 3   transaction_date                     20000 non-null  datetime64[ns]\n",
      " 4   online_order                         19640 non-null  float64       \n",
      " 5   order_status                         20000 non-null  object        \n",
      " 6   brand                                19803 non-null  object        \n",
      " 7   product_line                         19803 non-null  object        \n",
      " 8   product_class                        19803 non-null  object        \n",
      " 9   product_size                         19803 non-null  object        \n",
      " 10  list_price                           20000 non-null  float64       \n",
      " 11  standard_cost                        19803 non-null  float64       \n",
      " 12  product_first_sold_date              19803 non-null  datetime64[ns]\n",
      " 13  first_name                           19997 non-null  object        \n",
      " 14  last_name                            19355 non-null  object        \n",
      " 15  gender                               19997 non-null  object        \n",
      " 16  past_3_years_bike_related_purchases  19997 non-null  float64       \n",
      " 17  job_title                            17603 non-null  object        \n",
      " 18  job_industry_category                16768 non-null  object        \n",
      " 19  wealth_segment                       19997 non-null  object        \n",
      " 20  deceased_indicator                   19997 non-null  object        \n",
      " 21  owns_car                             19997 non-null  object        \n",
      " 22  tenure                               19551 non-null  float64       \n",
      " 23  age                                  19997 non-null  float64       \n",
      " 24  address                              19968 non-null  object        \n",
      " 25  postcode                             19968 non-null  float64       \n",
      " 26  state                                19968 non-null  object        \n",
      " 27  country                              19968 non-null  object        \n",
      " 28  property_valuation                   19968 non-null  float64       \n",
      "dtypes: datetime64[ns](2), float64(8), int64(3), object(16)\n",
      "memory usage: 4.6+ MB\n"
     ]
    }
   ],
   "source": [
    "df = pd.merge(final_df,cust_add_df, how='left', on='customer_id')\n",
    "df.info()"
   ]
  },
  {
   "cell_type": "code",
   "execution_count": 55,
   "id": "9f2a778b",
   "metadata": {},
   "outputs": [],
   "source": [
    "df.to_csv('merged_df.csv')"
   ]
  },
  {
   "cell_type": "code",
   "execution_count": null,
   "id": "2ba5111c",
   "metadata": {},
   "outputs": [],
   "source": []
  }
 ],
 "metadata": {
  "kernelspec": {
   "display_name": "Python 3 (ipykernel)",
   "language": "python",
   "name": "python3"
  },
  "language_info": {
   "codemirror_mode": {
    "name": "ipython",
    "version": 3
   },
   "file_extension": ".py",
   "mimetype": "text/x-python",
   "name": "python",
   "nbconvert_exporter": "python",
   "pygments_lexer": "ipython3",
   "version": "3.9.12"
  }
 },
 "nbformat": 4,
 "nbformat_minor": 5
}
