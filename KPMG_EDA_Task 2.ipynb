{
 "cells": [
  {
   "cell_type": "markdown",
   "id": "714a0d71",
   "metadata": {},
   "source": [
    "For context, **Sprocket Central Pty Ltd** is a long-standing KPMG client whom specialises in high-quality bikes and accessible cycling accessories to riders. Their marketing team is looking to boost business by analysing their existing customer dataset to determine customer trends and behaviour. \n",
    "\n",
    "Using the existing 3 datasets (Customer demographic, customer address and transactions) as a labelled dataset, please **recommend which of these 1000 new customers should be targeted to drive the most value for the organisation.**\n",
    "\n",
    "In building this recommendation, we need to start with a PowerPoint presentation which outlines the approach which we will be taking. The client has agreed on a 3 week scope with the following 3 phases as follows - **Data Exploration; Model Development and Interpretation.**\n",
    "\n",
    "*Prepare a detailed approach for completing the analysis including activities – i.e. understanding the data distributions, feature engineering, data transformations, modelling, results interpretation and reporting. This detailed plan needs to be presented to the client to get a sign-off. Please advise what steps you would take. *\n",
    "\n",
    "Please ensure your PowerPoint presentation includes a detailed approach for our strategy behind each of the 3 phases including activities involved in each - i.e. understanding the data distributions, feature engineering, data transformations, modelling, results interpretation and reporting. This detailed plan needs to be presented to the client to get a sign-off."
   ]
  },
  {
   "cell_type": "code",
   "execution_count": 1,
   "id": "2e9a8ade",
   "metadata": {},
   "outputs": [],
   "source": [
    "# Import basic libraries\n",
    "\n",
    "import pandas as pd\n",
    "import numpy as np\n",
    "import seaborn as sns\n",
    "import matplotlib.pyplot as plt\n",
    "%matplotlib inline\n",
    "import plotly.express as px\n",
    "import plotly.offline as pyo"
   ]
  },
  {
   "cell_type": "code",
   "execution_count": 2,
   "id": "178ca334",
   "metadata": {},
   "outputs": [],
   "source": [
    "# loading dataset - merged dataset based on customer id\n",
    "\n",
    "cust_df =  pd.read_csv('merged_df.csv')\n",
    "cust_df.drop('Unnamed: 0', axis=1, inplace=True)"
   ]
  },
  {
   "cell_type": "code",
   "execution_count": 3,
   "id": "58535f5c",
   "metadata": {},
   "outputs": [
    {
     "data": {
      "text/html": [
       "<div><div id=8ae10338-f094-47fd-b85f-6948ee2e9c41 style=\"display:none; background-color:#9D6CFF; color:white; width:200px; height:30px; padding-left:5px; border-radius:4px; flex-direction:row; justify-content:space-around; align-items:center;\" onmouseover=\"this.style.backgroundColor='#BA9BF8'\" onmouseout=\"this.style.backgroundColor='#9D6CFF'\" onclick=\"window.commands?.execute('create-mitosheet-from-dataframe-output');\">See Full Dataframe in Mito</div> <script> if (window.commands?.hasCommand('create-mitosheet-from-dataframe-output')) document.getElementById('8ae10338-f094-47fd-b85f-6948ee2e9c41').style.display = 'flex' </script> <table border=\"1\" class=\"dataframe\">\n",
       "  <thead>\n",
       "    <tr style=\"text-align: right;\">\n",
       "      <th></th>\n",
       "      <th>transaction_id</th>\n",
       "      <th>product_id</th>\n",
       "      <th>customer_id</th>\n",
       "      <th>transaction_date</th>\n",
       "      <th>online_order</th>\n",
       "      <th>order_status</th>\n",
       "      <th>brand</th>\n",
       "      <th>product_line</th>\n",
       "      <th>product_class</th>\n",
       "      <th>product_size</th>\n",
       "      <th>...</th>\n",
       "      <th>wealth_segment</th>\n",
       "      <th>deceased_indicator</th>\n",
       "      <th>owns_car</th>\n",
       "      <th>tenure</th>\n",
       "      <th>age</th>\n",
       "      <th>address</th>\n",
       "      <th>postcode</th>\n",
       "      <th>state</th>\n",
       "      <th>country</th>\n",
       "      <th>property_valuation</th>\n",
       "    </tr>\n",
       "  </thead>\n",
       "  <tbody>\n",
       "    <tr>\n",
       "      <th>548</th>\n",
       "      <td>549</td>\n",
       "      <td>1</td>\n",
       "      <td>543</td>\n",
       "      <td>2017-01-25</td>\n",
       "      <td>0.0</td>\n",
       "      <td>Approved</td>\n",
       "      <td>Giant Bicycles</td>\n",
       "      <td>Standard</td>\n",
       "      <td>medium</td>\n",
       "      <td>medium</td>\n",
       "      <td>...</td>\n",
       "      <td>Affluent Customer</td>\n",
       "      <td>N</td>\n",
       "      <td>Yes</td>\n",
       "      <td>17.0</td>\n",
       "      <td>49.0</td>\n",
       "      <td>20 Debs Road</td>\n",
       "      <td>2307.0</td>\n",
       "      <td>New South Wales</td>\n",
       "      <td>Australia</td>\n",
       "      <td>4.0</td>\n",
       "    </tr>\n",
       "    <tr>\n",
       "      <th>2529</th>\n",
       "      <td>2530</td>\n",
       "      <td>56</td>\n",
       "      <td>1151</td>\n",
       "      <td>2017-10-16</td>\n",
       "      <td>0.0</td>\n",
       "      <td>Approved</td>\n",
       "      <td>Norco Bicycles</td>\n",
       "      <td>Mountain</td>\n",
       "      <td>low</td>\n",
       "      <td>small</td>\n",
       "      <td>...</td>\n",
       "      <td>High Net Worth</td>\n",
       "      <td>N</td>\n",
       "      <td>Yes</td>\n",
       "      <td>19.0</td>\n",
       "      <td>57.0</td>\n",
       "      <td>40570 Acker Alley</td>\n",
       "      <td>2166.0</td>\n",
       "      <td>New South Wales</td>\n",
       "      <td>Australia</td>\n",
       "      <td>9.0</td>\n",
       "    </tr>\n",
       "  </tbody>\n",
       "</table></div>"
      ],
      "text/plain": [
       "      transaction_id  product_id  customer_id transaction_date  online_order  \\\n",
       "548              549           1          543       2017-01-25           0.0   \n",
       "2529            2530          56         1151       2017-10-16           0.0   \n",
       "\n",
       "     order_status           brand product_line product_class product_size  \\\n",
       "548      Approved  Giant Bicycles     Standard        medium       medium   \n",
       "2529     Approved  Norco Bicycles     Mountain           low        small   \n",
       "\n",
       "      ...     wealth_segment  deceased_indicator owns_car tenure   age  \\\n",
       "548   ...  Affluent Customer                   N      Yes   17.0  49.0   \n",
       "2529  ...     High Net Worth                   N      Yes   19.0  57.0   \n",
       "\n",
       "                address  postcode            state    country  \\\n",
       "548        20 Debs Road    2307.0  New South Wales  Australia   \n",
       "2529  40570 Acker Alley    2166.0  New South Wales  Australia   \n",
       "\n",
       "     property_valuation  \n",
       "548                 4.0  \n",
       "2529                9.0  \n",
       "\n",
       "[2 rows x 29 columns]"
      ]
     },
     "execution_count": 3,
     "metadata": {},
     "output_type": "execute_result"
    }
   ],
   "source": [
    "cust_df.sample(2)"
   ]
  },
  {
   "cell_type": "code",
   "execution_count": 4,
   "id": "ef773663",
   "metadata": {},
   "outputs": [
    {
     "data": {
      "text/plain": [
       "online_order                            360\n",
       "brand                                   197\n",
       "product_line                            197\n",
       "product_class                           197\n",
       "product_size                            197\n",
       "standard_cost                           197\n",
       "product_first_sold_date                 197\n",
       "first_name                                3\n",
       "last_name                               645\n",
       "gender                                    3\n",
       "past_3_years_bike_related_purchases       3\n",
       "job_title                              2397\n",
       "job_industry_category                  3232\n",
       "wealth_segment                            3\n",
       "deceased_indicator                        3\n",
       "owns_car                                  3\n",
       "tenure                                  449\n",
       "age                                       3\n",
       "address                                  32\n",
       "postcode                                 32\n",
       "state                                    32\n",
       "country                                  32\n",
       "property_valuation                       32\n",
       "dtype: int64"
      ]
     },
     "execution_count": 4,
     "metadata": {},
     "output_type": "execute_result"
    }
   ],
   "source": [
    "null_df = cust_df.isna().sum()\n",
    "null_df.loc[null_df> 0] "
   ]
  },
  {
   "cell_type": "code",
   "execution_count": 5,
   "id": "f8eac3af",
   "metadata": {},
   "outputs": [],
   "source": [
    "# Handling the missing values/replacement"
   ]
  },
  {
   "cell_type": "code",
   "execution_count": 6,
   "id": "cbeeeb00",
   "metadata": {},
   "outputs": [],
   "source": [
    "def unique (df, column_name):\n",
    "    for col in column_name:\n",
    "        print('{} :\\n {}'.format(col,df[col].unique()))"
   ]
  },
  {
   "cell_type": "code",
   "execution_count": 7,
   "id": "1e38566f",
   "metadata": {},
   "outputs": [
    {
     "name": "stdout",
     "output_type": "stream",
     "text": [
      "online_order :\n",
      " [ 0.  1. nan]\n",
      "brand :\n",
      " ['Solex' 'Trek Bicycles' 'OHM Cycles' 'Norco Bicycles' 'Giant Bicycles'\n",
      " 'WeareA2B' nan]\n",
      "product_line :\n",
      " ['Standard' 'Road' 'Mountain' 'Touring' nan]\n",
      "product_class :\n",
      " ['medium' 'low' 'high' nan]\n",
      "product_size :\n",
      " ['medium' 'large' 'small' nan]\n",
      "standard_cost :\n",
      " [  53.62       388.92       248.82       381.1        709.48\n",
      "  829.65        45.26        13.44       380.74       161.6\n",
      "  459.71        56.93       154.4       1479.11       818.01\n",
      " 1167.18       388.72        57.74       596.55       270.3\n",
      "  513.85       954.82      1531.42       376.84      1259.36\n",
      " 1105.75       108.76       675.03        74.51       598.76\n",
      "  589.27       649.49       125.07       211.37       795.1\n",
      "  993.66       136.73       290.41        75.26       874.9\n",
      " 1759.85         7.21      1082.36       677.48       137.9\n",
      "  141.4        131.92       933.84       707.4        748.9\n",
      "  594.68       215.14       205.36       298.72       614.8\n",
      "  333.18        84.99       400.13       528.43       689.18\n",
      "  297.43       762.63       582.48       507.58       215.03\n",
      "  863.95      1610.9       1580.47       820.78       101.58\n",
      "  431.45      1043.77       230.09       778.69               nan\n",
      "  764.96       260.14       234.43       312.74      1234.29\n",
      "  667.4        173.18       612.88       448.9        363.25\n",
      "  151.96       206.35       400.91       464.72       521.94\n",
      "  950.52      1203.4         99.59       525.33      1516.13\n",
      "  826.51        44.71       829.51       733.58       407.54\n",
      "  770.89       312.7350159  270.2999878  667.4000244]\n",
      "product_first_sold_date :\n",
      " ['1970-01-01 11:27:25' '1970-01-01 11:35:01' '1970-01-01 10:06:01'\n",
      " '1970-01-01 10:02:25' '1970-01-01 11:43:46' '1970-01-01 10:50:31'\n",
      " '1970-01-01 09:29:25' '1970-01-01 11:05:15' '1970-01-01 09:17:35'\n",
      " '1970-01-01 10:36:56' '1970-01-01 11:19:44' '1970-01-01 11:42:52'\n",
      " '1970-01-01 09:35:27' '1970-01-01 09:36:26' '1970-01-01 10:36:33'\n",
      " '1970-01-01 10:31:13' '1970-01-01 10:36:46' '1970-01-01 09:24:48'\n",
      " '1970-01-01 10:22:17' '1970-01-01 10:05:34' '1970-01-01 11:42:25'\n",
      " '1970-01-01 11:46:44' '1970-01-01 09:27:59' '1970-01-01 11:24:07'\n",
      " '1970-01-01 11:49:20' '1970-01-01 11:51:50' '1970-01-01 11:38:42'\n",
      " '1970-01-01 10:25:39' '1970-01-01 11:51:28' '1970-01-01 10:49:51'\n",
      " '1970-01-01 10:44:07' '1970-01-01 10:31:14' '1970-01-01 09:43:16'\n",
      " '1970-01-01 09:19:09' '1970-01-01 10:44:53' '1970-01-01 10:27:48'\n",
      " '1970-01-01 11:32:13' '1970-01-01 11:23:29' '1970-01-01 11:15:53'\n",
      " '1970-01-01 10:57:07' '1970-01-01 10:41:22' '1970-01-01 09:51:10'\n",
      " '1970-01-01 11:30:34' '1970-01-01 10:06:07' '1970-01-01 10:45:50'\n",
      " '1970-01-01 11:37:28' '1970-01-01 09:30:44' '1970-01-01 11:51:36'\n",
      " '1970-01-01 10:37:38' '1970-01-01 11:26:07' '1970-01-01 11:17:52'\n",
      " '1970-01-01 09:55:07' '1970-01-01 11:44:55' '1970-01-01 09:19:12'\n",
      " '1970-01-01 09:54:27' '1970-01-01 09:24:39' '1970-01-01 11:17:50'\n",
      " '1970-01-01 10:27:06' '1970-01-01 10:38:59' '1970-01-01 11:11:43'\n",
      " '1970-01-01 09:29:03' '1970-01-01 09:46:00' '1970-01-01 10:11:08'\n",
      " '1970-01-01 10:08:18' '1970-01-01 09:27:51' '1970-01-01 11:17:29'\n",
      " '1970-01-01 10:30:23' '1970-01-01 10:02:26' '1970-01-01 11:41:45'\n",
      " '1970-01-01 09:28:35' '1970-01-01 09:44:12' '1970-01-01 09:16:04'\n",
      " '1970-01-01 11:43:38' '1970-01-01 11:29:05' '1970-01-01 09:17:09'\n",
      " '1970-01-01 10:47:39' nan '1970-01-01 10:13:53' '1970-01-01 10:24:59'\n",
      " '1970-01-01 11:24:24' '1970-01-01 09:14:19' '1970-01-01 09:52:40'\n",
      " '1970-01-01 10:30:38' '1970-01-01 10:28:18' '1970-01-01 09:49:38'\n",
      " '1970-01-01 10:42:53' '1970-01-01 10:33:22' '1970-01-01 10:58:46'\n",
      " '1970-01-01 11:04:40' '1970-01-01 11:14:47' '1970-01-01 11:12:16'\n",
      " '1970-01-01 11:16:58' '1970-01-01 09:29:30' '1970-01-01 11:13:30'\n",
      " '1970-01-01 11:47:38' '1970-01-01 10:54:58' '1970-01-01 09:50:55'\n",
      " '1970-01-01 10:20:20' '1970-01-01 10:27:39' '1970-01-01 11:19:39'\n",
      " '1970-01-01 09:35:56']\n",
      "first_name :\n",
      " ['Kristos' 'Lauree' 'Berne' ... 'Dave' 'Raddy' 'Violetta']\n",
      "last_name :\n",
      " ['Anthony' \"O'Donnell\" 'Donegan' ... 'Delete' 'Bucksey' 'Tidy']\n",
      "gender :\n",
      " ['M' 'F' 'U' nan]\n",
      "past_3_years_bike_related_purchases :\n",
      " [19. 89.  9. 83. 29.  3. 56. 67. 97. 65. 53. 14. 73. 31. 62. 64. 66. 32.\n",
      " 72. 21. 55. 51.  2. 20.  7. 58. 27. 80. 47. 78. 23. 77.  5. 13. 69. 24.\n",
      " 61. 92.  0. 63. 94. 15. 12. 35. 25. 75. 71. 34. 60. 68. 17. 28. 84. 70.\n",
      " 93. 96. 38. 95. 33. 99. 39. 40. 26. 74. 54. 48. 91.  6. 79. 37. 41. 42.\n",
      " 43. 57. 16.  1.  4. 82. 90.  8. 52. 87. 18. 86. 76. 81. 11. 98. 46. 88.\n",
      " 36. 50. 49. 44. 10. 59. 85. 22. 30. 45. nan]\n",
      "job_title :\n",
      " ['Software Engineer I' 'Clinical Specialist' 'Desktop Support Technician'\n",
      " 'Staff Scientist' nan 'Web Designer II' 'Food Chemist' 'Quality Engineer'\n",
      " 'Executive Secretary' 'Product Engineer' 'Sales Representative'\n",
      " 'Research Assistant II' 'Registered Nurse' 'Staff Accountant II'\n",
      " 'Assistant Manager' 'Accountant IV' 'Pharmacist' 'Paralegal'\n",
      " 'Office Assistant III' 'VP Marketing' 'Analog Circuit Design manager'\n",
      " 'Help Desk Operator' 'Professor' 'Assistant Professor'\n",
      " 'Occupational Therapist' 'Statistician II' 'Technical Writer'\n",
      " 'Statistician IV' 'Software Engineer III' 'Statistician III'\n",
      " 'Safety Technician II' 'Assistant Media Planner'\n",
      " 'Structural Analysis Engineer' 'Administrative Officer'\n",
      " 'Marketing Assistant' 'Account Coordinator' 'Nuclear Power Engineer'\n",
      " 'Accounting Assistant III' 'General Manager' 'Legal Assistant'\n",
      " 'Business Systems Development Analyst' 'Associate Professor'\n",
      " 'Junior Executive' 'Internal Auditor' 'Safety Technician III'\n",
      " 'Computer Systems Analyst IV' 'Account Executive' 'VP Product Management'\n",
      " 'Nurse' 'Community Outreach Specialist' 'Analyst Programmer'\n",
      " 'Administrative Assistant IV' 'Cost Accountant'\n",
      " 'Quality Control Specialist' 'Environmental Specialist'\n",
      " 'Geological Engineer' 'Accounting Assistant I' 'Accountant III'\n",
      " 'GIS Technical Architect' 'Payment Adjustment Coordinator'\n",
      " 'Recruiting Manager' 'Environmental Tech' 'Staff Accountant III'\n",
      " 'Sales Associate' 'Programmer Analyst I' 'Health Coach IV'\n",
      " 'Social Worker' 'Financial Advisor' 'Financial Analyst'\n",
      " 'Speech Pathologist' 'Civil Engineer' 'Information Systems Manager'\n",
      " 'Operator' 'Accounting Assistant II' 'Engineer I'\n",
      " 'Computer Systems Analyst I' 'Editor' 'Budget/Accounting Analyst I'\n",
      " 'Programmer Analyst III' 'Programmer Analyst IV'\n",
      " 'Account Representative IV' 'Research Nurse' 'Teacher'\n",
      " 'Physical Therapy Assistant' 'Structural Engineer'\n",
      " 'Chief Design Engineer' 'Accountant II' 'Geologist III' 'Senior Editor'\n",
      " 'Project Manager' 'Programmer I' 'Systems Administrator III'\n",
      " 'Senior Developer' 'Database Administrator IV' 'Automation Specialist I'\n",
      " 'Geologist I' 'Data Coordiator' 'Budget/Accounting Analyst IV'\n",
      " 'Electrical Engineer' 'Research Associate' 'Director of Sales'\n",
      " 'Senior Financial Analyst' 'Design Engineer' 'Nurse Practicioner'\n",
      " 'Software Engineer II' 'Actuary' 'Graphic Designer' 'VP Accounting'\n",
      " 'VP Quality Control' 'Chemical Engineer' 'Dental Hygienist'\n",
      " 'Compensation Analyst' 'Web Developer III' 'Media Manager III' 'VP Sales'\n",
      " 'Developer II' 'Programmer Analyst II' 'Software Test Engineer III'\n",
      " 'Web Developer IV' 'Engineer IV' 'Mechanical Systems Engineer'\n",
      " 'Software Test Engineer II' 'Web Developer I' 'Help Desk Technician'\n",
      " 'Office Assistant IV' 'Engineer II' 'Librarian' 'Health Coach II'\n",
      " 'Office Assistant II' 'Software Consultant' 'Database Administrator III'\n",
      " 'Automation Specialist II' 'Web Designer III' 'Senior Quality Engineer'\n",
      " 'Software Test Engineer I' 'Systems Administrator IV' 'Statistician I'\n",
      " 'Tax Accountant' 'Research Assistant IV' 'Account Representative II'\n",
      " 'Staff Accountant I' 'Recruiter' 'Computer Systems Analyst II'\n",
      " 'Senior Sales Associate' 'Human Resources Assistant III'\n",
      " 'Administrative Assistant III' 'Programmer II' 'Software Engineer IV'\n",
      " 'Human Resources Assistant II' 'Developer IV' 'Human Resources Manager'\n",
      " 'Web Developer II' 'Marketing Manager' 'Database Administrator I'\n",
      " 'Web Designer I' 'Developer III' 'Account Representative III'\n",
      " 'Accountant I' 'Database Administrator II' 'Research Assistant I'\n",
      " 'Software Test Engineer IV' 'Geologist IV' 'Media Manager II'\n",
      " 'Automation Specialist III' 'Budget/Accounting Analyst III'\n",
      " 'Senior Cost Accountant' 'Biostatistician II' 'Safety Technician IV'\n",
      " 'Web Designer IV' 'Biostatistician I' 'Health Coach I'\n",
      " 'Human Resources Assistant I' 'Health Coach III' 'Engineer III'\n",
      " 'Administrative Assistant I' 'Systems Administrator I'\n",
      " 'Biostatistician IV' 'Systems Administrator II'\n",
      " 'Budget/Accounting Analyst II' 'Safety Technician I'\n",
      " 'Accounting Assistant IV' 'Media Manager IV' 'Programmer III'\n",
      " 'Staff Accountant IV' 'Account Representative I' 'Media Manager I'\n",
      " 'Geologist II' 'Human Resources Assistant IV' 'Biostatistician III'\n",
      " 'Administrative Assistant II' 'Programmer IV'\n",
      " 'Computer Systems Analyst III' 'Office Assistant I'\n",
      " 'Automation Specialist IV' 'Research Assistant III' 'Developer I']\n",
      "job_industry_category :\n",
      " ['Financial Services' 'Health' 'Retail' 'Property' 'Manufacturing'\n",
      " 'Entertainment' 'IT' nan 'Argiculture' 'Telecommunications']\n",
      "wealth_segment :\n",
      " ['Mass Customer' 'Affluent Customer' 'High Net Worth' nan]\n",
      "deceased_indicator :\n",
      " ['N' 'Y' nan]\n",
      "owns_car :\n",
      " ['Yes' 'No' nan]\n",
      "tenure :\n",
      " [10. 22. 16.  2. 12. 18.  6.  7.  8. 13. nan 19.  4.  3.  9. 15. 17.  1.\n",
      " 20. 11. 21.  5. 14.]\n",
      "age :\n",
      " [68. 43. 45. 61. 26. 64. 44. 37. 52. 63. 41. 69. 39. 47. 57. 66. 49. 33.\n",
      " 46. 51. 55. 30. 60. 53. 42. 38. 25. 58. 24. 35. 36. 28. 56. 54. 59. 22.\n",
      " 48. 27. 65. 31. 50. 32. 40. 62. 23. 29. 34. 67. 21. 91. 79. 82. 78. 87.\n",
      " 20. nan]\n",
      "address :\n",
      " ['984 Hoepker Court' '4 Shopko Circle' '586 Miller Parkway' ...\n",
      " '58 Helena Hill' '724 West Park' '8 Becker Drive']\n",
      "postcode :\n",
      " [3064. 2196. 2835. 2096. 2292. 2153. 2155. 4034. 4124. 4221. 2170. 2171.\n",
      " 2580. 2283. 3031. 2145. 2250. 3218. 2470. 2101. 4305. 2800. 2026. 3124.\n",
      " 2280. 2151. 4213. 2564. 2127. 3141. 4869. 4503. 4500. 2138. 3121. 4556.\n",
      " 4220. 2065. 2219. 4812. 2147. 3564. 2032. 3018. 2428. 3012. 4519. 4014.\n",
      " 4670. 4122. 2323. 2040. 4017. 4053. 2871. 3803. 4152. 3048. 4127. 2066.\n",
      " 3862. 2756. 2441. 4815. 4223. 4740. 2223. 3620. 3199. 2143. 2142. 2168.\n",
      " 2777. 2227. 3213. 4207. 2770. 2085. 3082. 3806. 2106. 2016. 4019. 3930.\n",
      " 2159. 3070. 2049. 2262. 2141. 2519. 2530. 2102. 4660. 3021. 3977. 2515.\n",
      " 3109. 2093. 2154. 2233. 2779. 2767.   nan 2073. 4352. 2047. 3809. 2567.\n",
      " 3805. 3129. 2760. 3061. 3175. 2190. 2619. 4340. 4132. 2380. 4064. 4173.\n",
      " 4226. 2259. 3188. 4551. 2063. 3429. 2745. 2260. 4562. 3786. 2194. 2119.\n",
      " 2176. 2015. 3215. 4825. 2100. 4171. 2536. 2304. 4161. 4055. 4011. 2069.\n",
      " 3222. 3196. 3127. 3630. 2560. 4133. 4216. 2165. 2224. 2440. 2261. 4701.\n",
      " 2762. 3125. 3931. 2133. 2027. 4160. 4879. 2009. 2097. 4370. 2074. 2021.\n",
      " 2164. 2086. 2211. 2768. 3023. 4350. 2206. 2763. 2450. 3400. 2166. 2099.\n",
      " 3130. 2208. 4726. 2076. 3168. 3219. 4870. 2340. 2761. 2226. 2017. 3146.\n",
      " 2018. 3181. 3079. 2043. 4504. 2195. 3020. 3212. 4227. 2118. 3058. 3068.\n",
      " 4720. 3796. 2210. 2650. 2477. 2880. 3040. 3850. 3029. 4506. 4306. 2759.\n",
      " 2148. 2160. 3804. 2064. 4210. 4120. 2830. 4131. 2205. 2019. 4075. 3024.\n",
      " 2484. 4068. 3046. 2038. 2217. 3752. 4300. 2207. 3101. 3150. 2070. 4560.\n",
      " 3183. 3911. 2050. 4512. 2747. 2320. 2287. 4217. 4570. 2081. 3138. 4552.\n",
      " 2179. 3551. 3122. 4218. 2299. 2749. 2204. 4109. 3087. 3166. 2705. 4750.\n",
      " 2095. 2284. 2120. 2028. 2234. 3182. 2117. 3765. 4114. 4214. 2079. 2077.\n",
      " 2144. 4208. 2750. 3186. 2222. 2566. 3197. 2150. 3147. 4102. 2213. 2325.\n",
      " 2200. 2214. 3004. 2135. 2285. 3015. 2487. 2128. 2291. 4151. 3131. 2810.\n",
      " 2758. 2263. 2322. 2295. 2163. 4818. 3161. 4118. 2036. 3821. 2126. 2766.\n",
      " 2216. 2769. 3076. 4121. 2774. 3171. 4130. 4073. 3677. 3690. 2011. 2075.\n",
      " 2539. 4507. 4006. 3810. 2502. 2121. 2445. 2577. 2031. 3910. 2000. 3754.\n",
      " 2230. 3134. 3132. 3184. 2030. 2146. 4110. 4115. 2046. 2307. 3799. 2113.\n",
      " 2548. 4178. 3756. 4105. 2873. 3057. 3223. 2594. 2783. 3145. 4074. 2061.\n",
      " 2444. 3071. 4509. 2630. 2780. 2540. 2156. 3162. 2229. 2251. 2089. 2316.\n",
      " 2010. 3500. 4069. 2264. 4510. 3059. 2090. 3250. 2199. 3037. 2067. 2232.\n",
      " 4215. 3083. 2293. 2680. 2570. 3149. 3936. 3043. 4116. 2572. 3204. 4035.\n",
      " 4680. 3136. 3039. 3190. 3840. 3140. 2843. 3030. 3631. 4022. 4165. 2582.\n",
      " 3940. 3966. 3976. 2137. 4012. 4817. 2557. 3008. 3355. 4179. 3114. 2116.\n",
      " 2114. 4301. 3240. 2327. 4280. 2360. 3802. 3585. 3280. 4820. 2029. 3975.\n",
      " 4030. 4508. 3225. 2300. 3191. 4304. 3934. 3158. 3178. 4031. 3126. 4123.\n",
      " 2112. 4341. 2209. 3072. 2192. 4078. 3207. 2033. 2508. 3241. 4051. 2007.\n",
      " 2798. 2136. 2324. 4205. 3095. 4285. 4060. 4018. 2094. 3174. 3216. 4878.\n",
      " 4860. 3088. 2110. 2848. 3995. 2333. 2218. 2452. 3032. 3192. 3081. 3053.\n",
      " 3621. 2868. 2775. 4020. 2753. 3143. 3084. 4421. 3187. 3185. 3189. 3042.\n",
      " 2358. 2647. 3807. 3201. 2134. 4005. 2048. 3155. 2481. 3075. 3458. 3103.\n",
      " 2528. 3106. 3152. 3350. 2869. 2193. 2765. 2203. 2343. 4511. 3380. 4061.\n",
      " 2795. 4702. 2463. 3028. 4211. 4405. 2290. 3074. 3049. 2173. 3337. 3610.\n",
      " 2454. 4209. 2710. 2265. 3160. 3170. 3195. 3116. 3128. 4580. 3144. 2448.\n",
      " 3011. 3750. 3198. 3156. 4390. 2060. 3730. 2646. 3006. 3073. 2575. 2212.\n",
      " 3056. 2306. 3111. 2062. 4515. 3331. 3022. 2535. 2330. 2298. 4806. 2044.\n",
      " 3108. 3016. 2088. 2565. 4567. 2158. 3264. 2197. 3105. 3153. 3000. 2107.\n",
      " 3179. 2558. 2529. 3172. 2525. 3034. 2480. 4744. 3555. 2042. 2665. 4113.\n",
      " 3027. 2228. 4212. 4514. 2161. 2571. 3812. 2537. 3226. 2430. 2221. 2092.\n",
      " 4059. 4007. 3915. 2162. 2773. 2533. 4401. 2041. 4655. 2087. 3228. 3173.\n",
      " 3757. 2474. 2546. 3065. 3205. 2563. 3025. 2443. 4568. 2115. 2478. 3163.\n",
      " 3214. 2167. 2256. 2125. 2037. 3580. 2178. 3561. 4814. 4154. 2439. 4356.\n",
      " 3918. 2850. 2289. 3634. 2231. 3437. 4573. 3038. 2365. 2346. 2671. 4615.\n",
      " 4505. 2326. 2486. 2714. 4070. 2122. 3067. 3066. 2315. 2506. 2177. 3338.\n",
      " 3133. 2282. 2870. 2034. 3165. 2225. 4101. 4413. 4125. 3912. 2640. 2460.\n",
      " 3749. 4343. 2220. 2023. 3939. 2035. 4032. 3618. 2754. 4275. 4883. 4455.\n",
      " 3115. 4810. 4157. 3352. 2449. 2350. 4224. 4128. 3550. 4721. 2305. 3442.\n",
      " 2573. 3033. 3279. 3085. 4564. 2321. 3791. 4873. 3444. 2794. 4104. 3148.\n",
      " 3844. 3340. 4037. 2072. 4811. 3139. 4805. 2820. 2620. 2576. 2516. 4270.\n",
      " 3094. 2785. 3523. 4610. 2713. 3818. 3941. 2642. 2527. 2534. 3169. 4558.\n",
      " 2318. 3342. 4868. 2541. 2068. 2071. 2752. 2337. 2776. 3260. 2518. 2130.\n",
      " 3036. 3284. 4380. 4077. 4164. 3793. 2152. 4877. 3107. 3041. 4800. 2799.\n",
      " 3922. 2462. 2281. 2579. 2505. 4170. 2446. 3282. 4103. 3099. 4415. 3137.\n",
      " 2716. 2267. 3060. 4344. 2500. 4799. 3638. 4106. 3428. 2111. 4502. 2681.\n",
      " 3351. 3775. 3151. 3093. 3505. 2354. 2008. 3177. 2469. 3356. 2517. 3051.\n",
      " 3808. 4565. 4054. 3142. 3747. 4557. 2022. 3044. 2549. 2485. 2020. 2447.\n",
      " 3224. 2641. 4153. 3013. 4228. 4700. 2852. 4650. 4272. 2471. 3666. 2104.\n",
      " 2131. 2191. 3623. 3480. 4119. 3644. 3441. 4159. 2821. 3377. 2526. 3933.\n",
      " 2748. 2025. 4735. 2400. 3194. 3616. 2731. 2335.]\n",
      "state :\n",
      " ['Victoria' 'New South Wales' 'Queensland' nan]\n",
      "country :\n",
      " ['Australia' nan]\n",
      "property_valuation :\n",
      " [ 6.  5.  1. 10.  7.  4.  8.  9. 11.  2. 12.  3. nan]\n"
     ]
    }
   ],
   "source": [
    "unique(cust_df,['online_order','brand','product_line','product_class',\n",
    "                'product_size','standard_cost','product_first_sold_date','first_name',\n",
    "               'last_name','gender','past_3_years_bike_related_purchases','job_title','job_industry_category',\n",
    "               'wealth_segment','deceased_indicator','owns_car','tenure','age','address','postcode','state',\n",
    "               'country','property_valuation'])"
   ]
  },
  {
   "cell_type": "code",
   "execution_count": 8,
   "id": "b45e5293",
   "metadata": {},
   "outputs": [],
   "source": [
    "def fill_na(df, column_name):   \n",
    "    for col in column_name:\n",
    "        df[col].fillna(df[col].mode()[0], inplace=True)"
   ]
  },
  {
   "cell_type": "code",
   "execution_count": 9,
   "id": "a33a7601",
   "metadata": {},
   "outputs": [],
   "source": [
    "fill_na(cust_df,['online_order','brand','product_line','product_class',\n",
    "                'product_size','standard_cost','product_first_sold_date','first_name',\n",
    "               'last_name','gender','past_3_years_bike_related_purchases','job_title','job_industry_category',\n",
    "               'wealth_segment','deceased_indicator','owns_car','tenure','age','address','postcode','state',\n",
    "               'country','property_valuation'])"
   ]
  },
  {
   "cell_type": "code",
   "execution_count": 10,
   "id": "70cbd9c0",
   "metadata": {},
   "outputs": [
    {
     "data": {
      "text/plain": [
       "Series([], dtype: int64)"
      ]
     },
     "execution_count": 10,
     "metadata": {},
     "output_type": "execute_result"
    }
   ],
   "source": [
    "null_df = cust_df.isna().sum()\n",
    "null_df.loc[null_df> 0] "
   ]
  },
  {
   "cell_type": "code",
   "execution_count": 41,
   "id": "db9658a7",
   "metadata": {},
   "outputs": [],
   "source": [
    "cust_df.to_excel('Final_merged_df.xlsx')"
   ]
  },
  {
   "cell_type": "markdown",
   "id": "63c0cbeb",
   "metadata": {},
   "source": [
    "### RFM Analysis"
   ]
  },
  {
   "cell_type": "code",
   "execution_count": 12,
   "id": "93013b72",
   "metadata": {},
   "outputs": [
    {
     "data": {
      "text/plain": [
       "Timestamp('2017-12-30 00:00:00')"
      ]
     },
     "execution_count": 12,
     "metadata": {},
     "output_type": "execute_result"
    }
   ],
   "source": [
    "import datetime as dt\n",
    "cust_df['transaction_date']= pd.to_datetime(cust_df['transaction_date'])\n",
    "cust_df['transaction_date'].max()"
   ]
  },
  {
   "cell_type": "code",
   "execution_count": 13,
   "id": "e1b5b469",
   "metadata": {},
   "outputs": [],
   "source": [
    "now =  dt.datetime(2017,12,30)"
   ]
  },
  {
   "cell_type": "code",
   "execution_count": 14,
   "id": "c6a0f4ea",
   "metadata": {},
   "outputs": [
    {
     "data": {
      "text/html": [
       "<div><div id=caa5f202-f30e-4c88-94c8-5c39d7ee006a style=\"display:none; background-color:#9D6CFF; color:white; width:200px; height:30px; padding-left:5px; border-radius:4px; flex-direction:row; justify-content:space-around; align-items:center;\" onmouseover=\"this.style.backgroundColor='#BA9BF8'\" onmouseout=\"this.style.backgroundColor='#9D6CFF'\" onclick=\"window.commands?.execute('create-mitosheet-from-dataframe-output');\">See Full Dataframe in Mito</div> <script> if (window.commands?.hasCommand('create-mitosheet-from-dataframe-output')) document.getElementById('caa5f202-f30e-4c88-94c8-5c39d7ee006a').style.display = 'flex' </script> <table border=\"1\" class=\"dataframe\">\n",
       "  <thead>\n",
       "    <tr style=\"text-align: right;\">\n",
       "      <th></th>\n",
       "      <th>CustomerID</th>\n",
       "      <th>LastTransactionDate</th>\n",
       "      <th>Recency</th>\n",
       "    </tr>\n",
       "  </thead>\n",
       "  <tbody>\n",
       "    <tr>\n",
       "      <th>0</th>\n",
       "      <td>1</td>\n",
       "      <td>2017-12-23</td>\n",
       "      <td>7</td>\n",
       "    </tr>\n",
       "    <tr>\n",
       "      <th>1</th>\n",
       "      <td>2</td>\n",
       "      <td>2017-08-24</td>\n",
       "      <td>128</td>\n",
       "    </tr>\n",
       "    <tr>\n",
       "      <th>2</th>\n",
       "      <td>3</td>\n",
       "      <td>2017-09-19</td>\n",
       "      <td>102</td>\n",
       "    </tr>\n",
       "    <tr>\n",
       "      <th>3</th>\n",
       "      <td>4</td>\n",
       "      <td>2017-06-18</td>\n",
       "      <td>195</td>\n",
       "    </tr>\n",
       "    <tr>\n",
       "      <th>4</th>\n",
       "      <td>5</td>\n",
       "      <td>2017-12-14</td>\n",
       "      <td>16</td>\n",
       "    </tr>\n",
       "  </tbody>\n",
       "</table></div>"
      ],
      "text/plain": [
       "   CustomerID LastTransactionDate  Recency\n",
       "0           1          2017-12-23        7\n",
       "1           2          2017-08-24      128\n",
       "2           3          2017-09-19      102\n",
       "3           4          2017-06-18      195\n",
       "4           5          2017-12-14       16"
      ]
     },
     "execution_count": 14,
     "metadata": {},
     "output_type": "execute_result"
    }
   ],
   "source": [
    "df_recency = cust_df.groupby(by='customer_id',as_index=False)['transaction_date'].max()\n",
    "df_recency.columns = ['CustomerID', 'LastTransactionDate']\n",
    "df_recency['Recency'] = df_recency['LastTransactionDate'].apply(lambda x: (now - x).days)\n",
    "df_recency.head()"
   ]
  },
  {
   "cell_type": "code",
   "execution_count": 15,
   "id": "77b81131",
   "metadata": {},
   "outputs": [
    {
     "data": {
      "text/html": [
       "<div><div id=b4113655-c153-4035-bfdb-fc300d14c9a9 style=\"display:none; background-color:#9D6CFF; color:white; width:200px; height:30px; padding-left:5px; border-radius:4px; flex-direction:row; justify-content:space-around; align-items:center;\" onmouseover=\"this.style.backgroundColor='#BA9BF8'\" onmouseout=\"this.style.backgroundColor='#9D6CFF'\" onclick=\"window.commands?.execute('create-mitosheet-from-dataframe-output');\">See Full Dataframe in Mito</div> <script> if (window.commands?.hasCommand('create-mitosheet-from-dataframe-output')) document.getElementById('b4113655-c153-4035-bfdb-fc300d14c9a9').style.display = 'flex' </script> <table border=\"1\" class=\"dataframe\">\n",
       "  <thead>\n",
       "    <tr style=\"text-align: right;\">\n",
       "      <th></th>\n",
       "      <th>CustomerID</th>\n",
       "      <th>Frequency</th>\n",
       "    </tr>\n",
       "  </thead>\n",
       "  <tbody>\n",
       "    <tr>\n",
       "      <th>0</th>\n",
       "      <td>1</td>\n",
       "      <td>11</td>\n",
       "    </tr>\n",
       "    <tr>\n",
       "      <th>1</th>\n",
       "      <td>2</td>\n",
       "      <td>3</td>\n",
       "    </tr>\n",
       "    <tr>\n",
       "      <th>2</th>\n",
       "      <td>3</td>\n",
       "      <td>8</td>\n",
       "    </tr>\n",
       "    <tr>\n",
       "      <th>3</th>\n",
       "      <td>4</td>\n",
       "      <td>2</td>\n",
       "    </tr>\n",
       "    <tr>\n",
       "      <th>4</th>\n",
       "      <td>5</td>\n",
       "      <td>6</td>\n",
       "    </tr>\n",
       "  </tbody>\n",
       "</table></div>"
      ],
      "text/plain": [
       "   CustomerID  Frequency\n",
       "0           1         11\n",
       "1           2          3\n",
       "2           3          8\n",
       "3           4          2\n",
       "4           5          6"
      ]
     },
     "execution_count": 15,
     "metadata": {},
     "output_type": "execute_result"
    }
   ],
   "source": [
    "frequency_df = cust_df.drop_duplicates().groupby(by=['customer_id'], as_index=False)['transaction_date'].count()\n",
    "frequency_df.columns = ['CustomerID', 'Frequency']\n",
    "frequency_df.head()"
   ]
  },
  {
   "cell_type": "code",
   "execution_count": 16,
   "id": "14887284",
   "metadata": {},
   "outputs": [
    {
     "data": {
      "text/html": [
       "<div><div id=08590795-61af-48fa-9178-b60fdf3bf133 style=\"display:none; background-color:#9D6CFF; color:white; width:200px; height:30px; padding-left:5px; border-radius:4px; flex-direction:row; justify-content:space-around; align-items:center;\" onmouseover=\"this.style.backgroundColor='#BA9BF8'\" onmouseout=\"this.style.backgroundColor='#9D6CFF'\" onclick=\"window.commands?.execute('create-mitosheet-from-dataframe-output');\">See Full Dataframe in Mito</div> <script> if (window.commands?.hasCommand('create-mitosheet-from-dataframe-output')) document.getElementById('08590795-61af-48fa-9178-b60fdf3bf133').style.display = 'flex' </script> <table border=\"1\" class=\"dataframe\">\n",
       "  <thead>\n",
       "    <tr style=\"text-align: right;\">\n",
       "      <th></th>\n",
       "      <th>CustomerID</th>\n",
       "      <th>Monetary</th>\n",
       "    </tr>\n",
       "  </thead>\n",
       "  <tbody>\n",
       "    <tr>\n",
       "      <th>0</th>\n",
       "      <td>1</td>\n",
       "      <td>3018.09</td>\n",
       "    </tr>\n",
       "    <tr>\n",
       "      <th>1</th>\n",
       "      <td>2</td>\n",
       "      <td>2226.26</td>\n",
       "    </tr>\n",
       "    <tr>\n",
       "      <th>2</th>\n",
       "      <td>3</td>\n",
       "      <td>3362.81</td>\n",
       "    </tr>\n",
       "    <tr>\n",
       "      <th>3</th>\n",
       "      <td>4</td>\n",
       "      <td>220.57</td>\n",
       "    </tr>\n",
       "    <tr>\n",
       "      <th>4</th>\n",
       "      <td>5</td>\n",
       "      <td>2394.94</td>\n",
       "    </tr>\n",
       "  </tbody>\n",
       "</table></div>"
      ],
      "text/plain": [
       "   CustomerID  Monetary\n",
       "0           1   3018.09\n",
       "1           2   2226.26\n",
       "2           3   3362.81\n",
       "3           4    220.57\n",
       "4           5   2394.94"
      ]
     },
     "execution_count": 16,
     "metadata": {},
     "output_type": "execute_result"
    }
   ],
   "source": [
    "cust_df['Total'] = cust_df['list_price'] - cust_df['standard_cost']\n",
    "monetary_df = cust_df.groupby(by='customer_id', as_index=False)['Total'].sum()\n",
    "monetary_df.columns = ['CustomerID', 'Monetary']\n",
    "monetary_df.head()"
   ]
  },
  {
   "cell_type": "code",
   "execution_count": 17,
   "id": "fe0f1623",
   "metadata": {},
   "outputs": [
    {
     "data": {
      "text/html": [
       "<div><div id=483da876-437c-46da-8eb2-6da70886cb6d style=\"display:none; background-color:#9D6CFF; color:white; width:200px; height:30px; padding-left:5px; border-radius:4px; flex-direction:row; justify-content:space-around; align-items:center;\" onmouseover=\"this.style.backgroundColor='#BA9BF8'\" onmouseout=\"this.style.backgroundColor='#9D6CFF'\" onclick=\"window.commands?.execute('create-mitosheet-from-dataframe-output');\">See Full Dataframe in Mito</div> <script> if (window.commands?.hasCommand('create-mitosheet-from-dataframe-output')) document.getElementById('483da876-437c-46da-8eb2-6da70886cb6d').style.display = 'flex' </script> <table border=\"1\" class=\"dataframe\">\n",
       "  <thead>\n",
       "    <tr style=\"text-align: right;\">\n",
       "      <th></th>\n",
       "      <th>CustomerID</th>\n",
       "      <th>Recency</th>\n",
       "      <th>Frequency</th>\n",
       "      <th>Monetary</th>\n",
       "    </tr>\n",
       "  </thead>\n",
       "  <tbody>\n",
       "    <tr>\n",
       "      <th>0</th>\n",
       "      <td>1</td>\n",
       "      <td>7</td>\n",
       "      <td>11</td>\n",
       "      <td>3018.09</td>\n",
       "    </tr>\n",
       "    <tr>\n",
       "      <th>1</th>\n",
       "      <td>2</td>\n",
       "      <td>128</td>\n",
       "      <td>3</td>\n",
       "      <td>2226.26</td>\n",
       "    </tr>\n",
       "    <tr>\n",
       "      <th>2</th>\n",
       "      <td>3</td>\n",
       "      <td>102</td>\n",
       "      <td>8</td>\n",
       "      <td>3362.81</td>\n",
       "    </tr>\n",
       "    <tr>\n",
       "      <th>3</th>\n",
       "      <td>4</td>\n",
       "      <td>195</td>\n",
       "      <td>2</td>\n",
       "      <td>220.57</td>\n",
       "    </tr>\n",
       "    <tr>\n",
       "      <th>4</th>\n",
       "      <td>5</td>\n",
       "      <td>16</td>\n",
       "      <td>6</td>\n",
       "      <td>2394.94</td>\n",
       "    </tr>\n",
       "  </tbody>\n",
       "</table></div>"
      ],
      "text/plain": [
       "   CustomerID  Recency  Frequency  Monetary\n",
       "0           1        7         11   3018.09\n",
       "1           2      128          3   2226.26\n",
       "2           3      102          8   3362.81\n",
       "3           4      195          2    220.57\n",
       "4           5       16          6   2394.94"
      ]
     },
     "execution_count": 17,
     "metadata": {},
     "output_type": "execute_result"
    }
   ],
   "source": [
    "RFM_df = df_recency.merge(frequency_df, on='CustomerID')\n",
    "RFM_df = RFM_df.merge(monetary_df, on='CustomerID').drop(columns='LastTransactionDate')\n",
    "RFM_df.head()"
   ]
  },
  {
   "cell_type": "code",
   "execution_count": 18,
   "id": "42e422c6",
   "metadata": {},
   "outputs": [
    {
     "data": {
      "text/html": [
       "<div><div id=17bf3e6a-d1ec-44dd-8051-630d3891c53e style=\"display:none; background-color:#9D6CFF; color:white; width:200px; height:30px; padding-left:5px; border-radius:4px; flex-direction:row; justify-content:space-around; align-items:center;\" onmouseover=\"this.style.backgroundColor='#BA9BF8'\" onmouseout=\"this.style.backgroundColor='#9D6CFF'\" onclick=\"window.commands?.execute('create-mitosheet-from-dataframe-output');\">See Full Dataframe in Mito</div> <script> if (window.commands?.hasCommand('create-mitosheet-from-dataframe-output')) document.getElementById('17bf3e6a-d1ec-44dd-8051-630d3891c53e').style.display = 'flex' </script> <table border=\"1\" class=\"dataframe\">\n",
       "  <thead>\n",
       "    <tr style=\"text-align: right;\">\n",
       "      <th></th>\n",
       "      <th>CustomerID</th>\n",
       "      <th>Recency</th>\n",
       "      <th>Frequency</th>\n",
       "      <th>Monetary</th>\n",
       "      <th>R_rank_norm</th>\n",
       "      <th>F_rank_norm</th>\n",
       "      <th>M_rank_norm</th>\n",
       "    </tr>\n",
       "  </thead>\n",
       "  <tbody>\n",
       "    <tr>\n",
       "      <th>0</th>\n",
       "      <td>1</td>\n",
       "      <td>7</td>\n",
       "      <td>11</td>\n",
       "      <td>3018.09</td>\n",
       "      <td>89.988476</td>\n",
       "      <td>97.838534</td>\n",
       "      <td>97.810532</td>\n",
       "    </tr>\n",
       "    <tr>\n",
       "      <th>1</th>\n",
       "      <td>2</td>\n",
       "      <td>128</td>\n",
       "      <td>3</td>\n",
       "      <td>2226.26</td>\n",
       "      <td>12.921348</td>\n",
       "      <td>12.367592</td>\n",
       "      <td>12.364053</td>\n",
       "    </tr>\n",
       "    <tr>\n",
       "      <th>2</th>\n",
       "      <td>3</td>\n",
       "      <td>102</td>\n",
       "      <td>8</td>\n",
       "      <td>3362.81</td>\n",
       "      <td>19.014693</td>\n",
       "      <td>83.395362</td>\n",
       "      <td>83.371494</td>\n",
       "    </tr>\n",
       "    <tr>\n",
       "      <th>3</th>\n",
       "      <td>4</td>\n",
       "      <td>195</td>\n",
       "      <td>2</td>\n",
       "      <td>220.57</td>\n",
       "      <td>3.817344</td>\n",
       "      <td>4.308617</td>\n",
       "      <td>4.307384</td>\n",
       "    </tr>\n",
       "    <tr>\n",
       "      <th>4</th>\n",
       "      <td>5</td>\n",
       "      <td>16</td>\n",
       "      <td>6</td>\n",
       "      <td>2394.94</td>\n",
       "      <td>77.297609</td>\n",
       "      <td>57.171486</td>\n",
       "      <td>57.155123</td>\n",
       "    </tr>\n",
       "  </tbody>\n",
       "</table></div>"
      ],
      "text/plain": [
       "   CustomerID  Recency  Frequency  Monetary  R_rank_norm  F_rank_norm  \\\n",
       "0           1        7         11   3018.09    89.988476    97.838534   \n",
       "1           2      128          3   2226.26    12.921348    12.367592   \n",
       "2           3      102          8   3362.81    19.014693    83.395362   \n",
       "3           4      195          2    220.57     3.817344     4.308617   \n",
       "4           5       16          6   2394.94    77.297609    57.171486   \n",
       "\n",
       "   M_rank_norm  \n",
       "0    97.810532  \n",
       "1    12.364053  \n",
       "2    83.371494  \n",
       "3     4.307384  \n",
       "4    57.155123  "
      ]
     },
     "execution_count": 18,
     "metadata": {},
     "output_type": "execute_result"
    }
   ],
   "source": [
    "RFM_df['R_rank'] = RFM_df['Recency'].rank(ascending=False)\n",
    "RFM_df['F_rank'] = RFM_df['Frequency'].rank(ascending=True)\n",
    "RFM_df['M_rank'] = RFM_df['Monetary'].rank(ascending=True)\n",
    " \n",
    "# normalizing the rank of the customers\n",
    "RFM_df['R_rank_norm'] = (RFM_df['R_rank']/RFM_df['R_rank'].max())*100\n",
    "RFM_df['F_rank_norm'] = (RFM_df['F_rank']/RFM_df['F_rank'].max())*100\n",
    "RFM_df['M_rank_norm'] = (RFM_df['F_rank']/RFM_df['M_rank'].max())*100\n",
    " \n",
    "RFM_df.drop(columns=['R_rank', 'F_rank', 'M_rank'], inplace=True)\n",
    " \n",
    "RFM_df.head()"
   ]
  },
  {
   "cell_type": "code",
   "execution_count": 19,
   "id": "be966f12",
   "metadata": {},
   "outputs": [
    {
     "data": {
      "text/html": [
       "<div><div id=a529a220-d3e9-4051-9d67-59a1c7e6e853 style=\"display:none; background-color:#9D6CFF; color:white; width:200px; height:30px; padding-left:5px; border-radius:4px; flex-direction:row; justify-content:space-around; align-items:center;\" onmouseover=\"this.style.backgroundColor='#BA9BF8'\" onmouseout=\"this.style.backgroundColor='#9D6CFF'\" onclick=\"window.commands?.execute('create-mitosheet-from-dataframe-output');\">See Full Dataframe in Mito</div> <script> if (window.commands?.hasCommand('create-mitosheet-from-dataframe-output')) document.getElementById('a529a220-d3e9-4051-9d67-59a1c7e6e853').style.display = 'flex' </script> <table border=\"1\" class=\"dataframe\">\n",
       "  <thead>\n",
       "    <tr style=\"text-align: right;\">\n",
       "      <th></th>\n",
       "      <th>CustomerID</th>\n",
       "      <th>RFM_Score</th>\n",
       "    </tr>\n",
       "  </thead>\n",
       "  <tbody>\n",
       "    <tr>\n",
       "      <th>0</th>\n",
       "      <td>1</td>\n",
       "      <td>4.83</td>\n",
       "    </tr>\n",
       "    <tr>\n",
       "      <th>1</th>\n",
       "      <td>2</td>\n",
       "      <td>0.62</td>\n",
       "    </tr>\n",
       "    <tr>\n",
       "      <th>2</th>\n",
       "      <td>3</td>\n",
       "      <td>3.69</td>\n",
       "    </tr>\n",
       "    <tr>\n",
       "      <th>3</th>\n",
       "      <td>4</td>\n",
       "      <td>0.21</td>\n",
       "    </tr>\n",
       "    <tr>\n",
       "      <th>4</th>\n",
       "      <td>5</td>\n",
       "      <td>3.01</td>\n",
       "    </tr>\n",
       "    <tr>\n",
       "      <th>5</th>\n",
       "      <td>6</td>\n",
       "      <td>1.99</td>\n",
       "    </tr>\n",
       "    <tr>\n",
       "      <th>6</th>\n",
       "      <td>7</td>\n",
       "      <td>0.54</td>\n",
       "    </tr>\n",
       "  </tbody>\n",
       "</table></div>"
      ],
      "text/plain": [
       "   CustomerID  RFM_Score\n",
       "0           1       4.83\n",
       "1           2       0.62\n",
       "2           3       3.69\n",
       "3           4       0.21\n",
       "4           5       3.01\n",
       "5           6       1.99\n",
       "6           7       0.54"
      ]
     },
     "execution_count": 19,
     "metadata": {},
     "output_type": "execute_result"
    }
   ],
   "source": [
    "RFM_df['RFM_Score'] = 0.15*RFM_df['R_rank_norm']+0.28*RFM_df['F_rank_norm']+0.57*RFM_df['M_rank_norm']\n",
    "RFM_df['RFM_Score'] *= 0.05\n",
    "RFM_df = RFM_df.round(2)\n",
    "RFM_df[['CustomerID', 'RFM_Score']].head(7)"
   ]
  },
  {
   "cell_type": "code",
   "execution_count": 20,
   "id": "a71571b9",
   "metadata": {},
   "outputs": [
    {
     "data": {
      "text/html": [
       "<div><div id=fdb3bb1f-20cb-4bfa-b6fb-44870394602a style=\"display:none; background-color:#9D6CFF; color:white; width:200px; height:30px; padding-left:5px; border-radius:4px; flex-direction:row; justify-content:space-around; align-items:center;\" onmouseover=\"this.style.backgroundColor='#BA9BF8'\" onmouseout=\"this.style.backgroundColor='#9D6CFF'\" onclick=\"window.commands?.execute('create-mitosheet-from-dataframe-output');\">See Full Dataframe in Mito</div> <script> if (window.commands?.hasCommand('create-mitosheet-from-dataframe-output')) document.getElementById('fdb3bb1f-20cb-4bfa-b6fb-44870394602a').style.display = 'flex' </script> <table border=\"1\" class=\"dataframe\">\n",
       "  <thead>\n",
       "    <tr style=\"text-align: right;\">\n",
       "      <th></th>\n",
       "      <th>CustomerID</th>\n",
       "      <th>Recency</th>\n",
       "      <th>Frequency</th>\n",
       "      <th>Monetary</th>\n",
       "      <th>R_rank_norm</th>\n",
       "      <th>F_rank_norm</th>\n",
       "      <th>M_rank_norm</th>\n",
       "      <th>RFM_Score</th>\n",
       "      <th>Customer_segment</th>\n",
       "    </tr>\n",
       "  </thead>\n",
       "  <tbody>\n",
       "    <tr>\n",
       "      <th>0</th>\n",
       "      <td>1</td>\n",
       "      <td>7</td>\n",
       "      <td>11</td>\n",
       "      <td>3018.09</td>\n",
       "      <td>89.99</td>\n",
       "      <td>97.84</td>\n",
       "      <td>97.81</td>\n",
       "      <td>4.83</td>\n",
       "      <td>Top Customers</td>\n",
       "    </tr>\n",
       "    <tr>\n",
       "      <th>1</th>\n",
       "      <td>2</td>\n",
       "      <td>128</td>\n",
       "      <td>3</td>\n",
       "      <td>2226.26</td>\n",
       "      <td>12.92</td>\n",
       "      <td>12.37</td>\n",
       "      <td>12.36</td>\n",
       "      <td>0.62</td>\n",
       "      <td>Lost Customers</td>\n",
       "    </tr>\n",
       "    <tr>\n",
       "      <th>2</th>\n",
       "      <td>3</td>\n",
       "      <td>102</td>\n",
       "      <td>8</td>\n",
       "      <td>3362.81</td>\n",
       "      <td>19.01</td>\n",
       "      <td>83.40</td>\n",
       "      <td>83.37</td>\n",
       "      <td>3.69</td>\n",
       "      <td>Medium Value Customer</td>\n",
       "    </tr>\n",
       "    <tr>\n",
       "      <th>3</th>\n",
       "      <td>4</td>\n",
       "      <td>195</td>\n",
       "      <td>2</td>\n",
       "      <td>220.57</td>\n",
       "      <td>3.82</td>\n",
       "      <td>4.31</td>\n",
       "      <td>4.31</td>\n",
       "      <td>0.21</td>\n",
       "      <td>Lost Customers</td>\n",
       "    </tr>\n",
       "    <tr>\n",
       "      <th>4</th>\n",
       "      <td>5</td>\n",
       "      <td>16</td>\n",
       "      <td>6</td>\n",
       "      <td>2394.94</td>\n",
       "      <td>77.30</td>\n",
       "      <td>57.17</td>\n",
       "      <td>57.16</td>\n",
       "      <td>3.01</td>\n",
       "      <td>Medium Value Customer</td>\n",
       "    </tr>\n",
       "    <tr>\n",
       "      <th>...</th>\n",
       "      <td>...</td>\n",
       "      <td>...</td>\n",
       "      <td>...</td>\n",
       "      <td>...</td>\n",
       "      <td>...</td>\n",
       "      <td>...</td>\n",
       "      <td>...</td>\n",
       "      <td>...</td>\n",
       "      <td>...</td>\n",
       "    </tr>\n",
       "    <tr>\n",
       "      <th>15</th>\n",
       "      <td>16</td>\n",
       "      <td>99</td>\n",
       "      <td>5</td>\n",
       "      <td>4521.84</td>\n",
       "      <td>19.89</td>\n",
       "      <td>40.42</td>\n",
       "      <td>40.41</td>\n",
       "      <td>1.87</td>\n",
       "      <td>Low Value Customers</td>\n",
       "    </tr>\n",
       "    <tr>\n",
       "      <th>16</th>\n",
       "      <td>17</td>\n",
       "      <td>0</td>\n",
       "      <td>5</td>\n",
       "      <td>2015.61</td>\n",
       "      <td>100.00</td>\n",
       "      <td>40.42</td>\n",
       "      <td>40.41</td>\n",
       "      <td>2.47</td>\n",
       "      <td>Low Value Customers</td>\n",
       "    </tr>\n",
       "    <tr>\n",
       "      <th>17</th>\n",
       "      <td>18</td>\n",
       "      <td>134</td>\n",
       "      <td>7</td>\n",
       "      <td>3543.38</td>\n",
       "      <td>11.55</td>\n",
       "      <td>72.13</td>\n",
       "      <td>72.11</td>\n",
       "      <td>3.15</td>\n",
       "      <td>Medium Value Customer</td>\n",
       "    </tr>\n",
       "    <tr>\n",
       "      <th>18</th>\n",
       "      <td>19</td>\n",
       "      <td>102</td>\n",
       "      <td>3</td>\n",
       "      <td>2951.79</td>\n",
       "      <td>19.01</td>\n",
       "      <td>12.37</td>\n",
       "      <td>12.36</td>\n",
       "      <td>0.67</td>\n",
       "      <td>Lost Customers</td>\n",
       "    </tr>\n",
       "    <tr>\n",
       "      <th>19</th>\n",
       "      <td>20</td>\n",
       "      <td>31</td>\n",
       "      <td>4</td>\n",
       "      <td>3608.28</td>\n",
       "      <td>61.39</td>\n",
       "      <td>24.68</td>\n",
       "      <td>24.67</td>\n",
       "      <td>1.51</td>\n",
       "      <td>Lost Customers</td>\n",
       "    </tr>\n",
       "  </tbody>\n",
       "</table></div>"
      ],
      "text/plain": [
       "    CustomerID  Recency  Frequency  Monetary  R_rank_norm  F_rank_norm  \\\n",
       "0            1        7         11   3018.09        89.99        97.84   \n",
       "1            2      128          3   2226.26        12.92        12.37   \n",
       "2            3      102          8   3362.81        19.01        83.40   \n",
       "3            4      195          2    220.57         3.82         4.31   \n",
       "4            5       16          6   2394.94        77.30        57.17   \n",
       "5            6       64          5   3946.55        36.16        40.42   \n",
       "6            7      253          3    220.11         1.38        12.37   \n",
       "7            8       22         10   7066.94        70.25        95.38   \n",
       "8            9       78          6   2353.11        28.65        57.17   \n",
       "9           10       33          6   5033.44        59.54        57.17   \n",
       "10          11       46          6   3638.84        48.37        57.17   \n",
       "11          12       67          7   3540.03        34.44        72.13   \n",
       "12          13       27          7   4337.38        65.11        72.13   \n",
       "13          14       47          4   2409.16        47.55        24.68   \n",
       "14          15       35          6   1728.39        57.91        57.17   \n",
       "15          16       99          5   4521.84        19.89        40.42   \n",
       "16          17        0          5   2015.61       100.00        40.42   \n",
       "17          18      134          7   3543.38        11.55        72.13   \n",
       "18          19      102          3   2951.79        19.01        12.37   \n",
       "19          20       31          4   3608.28        61.39        24.68   \n",
       "\n",
       "    M_rank_norm  RFM_Score       Customer_segment  \n",
       "0         97.81       4.83          Top Customers  \n",
       "1         12.36       0.62         Lost Customers  \n",
       "2         83.37       3.69  Medium Value Customer  \n",
       "3          4.31       0.21         Lost Customers  \n",
       "4         57.16       3.01  Medium Value Customer  \n",
       "5         40.41       1.99    Low Value Customers  \n",
       "6         12.36       0.54         Lost Customers  \n",
       "7         95.35       4.58          Top Customers  \n",
       "8         57.16       2.64    Low Value Customers  \n",
       "9         57.16       2.88    Low Value Customers  \n",
       "10        57.16       2.79    Low Value Customers  \n",
       "11        72.11       3.32  Medium Value Customer  \n",
       "12        72.11       3.55  Medium Value Customer  \n",
       "13        24.67       1.41         Lost Customers  \n",
       "14        57.16       2.86    Low Value Customers  \n",
       "15        40.41       1.87    Low Value Customers  \n",
       "16        40.41       2.47    Low Value Customers  \n",
       "17        72.11       3.15  Medium Value Customer  \n",
       "18        12.36       0.67         Lost Customers  \n",
       "19        24.67       1.51         Lost Customers  "
      ]
     },
     "execution_count": 20,
     "metadata": {},
     "output_type": "execute_result"
    }
   ],
   "source": [
    "RFM_df[\"Customer_segment\"] = np.where(RFM_df['RFM_Score'] >\n",
    "                                      4.5, \"Top Customers\",\n",
    "                                      (np.where(\n",
    "                                        RFM_df['RFM_Score'] > 4,\n",
    "                                        \"High value Customer\",\n",
    "                                        (np.where(\n",
    "    RFM_df['RFM_Score'] > 3,\n",
    "                             \"Medium Value Customer\",\n",
    "                             np.where(RFM_df['RFM_Score'] > 1.6,\n",
    "                            'Low Value Customers', 'Lost Customers'))))))\n",
    "RFM_df.head(20)"
   ]
  },
  {
   "cell_type": "code",
   "execution_count": 21,
   "id": "9b2ebd48",
   "metadata": {},
   "outputs": [],
   "source": [
    "def score_stats (x):\n",
    "    if x <= 1:\n",
    "        return 1\n",
    "    elif x <= 2:\n",
    "        return 2\n",
    "    elif x <= 3:\n",
    "        return 3\n",
    "    elif x <= 4:\n",
    "        return 4\n",
    "    elif x <= 5:\n",
    "        return 5  "
   ]
  },
  {
   "cell_type": "code",
   "execution_count": 22,
   "id": "a720f5b5",
   "metadata": {},
   "outputs": [],
   "source": [
    "RFM_df['Final_Score'] = RFM_df['RFM_Score'].map(score_stats)"
   ]
  },
  {
   "cell_type": "code",
   "execution_count": 23,
   "id": "19ff312f",
   "metadata": {},
   "outputs": [
    {
     "data": {
      "image/png": "[encoded data removed]",
      "text/plain": [
       "<Figure size 640x480 with 1 Axes>"
      ]
     },
     "metadata": {},
     "output_type": "display_data"
    }
   ],
   "source": [
    "plt.pie(RFM_df.Customer_segment.value_counts(),\n",
    "        labels=RFM_df.Customer_segment.value_counts().index,\n",
    "        autopct='%.0f%%')\n",
    "plt.show()"
   ]
  },
  {
   "cell_type": "code",
   "execution_count": 24,
   "id": "7fc003e4",
   "metadata": {},
   "outputs": [],
   "source": [
    "RFM_df.to_excel('RFM_DF.xlsx')"
   ]
  },
  {
   "cell_type": "code",
   "execution_count": 25,
   "id": "bffa76bd",
   "metadata": {},
   "outputs": [
    {
     "data": {
      "text/html": [
       "<div><div id=9fd74af8-2d96-4599-9a19-88fc554e3693 style=\"display:none; background-color:#9D6CFF; color:white; width:200px; height:30px; padding-left:5px; border-radius:4px; flex-direction:row; justify-content:space-around; align-items:center;\" onmouseover=\"this.style.backgroundColor='#BA9BF8'\" onmouseout=\"this.style.backgroundColor='#9D6CFF'\" onclick=\"window.commands?.execute('create-mitosheet-from-dataframe-output');\">See Full Dataframe in Mito</div> <script> if (window.commands?.hasCommand('create-mitosheet-from-dataframe-output')) document.getElementById('9fd74af8-2d96-4599-9a19-88fc554e3693').style.display = 'flex' </script> <table border=\"1\" class=\"dataframe\">\n",
       "  <thead>\n",
       "    <tr style=\"text-align: right;\">\n",
       "      <th></th>\n",
       "      <th>CustomerID</th>\n",
       "      <th>Recency</th>\n",
       "      <th>Frequency</th>\n",
       "      <th>Monetary</th>\n",
       "      <th>R_rank_norm</th>\n",
       "      <th>F_rank_norm</th>\n",
       "      <th>M_rank_norm</th>\n",
       "      <th>RFM_Score</th>\n",
       "      <th>Customer_segment</th>\n",
       "      <th>Final_Score</th>\n",
       "    </tr>\n",
       "  </thead>\n",
       "  <tbody>\n",
       "    <tr>\n",
       "      <th>0</th>\n",
       "      <td>1</td>\n",
       "      <td>7</td>\n",
       "      <td>11</td>\n",
       "      <td>3018.09</td>\n",
       "      <td>89.99</td>\n",
       "      <td>97.84</td>\n",
       "      <td>97.81</td>\n",
       "      <td>4.83</td>\n",
       "      <td>Top Customers</td>\n",
       "      <td>5</td>\n",
       "    </tr>\n",
       "    <tr>\n",
       "      <th>1</th>\n",
       "      <td>2</td>\n",
       "      <td>128</td>\n",
       "      <td>3</td>\n",
       "      <td>2226.26</td>\n",
       "      <td>12.92</td>\n",
       "      <td>12.37</td>\n",
       "      <td>12.36</td>\n",
       "      <td>0.62</td>\n",
       "      <td>Lost Customers</td>\n",
       "      <td>1</td>\n",
       "    </tr>\n",
       "    <tr>\n",
       "      <th>2</th>\n",
       "      <td>3</td>\n",
       "      <td>102</td>\n",
       "      <td>8</td>\n",
       "      <td>3362.81</td>\n",
       "      <td>19.01</td>\n",
       "      <td>83.40</td>\n",
       "      <td>83.37</td>\n",
       "      <td>3.69</td>\n",
       "      <td>Medium Value Customer</td>\n",
       "      <td>4</td>\n",
       "    </tr>\n",
       "    <tr>\n",
       "      <th>3</th>\n",
       "      <td>4</td>\n",
       "      <td>195</td>\n",
       "      <td>2</td>\n",
       "      <td>220.57</td>\n",
       "      <td>3.82</td>\n",
       "      <td>4.31</td>\n",
       "      <td>4.31</td>\n",
       "      <td>0.21</td>\n",
       "      <td>Lost Customers</td>\n",
       "      <td>1</td>\n",
       "    </tr>\n",
       "    <tr>\n",
       "      <th>4</th>\n",
       "      <td>5</td>\n",
       "      <td>16</td>\n",
       "      <td>6</td>\n",
       "      <td>2394.94</td>\n",
       "      <td>77.30</td>\n",
       "      <td>57.17</td>\n",
       "      <td>57.16</td>\n",
       "      <td>3.01</td>\n",
       "      <td>Medium Value Customer</td>\n",
       "      <td>4</td>\n",
       "    </tr>\n",
       "  </tbody>\n",
       "</table></div>"
      ],
      "text/plain": [
       "   CustomerID  Recency  Frequency  Monetary  R_rank_norm  F_rank_norm  \\\n",
       "0           1        7         11   3018.09        89.99        97.84   \n",
       "1           2      128          3   2226.26        12.92        12.37   \n",
       "2           3      102          8   3362.81        19.01        83.40   \n",
       "3           4      195          2    220.57         3.82         4.31   \n",
       "4           5       16          6   2394.94        77.30        57.17   \n",
       "\n",
       "   M_rank_norm  RFM_Score       Customer_segment  Final_Score  \n",
       "0        97.81       4.83          Top Customers            5  \n",
       "1        12.36       0.62         Lost Customers            1  \n",
       "2        83.37       3.69  Medium Value Customer            4  \n",
       "3         4.31       0.21         Lost Customers            1  \n",
       "4        57.16       3.01  Medium Value Customer            4  "
      ]
     },
     "execution_count": 25,
     "metadata": {},
     "output_type": "execute_result"
    }
   ],
   "source": [
    "RFM_df.head()"
   ]
  },
  {
   "cell_type": "code",
   "execution_count": 26,
   "id": "8d9578d8",
   "metadata": {},
   "outputs": [
    {
     "data": {
      "text/plain": [
       "2    838\n",
       "4    801\n",
       "3    773\n",
       "5    560\n",
       "1    522\n",
       "Name: Final_Score, dtype: int64"
      ]
     },
     "execution_count": 26,
     "metadata": {},
     "output_type": "execute_result"
    }
   ],
   "source": [
    "RFM_df['Final_Score'].value_counts()"
   ]
  },
  {
   "cell_type": "code",
   "execution_count": 27,
   "id": "b50b7122",
   "metadata": {},
   "outputs": [
    {
     "data": {
      "text/plain": [
       "Text(0, 0.5, 'Recency')"
      ]
     },
     "execution_count": 27,
     "metadata": {},
     "output_type": "execute_result"
    },
    {
     "data": {
      "image/png": "[encoded data removed]",
      "text/plain": [
       "<Figure size 800x400 with 1 Axes>"
      ]
     },
     "metadata": {},
     "output_type": "display_data"
    }
   ],
   "source": [
    "sns.set_style(\"darkgrid\")\n",
    "plt.figure(figsize=(8,4))\n",
    "a = sns.barplot(data=RFM_df, x='Final_Score',y='Recency',palette='Reds_r')\n",
    "a.set_title(\"Recency Vs RFM Score\")\n",
    "a.set_xlabel( \"RFM Score\")\n",
    "plt.xticks(rotation=45)\n",
    "a.set_ylabel( \"Recency\")"
   ]
  },
  {
   "cell_type": "code",
   "execution_count": 28,
   "id": "86c799ec",
   "metadata": {},
   "outputs": [
    {
     "data": {
      "text/plain": [
       "Text(0, 0.5, 'Frequency')"
      ]
     },
     "execution_count": 28,
     "metadata": {},
     "output_type": "execute_result"
    },
    {
     "data": {
      "image/png": "[encoded data removed]",
      "text/plain": [
       "<Figure size 800x400 with 1 Axes>"
      ]
     },
     "metadata": {},
     "output_type": "display_data"
    }
   ],
   "source": [
    "sns.set_style(\"darkgrid\")\n",
    "plt.figure(figsize=(8,4))\n",
    "a = sns.barplot(data=RFM_df, x='Final_Score',y='Frequency',palette='Reds_r')\n",
    "a.set_title(\"Frequency Vs RFM Score\")\n",
    "a.set_xlabel( \"RFM Score\")\n",
    "plt.xticks(rotation=45)\n",
    "a.set_ylabel( \"Frequency\")"
   ]
  },
  {
   "cell_type": "code",
   "execution_count": 29,
   "id": "d9850c6a",
   "metadata": {},
   "outputs": [
    {
     "data": {
      "text/plain": [
       "Text(0, 0.5, 'Monetary')"
      ]
     },
     "execution_count": 29,
     "metadata": {},
     "output_type": "execute_result"
    },
    {
     "data": {
      "image/png": "[encoded data removed]",
      "text/plain": [
       "<Figure size 800x400 with 1 Axes>"
      ]
     },
     "metadata": {},
     "output_type": "display_data"
    }
   ],
   "source": [
    "sns.set_style(\"darkgrid\")\n",
    "plt.figure(figsize=(8,4))\n",
    "a = sns.barplot(data=RFM_df, x='Final_Score',y='Monetary',palette='Reds_r')\n",
    "a.set_title(\"Monetary Vs RFM Score\")\n",
    "a.set_xlabel( \"RFM Score\")\n",
    "plt.xticks(rotation=45)\n",
    "a.set_ylabel( \"Monetary\")"
   ]
  },
  {
   "cell_type": "code",
   "execution_count": 30,
   "id": "a883b2d4",
   "metadata": {},
   "outputs": [
    {
     "data": {
      "text/plain": [
       "([<matplotlib.axis.XTick at 0x2091a904640>,\n",
       "  <matplotlib.axis.XTick at 0x2091a904610>,\n",
       "  <matplotlib.axis.XTick at 0x2091aa4a550>,\n",
       "  <matplotlib.axis.XTick at 0x2091aa7fe80>,\n",
       "  <matplotlib.axis.XTick at 0x2091aa71610>],\n",
       " [Text(0, 0, 'Lost Customers'),\n",
       "  Text(1, 0, 'Low Value Customers'),\n",
       "  Text(2, 0, 'Medium Value Customer'),\n",
       "  Text(3, 0, 'High Value Customer'),\n",
       "  Text(4, 0, 'Top Customers')])"
      ]
     },
     "execution_count": 30,
     "metadata": {},
     "output_type": "execute_result"
    },
    {
     "data": {
      "image/png": "[encoded data removed]",
      "text/plain": [
       "<Figure size 800x400 with 1 Axes>"
      ]
     },
     "metadata": {},
     "output_type": "display_data"
    }
   ],
   "source": [
    "dfm=pd.DataFrame(RFM_df.groupby('Customer_segment').agg('Monetary').mean().reset_index())\n",
    "fig, ax = plt.subplots()\n",
    "dfm.sort_values('Monetary', ascending=True).plot(kind='bar', colormap='Reds_r', ax=ax, figsize=(8,4))\n",
    "ax.set_title(\"Monetary Vs Segmentation of Customers\")\n",
    "plt.xticks(rotation=45)\n",
    "plt.xticks([0, 1, 2,3,4], ['Lost Customers', 'Low Value Customers','Medium Value Customer','High Value Customer', 'Top Customers'])"
   ]
  },
  {
   "cell_type": "code",
   "execution_count": 31,
   "id": "c86478b2",
   "metadata": {},
   "outputs": [
    {
     "data": {
      "text/html": [
       "<div><div id=f40774f3-5a1e-4724-a3d1-0b2e24406dbe style=\"display:none; background-color:#9D6CFF; color:white; width:200px; height:30px; padding-left:5px; border-radius:4px; flex-direction:row; justify-content:space-around; align-items:center;\" onmouseover=\"this.style.backgroundColor='#BA9BF8'\" onmouseout=\"this.style.backgroundColor='#9D6CFF'\" onclick=\"window.commands?.execute('create-mitosheet-from-dataframe-output');\">See Full Dataframe in Mito</div> <script> if (window.commands?.hasCommand('create-mitosheet-from-dataframe-output')) document.getElementById('f40774f3-5a1e-4724-a3d1-0b2e24406dbe').style.display = 'flex' </script> <table border=\"1\" class=\"dataframe\">\n",
       "  <thead>\n",
       "    <tr style=\"text-align: right;\">\n",
       "      <th></th>\n",
       "      <th>Monetary</th>\n",
       "    </tr>\n",
       "  </thead>\n",
       "  <tbody>\n",
       "    <tr>\n",
       "      <th>count</th>\n",
       "      <td>5.000000</td>\n",
       "    </tr>\n",
       "    <tr>\n",
       "      <th>mean</th>\n",
       "      <td>3843.201055</td>\n",
       "    </tr>\n",
       "    <tr>\n",
       "      <th>std</th>\n",
       "      <td>1619.869877</td>\n",
       "    </tr>\n",
       "    <tr>\n",
       "      <th>min</th>\n",
       "      <td>1675.432216</td>\n",
       "    </tr>\n",
       "    <tr>\n",
       "      <th>25%</th>\n",
       "      <td>2966.724447</td>\n",
       "    </tr>\n",
       "    <tr>\n",
       "      <th>50%</th>\n",
       "      <td>3866.492247</td>\n",
       "    </tr>\n",
       "    <tr>\n",
       "      <th>75%</th>\n",
       "      <td>4871.570366</td>\n",
       "    </tr>\n",
       "    <tr>\n",
       "      <th>max</th>\n",
       "      <td>5835.786000</td>\n",
       "    </tr>\n",
       "  </tbody>\n",
       "</table></div>"
      ],
      "text/plain": [
       "          Monetary\n",
       "count     5.000000\n",
       "mean   3843.201055\n",
       "std    1619.869877\n",
       "min    1675.432216\n",
       "25%    2966.724447\n",
       "50%    3866.492247\n",
       "75%    4871.570366\n",
       "max    5835.786000"
      ]
     },
     "execution_count": 31,
     "metadata": {},
     "output_type": "execute_result"
    }
   ],
   "source": [
    "dfm.describe()"
   ]
  },
  {
   "cell_type": "code",
   "execution_count": 32,
   "id": "c7fbd55c",
   "metadata": {},
   "outputs": [
    {
     "data": {
      "text/plain": [
       "([<matplotlib.axis.XTick at 0x2091aa1fca0>,\n",
       "  <matplotlib.axis.XTick at 0x2091aa1fc70>,\n",
       "  <matplotlib.axis.XTick at 0x2091a982970>,\n",
       "  <matplotlib.axis.XTick at 0x2091a9aa2b0>,\n",
       "  <matplotlib.axis.XTick at 0x2091a9aaa00>],\n",
       " [Text(4, 0, 'Lost Customers'),\n",
       "  Text(3, 0, 'Low Value Customers'),\n",
       "  Text(2, 0, 'Medium Value Customer'),\n",
       "  Text(1, 0, 'High Value Customer'),\n",
       "  Text(0, 0, 'Top Customers')])"
      ]
     },
     "execution_count": 32,
     "metadata": {},
     "output_type": "execute_result"
    },
    {
     "data": {
      "image/png": "[encoded data removed]",
      "text/plain": [
       "<Figure size 800x400 with 1 Axes>"
      ]
     },
     "metadata": {},
     "output_type": "display_data"
    }
   ],
   "source": [
    "dfr=pd.DataFrame(RFM_df.groupby('Customer_segment').agg('Recency').mean().reset_index())\n",
    "fig, ax = plt.subplots()\n",
    "dfr.sort_values('Recency', ascending=True).plot(kind='bar', colormap='Reds_r', ax=ax, figsize=(8,4))\n",
    "ax.set_title(\"Recency Vs Segmentation of Customers\")\n",
    "plt.xticks(rotation=45)\n",
    "plt.xticks([4, 3, 2,1,0], ['Lost Customers', 'Low Value Customers','Medium Value Customer','High Value Customer', 'Top Customers'])"
   ]
  },
  {
   "cell_type": "code",
   "execution_count": 33,
   "id": "497b10d0",
   "metadata": {},
   "outputs": [
    {
     "data": {
      "text/html": [
       "<div><div id=399899e7-1449-482d-a467-f89be956540e style=\"display:none; background-color:#9D6CFF; color:white; width:200px; height:30px; padding-left:5px; border-radius:4px; flex-direction:row; justify-content:space-around; align-items:center;\" onmouseover=\"this.style.backgroundColor='#BA9BF8'\" onmouseout=\"this.style.backgroundColor='#9D6CFF'\" onclick=\"window.commands?.execute('create-mitosheet-from-dataframe-output');\">See Full Dataframe in Mito</div> <script> if (window.commands?.hasCommand('create-mitosheet-from-dataframe-output')) document.getElementById('399899e7-1449-482d-a467-f89be956540e').style.display = 'flex' </script> <table border=\"1\" class=\"dataframe\">\n",
       "  <thead>\n",
       "    <tr style=\"text-align: right;\">\n",
       "      <th></th>\n",
       "      <th>Recency</th>\n",
       "    </tr>\n",
       "  </thead>\n",
       "  <tbody>\n",
       "    <tr>\n",
       "      <th>count</th>\n",
       "      <td>5.000000</td>\n",
       "    </tr>\n",
       "    <tr>\n",
       "      <th>mean</th>\n",
       "      <td>49.311865</td>\n",
       "    </tr>\n",
       "    <tr>\n",
       "      <th>std</th>\n",
       "      <td>31.139008</td>\n",
       "    </tr>\n",
       "    <tr>\n",
       "      <th>min</th>\n",
       "      <td>14.682927</td>\n",
       "    </tr>\n",
       "    <tr>\n",
       "      <th>25%</th>\n",
       "      <td>32.861972</td>\n",
       "    </tr>\n",
       "    <tr>\n",
       "      <th>50%</th>\n",
       "      <td>43.584270</td>\n",
       "    </tr>\n",
       "    <tr>\n",
       "      <th>75%</th>\n",
       "      <td>58.189474</td>\n",
       "    </tr>\n",
       "    <tr>\n",
       "      <th>max</th>\n",
       "      <td>97.240685</td>\n",
       "    </tr>\n",
       "  </tbody>\n",
       "</table></div>"
      ],
      "text/plain": [
       "         Recency\n",
       "count   5.000000\n",
       "mean   49.311865\n",
       "std    31.139008\n",
       "min    14.682927\n",
       "25%    32.861972\n",
       "50%    43.584270\n",
       "75%    58.189474\n",
       "max    97.240685"
      ]
     },
     "execution_count": 33,
     "metadata": {},
     "output_type": "execute_result"
    }
   ],
   "source": [
    "dfr.describe()"
   ]
  },
  {
   "cell_type": "code",
   "execution_count": 34,
   "id": "845ee4a5",
   "metadata": {},
   "outputs": [
    {
     "data": {
      "text/plain": [
       "([<matplotlib.axis.XTick at 0x2091a9f4be0>,\n",
       "  <matplotlib.axis.XTick at 0x2091a9f4bb0>,\n",
       "  <matplotlib.axis.XTick at 0x2091ac08880>,\n",
       "  <matplotlib.axis.XTick at 0x2091ac1c1c0>,\n",
       "  <matplotlib.axis.XTick at 0x2091ac1c910>],\n",
       " [Text(0, 0, 'Lost Customers'),\n",
       "  Text(1, 0, 'Low Value Customers'),\n",
       "  Text(2, 0, 'Medium Value Customer'),\n",
       "  Text(3, 0, 'High Value Customer'),\n",
       "  Text(4, 0, 'Top Customers')])"
      ]
     },
     "execution_count": 34,
     "metadata": {},
     "output_type": "execute_result"
    },
    {
     "data": {
      "image/png": "[encoded data removed]",
      "text/plain": [
       "<Figure size 800x400 with 1 Axes>"
      ]
     },
     "metadata": {},
     "output_type": "display_data"
    }
   ],
   "source": [
    "dff=pd.DataFrame(RFM_df.groupby('Customer_segment').agg('Frequency').mean().reset_index())\n",
    "fig, ax = plt.subplots()\n",
    "dff.sort_values('Frequency', ascending=True).plot(kind='bar', colormap='Reds_r', ax=ax, figsize=(8,4))\n",
    "ax.set_title(\"Frequency Vs Segmentation of Customers\")\n",
    "plt.xticks(rotation=45)\n",
    "plt.xticks([0, 1, 2,3,4], ['Lost Customers', 'Low Value Customers','Medium Value Customer','High Value Customer', 'Top Customers'])"
   ]
  },
  {
   "cell_type": "code",
   "execution_count": 35,
   "id": "4ff39ce5",
   "metadata": {},
   "outputs": [
    {
     "data": {
      "text/html": [
       "<div><div id=f14b1679-dcae-4575-afd9-d25a20dc5a23 style=\"display:none; background-color:#9D6CFF; color:white; width:200px; height:30px; padding-left:5px; border-radius:4px; flex-direction:row; justify-content:space-around; align-items:center;\" onmouseover=\"this.style.backgroundColor='#BA9BF8'\" onmouseout=\"this.style.backgroundColor='#9D6CFF'\" onclick=\"window.commands?.execute('create-mitosheet-from-dataframe-output');\">See Full Dataframe in Mito</div> <script> if (window.commands?.hasCommand('create-mitosheet-from-dataframe-output')) document.getElementById('f14b1679-dcae-4575-afd9-d25a20dc5a23').style.display = 'flex' </script> <table border=\"1\" class=\"dataframe\">\n",
       "  <thead>\n",
       "    <tr style=\"text-align: right;\">\n",
       "      <th></th>\n",
       "      <th>Frequency</th>\n",
       "    </tr>\n",
       "  </thead>\n",
       "  <tbody>\n",
       "    <tr>\n",
       "      <th>count</th>\n",
       "      <td>5.000000</td>\n",
       "    </tr>\n",
       "    <tr>\n",
       "      <th>mean</th>\n",
       "      <td>6.951000</td>\n",
       "    </tr>\n",
       "    <tr>\n",
       "      <th>std</th>\n",
       "      <td>2.923057</td>\n",
       "    </tr>\n",
       "    <tr>\n",
       "      <th>min</th>\n",
       "      <td>3.081571</td>\n",
       "    </tr>\n",
       "    <tr>\n",
       "      <th>25%</th>\n",
       "      <td>5.265789</td>\n",
       "    </tr>\n",
       "    <tr>\n",
       "      <th>50%</th>\n",
       "      <td>7.044944</td>\n",
       "    </tr>\n",
       "    <tr>\n",
       "      <th>75%</th>\n",
       "      <td>8.830986</td>\n",
       "    </tr>\n",
       "    <tr>\n",
       "      <th>max</th>\n",
       "      <td>10.531707</td>\n",
       "    </tr>\n",
       "  </tbody>\n",
       "</table></div>"
      ],
      "text/plain": [
       "       Frequency\n",
       "count   5.000000\n",
       "mean    6.951000\n",
       "std     2.923057\n",
       "min     3.081571\n",
       "25%     5.265789\n",
       "50%     7.044944\n",
       "75%     8.830986\n",
       "max    10.531707"
      ]
     },
     "execution_count": 35,
     "metadata": {},
     "output_type": "execute_result"
    }
   ],
   "source": [
    "dff.describe()"
   ]
  },
  {
   "cell_type": "code",
   "execution_count": 36,
   "id": "9bdaa347",
   "metadata": {},
   "outputs": [
    {
     "data": {
      "text/html": [
       "<div><div id=21564239-3a38-4270-bbea-a223cf38b989 style=\"display:none; background-color:#9D6CFF; color:white; width:200px; height:30px; padding-left:5px; border-radius:4px; flex-direction:row; justify-content:space-around; align-items:center;\" onmouseover=\"this.style.backgroundColor='#BA9BF8'\" onmouseout=\"this.style.backgroundColor='#9D6CFF'\" onclick=\"window.commands?.execute('create-mitosheet-from-dataframe-output');\">See Full Dataframe in Mito</div> <script> if (window.commands?.hasCommand('create-mitosheet-from-dataframe-output')) document.getElementById('21564239-3a38-4270-bbea-a223cf38b989').style.display = 'flex' </script> <table border=\"1\" class=\"dataframe\">\n",
       "  <thead>\n",
       "    <tr style=\"text-align: right;\">\n",
       "      <th></th>\n",
       "      <th>CustomerID</th>\n",
       "      <th>Recency</th>\n",
       "      <th>Frequency</th>\n",
       "      <th>Monetary</th>\n",
       "      <th>R_rank_norm</th>\n",
       "      <th>F_rank_norm</th>\n",
       "      <th>M_rank_norm</th>\n",
       "      <th>RFM_Score</th>\n",
       "      <th>Customer_segment</th>\n",
       "      <th>Final_Score</th>\n",
       "      <th>...</th>\n",
       "      <th>deceased_indicator</th>\n",
       "      <th>owns_car</th>\n",
       "      <th>tenure</th>\n",
       "      <th>age</th>\n",
       "      <th>address</th>\n",
       "      <th>postcode</th>\n",
       "      <th>state</th>\n",
       "      <th>country</th>\n",
       "      <th>property_valuation</th>\n",
       "      <th>Total</th>\n",
       "    </tr>\n",
       "  </thead>\n",
       "  <tbody>\n",
       "    <tr>\n",
       "      <th>1936</th>\n",
       "      <td>1940</td>\n",
       "      <td>76</td>\n",
       "      <td>4</td>\n",
       "      <td>3259.41</td>\n",
       "      <td>29.69</td>\n",
       "      <td>24.68</td>\n",
       "      <td>24.67</td>\n",
       "      <td>1.27</td>\n",
       "      <td>Lost Customers</td>\n",
       "      <td>2</td>\n",
       "      <td>...</td>\n",
       "      <td>N</td>\n",
       "      <td>Yes</td>\n",
       "      <td>7.0</td>\n",
       "      <td>45.0</td>\n",
       "      <td>277 Lindbergh Alley</td>\n",
       "      <td>2100.0</td>\n",
       "      <td>New South Wales</td>\n",
       "      <td>Australia</td>\n",
       "      <td>11.0</td>\n",
       "      <td>1069.55</td>\n",
       "    </tr>\n",
       "  </tbody>\n",
       "</table></div>"
      ],
      "text/plain": [
       "      CustomerID  Recency  Frequency  Monetary  R_rank_norm  F_rank_norm  \\\n",
       "1936        1940       76          4   3259.41        29.69        24.68   \n",
       "\n",
       "      M_rank_norm  RFM_Score Customer_segment  Final_Score  ...  \\\n",
       "1936        24.67       1.27   Lost Customers            2  ...   \n",
       "\n",
       "      deceased_indicator  owns_car  tenure   age              address  \\\n",
       "1936                   N       Yes     7.0  45.0  277 Lindbergh Alley   \n",
       "\n",
       "     postcode            state    country property_valuation    Total  \n",
       "1936   2100.0  New South Wales  Australia               11.0  1069.55  \n",
       "\n",
       "[1 rows x 40 columns]"
      ]
     },
     "execution_count": 36,
     "metadata": {},
     "output_type": "execute_result"
    }
   ],
   "source": [
    "final_df = pd.merge(RFM_df, cust_df, left_index=True, right_index=True)\n",
    "final_df.sample()"
   ]
  },
  {
   "cell_type": "code",
   "execution_count": 37,
   "id": "00b2ac18",
   "metadata": {},
   "outputs": [
    {
     "data": {
      "text/plain": [
       "<AxesSubplot:xlabel='age'>"
      ]
     },
     "execution_count": 37,
     "metadata": {},
     "output_type": "execute_result"
    },
    {
     "data": {
      "image/png": "[encoded data removed]",
      "text/plain": [
       "<Figure size 1500x600 with 1 Axes>"
      ]
     },
     "metadata": {},
     "output_type": "display_data"
    }
   ],
   "source": [
    "final_df.groupby('age')['Customer_segment'].value_counts().unstack(level=1).plot.bar(stacked=True, figsize=(15,6))"
   ]
  },
  {
   "cell_type": "code",
   "execution_count": 38,
   "id": "774f878e",
   "metadata": {},
   "outputs": [
    {
     "data": {
      "text/plain": [
       "(array([0, 1, 2, 3, 4]),\n",
       " [Text(0, 0, 'High value Customer'),\n",
       "  Text(1, 0, 'Lost Customers'),\n",
       "  Text(2, 0, 'Low Value Customers'),\n",
       "  Text(3, 0, 'Medium Value Customer'),\n",
       "  Text(4, 0, 'Top Customers')])"
      ]
     },
     "execution_count": 38,
     "metadata": {},
     "output_type": "execute_result"
    },
    {
     "data": {
      "image/png": "[encoded data removed]",
      "text/plain": [
       "<Figure size 1500x600 with 1 Axes>"
      ]
     },
     "metadata": {},
     "output_type": "display_data"
    }
   ],
   "source": [
    "final_df.groupby('Customer_segment')['state'].value_counts().unstack(level=1).plot.bar(stacked=True, figsize=(15,6))\n",
    "plt.xticks(rotation=0)"
   ]
  },
  {
   "cell_type": "code",
   "execution_count": 39,
   "id": "de81abe0",
   "metadata": {},
   "outputs": [
    {
     "data": {
      "text/plain": [
       "Customer_segment       state          \n",
       "High value Customer    New South Wales    186\n",
       "                       Queensland          87\n",
       "                       Victoria            82\n",
       "Lost Customers         New South Wales    528\n",
       "                       Victoria           248\n",
       "                       Queensland         217\n",
       "Low Value Customers    New South Wales    601\n",
       "                       Victoria           273\n",
       "                       Queensland         266\n",
       "Medium Value Customer  New South Wales    438\n",
       "                       Victoria           200\n",
       "                       Queensland         163\n",
       "Top Customers          New South Wales    104\n",
       "                       Queensland          52\n",
       "                       Victoria            49\n",
       "Name: state, dtype: int64"
      ]
     },
     "execution_count": 39,
     "metadata": {},
     "output_type": "execute_result"
    }
   ],
   "source": [
    "final_df.groupby('Customer_segment')['state'].value_counts()"
   ]
  },
  {
   "cell_type": "code",
   "execution_count": null,
   "id": "11416aa5",
   "metadata": {},
   "outputs": [],
   "source": []
  }
 ],
 "metadata": {
  "kernelspec": {
   "display_name": "Python 3 (ipykernel)",
   "language": "python",
   "name": "python3"
  },
  "language_info": {
   "codemirror_mode": {
    "name": "ipython",
    "version": 3
   },
   "file_extension": ".py",
   "mimetype": "text/x-python",
   "name": "python",
   "nbconvert_exporter": "python",
   "pygments_lexer": "ipython3",
   "version": "3.9.12"
  }
 },
 "nbformat": 4,
 "nbformat_minor": 5
}
